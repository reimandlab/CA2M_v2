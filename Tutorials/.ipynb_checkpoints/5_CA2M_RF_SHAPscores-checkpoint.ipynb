{
 "cells": [
  {
   "cell_type": "markdown",
   "metadata": {},
   "source": [
    "# How to use tumor and normal chromatin accessibility and replication timing to predict regional mutation rates in cancer with a random forest machine learning model and assess predictor importance using SHAP scores"
   ]
  },
  {
   "cell_type": "markdown",
   "metadata": {},
   "source": [
    "### By: Oliver Ocsenas"
   ]
  },
  {
   "cell_type": "markdown",
   "metadata": {},
   "source": [
    "Similar to the previous tutorial ('4_CA2M_RF_FeatureSelection.ipynb'), we assess predictor importance in our random forest model. However, what if we're interested in the importance predictors for each specific observation (genomic window in this case) rather than an overall importance score. In that case, we can use SHAP scores to evaluate predictor importance for each window and each predictor in our analysis. As SHAP is a python package, we use the reticulate package in R which gives us access to python packages."
   ]
  },
  {
   "cell_type": "markdown",
   "metadata": {},
   "source": [
    "First, we will load in some useful packages."
   ]
  },
  {
   "cell_type": "code",
   "execution_count": 61,
   "metadata": {},
   "outputs": [
    {
     "data": {
      "text/html": [
       "<ol>\n",
       "\t<li>TRUE</li>\n",
       "\t<li>TRUE</li>\n",
       "\t<li>TRUE</li>\n",
       "</ol>\n"
      ],
      "text/latex": [
       "\\begin{enumerate}\n",
       "\\item TRUE\n",
       "\\item TRUE\n",
       "\\item TRUE\n",
       "\\end{enumerate}\n"
      ],
      "text/markdown": [
       "1. TRUE\n",
       "2. TRUE\n",
       "3. TRUE\n",
       "\n",
       "\n"
      ],
      "text/plain": [
       "[[1]]\n",
       "[1] TRUE\n",
       "\n",
       "[[2]]\n",
       "[1] TRUE\n",
       "\n",
       "[[3]]\n",
       "[1] TRUE\n"
      ]
     },
     "metadata": {},
     "output_type": "display_data"
    }
   ],
   "source": [
    "packages = c(\"data.table\", \"randomForest\", \"reticulate\")\n",
    "lapply(packages, function(x) suppressMessages(require(x, character.only = TRUE)))\n",
    "\n",
    "#Load in python packages using reticulate   \n",
    "shap = import(\"shap\")\n",
    "sklearn_ensemble=import(\"sklearn.ensemble\")\n",
    "matplotlib <- import(\"matplotlib\") \n",
    "matplotlib$use(\"Agg\", force = TRUE)"
   ]
  },
  {
   "cell_type": "markdown",
   "metadata": {},
   "source": [
    "Next, we will load in the appropriate data. This involves average binned tracks from tumor and normal tissue chromatin accessibility and replication timing at the megabase-scale."
   ]
  },
  {
   "cell_type": "code",
   "execution_count": 3,
   "metadata": {},
   "outputs": [
    {
     "data": {
      "text/html": [
       "<table>\n",
       "<caption>A data.table: 3 × 871</caption>\n",
       "<thead>\n",
       "\t<tr><th scope=col>chr</th><th scope=col>start</th><th scope=col>ACC TCGA-OR-A5J2</th><th scope=col>ACC TCGA-OR-A5J3</th><th scope=col>ACC TCGA-OR-A5J6</th><th scope=col>ACC TCGA-OR-A5J9</th><th scope=col>ACC TCGA-OR-A5JZ</th><th scope=col>ACC TCGA-OR-A5K8</th><th scope=col>ACC TCGA-OR-A5KX</th><th scope=col>ACC TCGA-PA-A5YG</th><th scope=col>⋯</th><th scope=col>Repli seq of NHEK S1 phase</th><th scope=col>Repli seq of NHEK S2 phase</th><th scope=col>Repli seq of NHEK S3 phase</th><th scope=col>Repli seq of NHEK S4 phase</th><th scope=col>Repli seq of SK N SH G1 phase</th><th scope=col>Repli seq of SK N SH G2 phase</th><th scope=col>Repli seq of SK N SH S1 phase</th><th scope=col>Repli seq of SK N SH S2 phase</th><th scope=col>Repli seq of SK N SH S3 phase</th><th scope=col>Repli seq of SK N SH S4 phase</th></tr>\n",
       "\t<tr><th scope=col>&lt;chr&gt;</th><th scope=col>&lt;int&gt;</th><th scope=col>&lt;dbl&gt;</th><th scope=col>&lt;dbl&gt;</th><th scope=col>&lt;dbl&gt;</th><th scope=col>&lt;dbl&gt;</th><th scope=col>&lt;dbl&gt;</th><th scope=col>&lt;dbl&gt;</th><th scope=col>&lt;dbl&gt;</th><th scope=col>&lt;dbl&gt;</th><th scope=col>⋯</th><th scope=col>&lt;dbl&gt;</th><th scope=col>&lt;dbl&gt;</th><th scope=col>&lt;dbl&gt;</th><th scope=col>&lt;dbl&gt;</th><th scope=col>&lt;dbl&gt;</th><th scope=col>&lt;dbl&gt;</th><th scope=col>&lt;dbl&gt;</th><th scope=col>&lt;dbl&gt;</th><th scope=col>&lt;dbl&gt;</th><th scope=col>&lt;dbl&gt;</th></tr>\n",
       "</thead>\n",
       "<tbody>\n",
       "\t<tr><td>chr1</td><td>2000001</td><td>3.985625</td><td>3.3680199</td><td>4.549601</td><td>1.8892585</td><td>3.274139</td><td>3.1206030</td><td>2.9564165</td><td>3.9239266</td><td>⋯</td><td>16.263372</td><td>12.02102</td><td>11.92807</td><td> 8.420803</td><td>39.16145</td><td>9.017025</td><td>22.80582</td><td>13.88087</td><td> 5.706045</td><td> 3.00250</td></tr>\n",
       "\t<tr><td>chr1</td><td>3000001</td><td>3.777538</td><td>2.1058428</td><td>2.733947</td><td>1.3259219</td><td>1.865876</td><td>1.7705485</td><td>1.9169945</td><td>1.8410087</td><td>⋯</td><td>20.766127</td><td>19.64354</td><td>16.83726</td><td> 9.974132</td><td>25.69529</td><td>7.608355</td><td>29.66111</td><td>22.55539</td><td> 9.649642</td><td> 4.16149</td></tr>\n",
       "\t<tr><td>chr1</td><td>4000001</td><td>1.755230</td><td>0.8019908</td><td>1.247900</td><td>0.4344994</td><td>0.395774</td><td>0.6742724</td><td>0.4020992</td><td>0.3389768</td><td>⋯</td><td> 6.231268</td><td>15.36473</td><td>36.71549</td><td>28.632269</td><td> 8.97739</td><td>8.460000</td><td>14.95429</td><td>24.74951</td><td>29.078391</td><td>13.69341</td></tr>\n",
       "</tbody>\n",
       "</table>\n"
      ],
      "text/latex": [
       "A data.table: 3 × 871\n",
       "\\begin{tabular}{lllllllllllllllllllll}\n",
       " chr & start & ACC TCGA-OR-A5J2 & ACC TCGA-OR-A5J3 & ACC TCGA-OR-A5J6 & ACC TCGA-OR-A5J9 & ACC TCGA-OR-A5JZ & ACC TCGA-OR-A5K8 & ACC TCGA-OR-A5KX & ACC TCGA-PA-A5YG & ⋯ & Repli seq of NHEK S1 phase & Repli seq of NHEK S2 phase & Repli seq of NHEK S3 phase & Repli seq of NHEK S4 phase & Repli seq of SK N SH G1 phase & Repli seq of SK N SH G2 phase & Repli seq of SK N SH S1 phase & Repli seq of SK N SH S2 phase & Repli seq of SK N SH S3 phase & Repli seq of SK N SH S4 phase\\\\\n",
       " <chr> & <int> & <dbl> & <dbl> & <dbl> & <dbl> & <dbl> & <dbl> & <dbl> & <dbl> & ⋯ & <dbl> & <dbl> & <dbl> & <dbl> & <dbl> & <dbl> & <dbl> & <dbl> & <dbl> & <dbl>\\\\\n",
       "\\hline\n",
       "\t chr1 & 2000001 & 3.985625 & 3.3680199 & 4.549601 & 1.8892585 & 3.274139 & 3.1206030 & 2.9564165 & 3.9239266 & ⋯ & 16.263372 & 12.02102 & 11.92807 &  8.420803 & 39.16145 & 9.017025 & 22.80582 & 13.88087 &  5.706045 &  3.00250\\\\\n",
       "\t chr1 & 3000001 & 3.777538 & 2.1058428 & 2.733947 & 1.3259219 & 1.865876 & 1.7705485 & 1.9169945 & 1.8410087 & ⋯ & 20.766127 & 19.64354 & 16.83726 &  9.974132 & 25.69529 & 7.608355 & 29.66111 & 22.55539 &  9.649642 &  4.16149\\\\\n",
       "\t chr1 & 4000001 & 1.755230 & 0.8019908 & 1.247900 & 0.4344994 & 0.395774 & 0.6742724 & 0.4020992 & 0.3389768 & ⋯ &  6.231268 & 15.36473 & 36.71549 & 28.632269 &  8.97739 & 8.460000 & 14.95429 & 24.74951 & 29.078391 & 13.69341\\\\\n",
       "\\end{tabular}\n"
      ],
      "text/markdown": [
       "\n",
       "A data.table: 3 × 871\n",
       "\n",
       "| chr &lt;chr&gt; | start &lt;int&gt; | ACC TCGA-OR-A5J2 &lt;dbl&gt; | ACC TCGA-OR-A5J3 &lt;dbl&gt; | ACC TCGA-OR-A5J6 &lt;dbl&gt; | ACC TCGA-OR-A5J9 &lt;dbl&gt; | ACC TCGA-OR-A5JZ &lt;dbl&gt; | ACC TCGA-OR-A5K8 &lt;dbl&gt; | ACC TCGA-OR-A5KX &lt;dbl&gt; | ACC TCGA-PA-A5YG &lt;dbl&gt; | ⋯ ⋯ | Repli seq of NHEK S1 phase &lt;dbl&gt; | Repli seq of NHEK S2 phase &lt;dbl&gt; | Repli seq of NHEK S3 phase &lt;dbl&gt; | Repli seq of NHEK S4 phase &lt;dbl&gt; | Repli seq of SK N SH G1 phase &lt;dbl&gt; | Repli seq of SK N SH G2 phase &lt;dbl&gt; | Repli seq of SK N SH S1 phase &lt;dbl&gt; | Repli seq of SK N SH S2 phase &lt;dbl&gt; | Repli seq of SK N SH S3 phase &lt;dbl&gt; | Repli seq of SK N SH S4 phase &lt;dbl&gt; |\n",
       "|---|---|---|---|---|---|---|---|---|---|---|---|---|---|---|---|---|---|---|---|---|\n",
       "| chr1 | 2000001 | 3.985625 | 3.3680199 | 4.549601 | 1.8892585 | 3.274139 | 3.1206030 | 2.9564165 | 3.9239266 | ⋯ | 16.263372 | 12.02102 | 11.92807 |  8.420803 | 39.16145 | 9.017025 | 22.80582 | 13.88087 |  5.706045 |  3.00250 |\n",
       "| chr1 | 3000001 | 3.777538 | 2.1058428 | 2.733947 | 1.3259219 | 1.865876 | 1.7705485 | 1.9169945 | 1.8410087 | ⋯ | 20.766127 | 19.64354 | 16.83726 |  9.974132 | 25.69529 | 7.608355 | 29.66111 | 22.55539 |  9.649642 |  4.16149 |\n",
       "| chr1 | 4000001 | 1.755230 | 0.8019908 | 1.247900 | 0.4344994 | 0.395774 | 0.6742724 | 0.4020992 | 0.3389768 | ⋯ |  6.231268 | 15.36473 | 36.71549 | 28.632269 |  8.97739 | 8.460000 | 14.95429 | 24.74951 | 29.078391 | 13.69341 |\n",
       "\n"
      ],
      "text/plain": [
       "  chr  start   ACC TCGA-OR-A5J2 ACC TCGA-OR-A5J3 ACC TCGA-OR-A5J6\n",
       "1 chr1 2000001 3.985625         3.3680199        4.549601        \n",
       "2 chr1 3000001 3.777538         2.1058428        2.733947        \n",
       "3 chr1 4000001 1.755230         0.8019908        1.247900        \n",
       "  ACC TCGA-OR-A5J9 ACC TCGA-OR-A5JZ ACC TCGA-OR-A5K8 ACC TCGA-OR-A5KX\n",
       "1 1.8892585        3.274139         3.1206030        2.9564165       \n",
       "2 1.3259219        1.865876         1.7705485        1.9169945       \n",
       "3 0.4344994        0.395774         0.6742724        0.4020992       \n",
       "  ACC TCGA-PA-A5YG <U+22EF>        Repli seq of NHEK S1 phase\n",
       "1 3.9239266        <U+22EF> 16.263372                 \n",
       "2 1.8410087        <U+22EF> 20.766127                 \n",
       "3 0.3389768        <U+22EF>  6.231268                 \n",
       "  Repli seq of NHEK S2 phase Repli seq of NHEK S3 phase\n",
       "1 12.02102                   11.92807                  \n",
       "2 19.64354                   16.83726                  \n",
       "3 15.36473                   36.71549                  \n",
       "  Repli seq of NHEK S4 phase Repli seq of SK N SH G1 phase\n",
       "1  8.420803                  39.16145                     \n",
       "2  9.974132                  25.69529                     \n",
       "3 28.632269                   8.97739                     \n",
       "  Repli seq of SK N SH G2 phase Repli seq of SK N SH S1 phase\n",
       "1 9.017025                      22.80582                     \n",
       "2 7.608355                      29.66111                     \n",
       "3 8.460000                      14.95429                     \n",
       "  Repli seq of SK N SH S2 phase Repli seq of SK N SH S3 phase\n",
       "1 13.88087                       5.706045                    \n",
       "2 22.55539                       9.649642                    \n",
       "3 24.74951                      29.078391                    \n",
       "  Repli seq of SK N SH S4 phase\n",
       "1  3.00250                     \n",
       "2  4.16149                     \n",
       "3 13.69341                     "
      ]
     },
     "metadata": {},
     "output_type": "display_data"
    }
   ],
   "source": [
    "CA_RT_MBscale = fread(\"data/All_CA_RT_1MB_scale.csv.gz\")\n",
    "head(CA_RT_MBscale, 3)"
   ]
  },
  {
   "cell_type": "markdown",
   "metadata": {},
   "source": [
    "We will also load in the binned mutation (SNV only) track from 18 cohorts (including pan-cancer) in the PCAWG dataset."
   ]
  },
  {
   "cell_type": "code",
   "execution_count": 4,
   "metadata": {},
   "outputs": [
    {
     "data": {
      "text/html": [
       "<table>\n",
       "<caption>A data.table: 6 × 20</caption>\n",
       "<thead>\n",
       "\t<tr><th scope=col>chr</th><th scope=col>start</th><th scope=col>PANCAN</th><th scope=col>Breast-AdenoCa</th><th scope=col>Prost-AdenoCA</th><th scope=col>Kidney-RCC</th><th scope=col>Skin-Melanoma</th><th scope=col>Uterus-AdenoCA</th><th scope=col>Eso-AdenoCa</th><th scope=col>Stomach-AdenoCA</th><th scope=col>CNS-GBM</th><th scope=col>Lung-SCC</th><th scope=col>ColoRect-AdenoCA</th><th scope=col>Biliary-AdenoCA</th><th scope=col>Head-SCC</th><th scope=col>Lymph-CLL</th><th scope=col>Lung-AdenoCA</th><th scope=col>Lymph-BNHL</th><th scope=col>Liver-HCC</th><th scope=col>Thy-AdenoCA</th></tr>\n",
       "\t<tr><th scope=col>&lt;chr&gt;</th><th scope=col>&lt;int&gt;</th><th scope=col>&lt;int&gt;</th><th scope=col>&lt;int&gt;</th><th scope=col>&lt;int&gt;</th><th scope=col>&lt;int&gt;</th><th scope=col>&lt;int&gt;</th><th scope=col>&lt;int&gt;</th><th scope=col>&lt;int&gt;</th><th scope=col>&lt;int&gt;</th><th scope=col>&lt;int&gt;</th><th scope=col>&lt;int&gt;</th><th scope=col>&lt;int&gt;</th><th scope=col>&lt;int&gt;</th><th scope=col>&lt;int&gt;</th><th scope=col>&lt;int&gt;</th><th scope=col>&lt;int&gt;</th><th scope=col>&lt;int&gt;</th><th scope=col>&lt;int&gt;</th><th scope=col>&lt;int&gt;</th></tr>\n",
       "</thead>\n",
       "<tbody>\n",
       "\t<tr><td>chr1</td><td>2000001</td><td> 5423</td><td>403</td><td>209</td><td>267</td><td> 600</td><td>141</td><td> 407</td><td>207</td><td> 88</td><td>362</td><td>147</td><td> 57</td><td>210</td><td>34</td><td>194</td><td>224</td><td> 649</td><td>16</td></tr>\n",
       "\t<tr><td>chr1</td><td>3000001</td><td> 5870</td><td>529</td><td>196</td><td>328</td><td> 682</td><td>170</td><td> 406</td><td>189</td><td> 71</td><td>342</td><td>161</td><td> 44</td><td>255</td><td>49</td><td>181</td><td>222</td><td> 764</td><td>13</td></tr>\n",
       "\t<tr><td>chr1</td><td>4000001</td><td>11489</td><td>688</td><td>339</td><td>355</td><td>1106</td><td>267</td><td>1933</td><td>488</td><td>128</td><td>587</td><td>351</td><td>105</td><td>356</td><td>80</td><td>541</td><td>331</td><td>1571</td><td>28</td></tr>\n",
       "\t<tr><td>chr1</td><td>5000001</td><td> 9773</td><td>499</td><td>259</td><td>361</td><td>1149</td><td>210</td><td>1364</td><td>375</td><td>100</td><td>516</td><td>246</td><td>111</td><td>283</td><td>80</td><td>398</td><td>319</td><td>1546</td><td>25</td></tr>\n",
       "\t<tr><td>chr1</td><td>6000001</td><td> 4779</td><td>344</td><td>161</td><td>266</td><td> 398</td><td>138</td><td> 339</td><td>164</td><td> 55</td><td>265</td><td>120</td><td> 46</td><td>217</td><td>39</td><td>187</td><td>192</td><td> 705</td><td>11</td></tr>\n",
       "\t<tr><td>chr1</td><td>7000001</td><td> 5418</td><td>344</td><td>166</td><td>243</td><td> 611</td><td>154</td><td> 383</td><td>206</td><td> 49</td><td>323</td><td>158</td><td> 50</td><td>232</td><td>74</td><td>236</td><td>206</td><td> 752</td><td>15</td></tr>\n",
       "</tbody>\n",
       "</table>\n"
      ],
      "text/latex": [
       "A data.table: 6 × 20\n",
       "\\begin{tabular}{llllllllllllllllllll}\n",
       " chr & start & PANCAN & Breast-AdenoCa & Prost-AdenoCA & Kidney-RCC & Skin-Melanoma & Uterus-AdenoCA & Eso-AdenoCa & Stomach-AdenoCA & CNS-GBM & Lung-SCC & ColoRect-AdenoCA & Biliary-AdenoCA & Head-SCC & Lymph-CLL & Lung-AdenoCA & Lymph-BNHL & Liver-HCC & Thy-AdenoCA\\\\\n",
       " <chr> & <int> & <int> & <int> & <int> & <int> & <int> & <int> & <int> & <int> & <int> & <int> & <int> & <int> & <int> & <int> & <int> & <int> & <int> & <int>\\\\\n",
       "\\hline\n",
       "\t chr1 & 2000001 &  5423 & 403 & 209 & 267 &  600 & 141 &  407 & 207 &  88 & 362 & 147 &  57 & 210 & 34 & 194 & 224 &  649 & 16\\\\\n",
       "\t chr1 & 3000001 &  5870 & 529 & 196 & 328 &  682 & 170 &  406 & 189 &  71 & 342 & 161 &  44 & 255 & 49 & 181 & 222 &  764 & 13\\\\\n",
       "\t chr1 & 4000001 & 11489 & 688 & 339 & 355 & 1106 & 267 & 1933 & 488 & 128 & 587 & 351 & 105 & 356 & 80 & 541 & 331 & 1571 & 28\\\\\n",
       "\t chr1 & 5000001 &  9773 & 499 & 259 & 361 & 1149 & 210 & 1364 & 375 & 100 & 516 & 246 & 111 & 283 & 80 & 398 & 319 & 1546 & 25\\\\\n",
       "\t chr1 & 6000001 &  4779 & 344 & 161 & 266 &  398 & 138 &  339 & 164 &  55 & 265 & 120 &  46 & 217 & 39 & 187 & 192 &  705 & 11\\\\\n",
       "\t chr1 & 7000001 &  5418 & 344 & 166 & 243 &  611 & 154 &  383 & 206 &  49 & 323 & 158 &  50 & 232 & 74 & 236 & 206 &  752 & 15\\\\\n",
       "\\end{tabular}\n"
      ],
      "text/markdown": [
       "\n",
       "A data.table: 6 × 20\n",
       "\n",
       "| chr &lt;chr&gt; | start &lt;int&gt; | PANCAN &lt;int&gt; | Breast-AdenoCa &lt;int&gt; | Prost-AdenoCA &lt;int&gt; | Kidney-RCC &lt;int&gt; | Skin-Melanoma &lt;int&gt; | Uterus-AdenoCA &lt;int&gt; | Eso-AdenoCa &lt;int&gt; | Stomach-AdenoCA &lt;int&gt; | CNS-GBM &lt;int&gt; | Lung-SCC &lt;int&gt; | ColoRect-AdenoCA &lt;int&gt; | Biliary-AdenoCA &lt;int&gt; | Head-SCC &lt;int&gt; | Lymph-CLL &lt;int&gt; | Lung-AdenoCA &lt;int&gt; | Lymph-BNHL &lt;int&gt; | Liver-HCC &lt;int&gt; | Thy-AdenoCA &lt;int&gt; |\n",
       "|---|---|---|---|---|---|---|---|---|---|---|---|---|---|---|---|---|---|---|---|\n",
       "| chr1 | 2000001 |  5423 | 403 | 209 | 267 |  600 | 141 |  407 | 207 |  88 | 362 | 147 |  57 | 210 | 34 | 194 | 224 |  649 | 16 |\n",
       "| chr1 | 3000001 |  5870 | 529 | 196 | 328 |  682 | 170 |  406 | 189 |  71 | 342 | 161 |  44 | 255 | 49 | 181 | 222 |  764 | 13 |\n",
       "| chr1 | 4000001 | 11489 | 688 | 339 | 355 | 1106 | 267 | 1933 | 488 | 128 | 587 | 351 | 105 | 356 | 80 | 541 | 331 | 1571 | 28 |\n",
       "| chr1 | 5000001 |  9773 | 499 | 259 | 361 | 1149 | 210 | 1364 | 375 | 100 | 516 | 246 | 111 | 283 | 80 | 398 | 319 | 1546 | 25 |\n",
       "| chr1 | 6000001 |  4779 | 344 | 161 | 266 |  398 | 138 |  339 | 164 |  55 | 265 | 120 |  46 | 217 | 39 | 187 | 192 |  705 | 11 |\n",
       "| chr1 | 7000001 |  5418 | 344 | 166 | 243 |  611 | 154 |  383 | 206 |  49 | 323 | 158 |  50 | 232 | 74 | 236 | 206 |  752 | 15 |\n",
       "\n"
      ],
      "text/plain": [
       "  chr  start   PANCAN Breast-AdenoCa Prost-AdenoCA Kidney-RCC Skin-Melanoma\n",
       "1 chr1 2000001  5423  403            209           267         600         \n",
       "2 chr1 3000001  5870  529            196           328         682         \n",
       "3 chr1 4000001 11489  688            339           355        1106         \n",
       "4 chr1 5000001  9773  499            259           361        1149         \n",
       "5 chr1 6000001  4779  344            161           266         398         \n",
       "6 chr1 7000001  5418  344            166           243         611         \n",
       "  Uterus-AdenoCA Eso-AdenoCa Stomach-AdenoCA CNS-GBM Lung-SCC ColoRect-AdenoCA\n",
       "1 141             407        207              88     362      147             \n",
       "2 170             406        189              71     342      161             \n",
       "3 267            1933        488             128     587      351             \n",
       "4 210            1364        375             100     516      246             \n",
       "5 138             339        164              55     265      120             \n",
       "6 154             383        206              49     323      158             \n",
       "  Biliary-AdenoCA Head-SCC Lymph-CLL Lung-AdenoCA Lymph-BNHL Liver-HCC\n",
       "1  57             210      34        194          224         649     \n",
       "2  44             255      49        181          222         764     \n",
       "3 105             356      80        541          331        1571     \n",
       "4 111             283      80        398          319        1546     \n",
       "5  46             217      39        187          192         705     \n",
       "6  50             232      74        236          206         752     \n",
       "  Thy-AdenoCA\n",
       "1 16         \n",
       "2 13         \n",
       "3 28         \n",
       "4 25         \n",
       "5 11         \n",
       "6 15         "
      ]
     },
     "metadata": {},
     "output_type": "display_data"
    }
   ],
   "source": [
    "PCAWG_mutations_binned_MBscale = fread(\"data/PCAWG_SNVbinned_MBscale.csv.gz\")\n",
    "head(PCAWG_mutations_binned_MBscale)"
   ]
  },
  {
   "cell_type": "markdown",
   "metadata": {},
   "source": [
    "We can now train a random forest model the combined chromatin accessibility dataset and replication timing dataset to predict mutation rates in our cohort of interest (in this example, we will use breast cancer) and then assess individual predictor importance."
   ]
  },
  {
   "cell_type": "markdown",
   "metadata": {},
   "source": [
    "First we merge the predictor set with the response vector based on genomic coordinates (first 2 columns)."
   ]
  },
  {
   "cell_type": "code",
   "execution_count": 5,
   "metadata": {},
   "outputs": [
    {
     "data": {
      "text/html": [
       "<table>\n",
       "<caption>A data.table: 3 × 872</caption>\n",
       "<thead>\n",
       "\t<tr><th scope=col>chr</th><th scope=col>start</th><th scope=col>ACC TCGA-OR-A5J2</th><th scope=col>ACC TCGA-OR-A5J3</th><th scope=col>ACC TCGA-OR-A5J6</th><th scope=col>ACC TCGA-OR-A5J9</th><th scope=col>ACC TCGA-OR-A5JZ</th><th scope=col>ACC TCGA-OR-A5K8</th><th scope=col>ACC TCGA-OR-A5KX</th><th scope=col>ACC TCGA-PA-A5YG</th><th scope=col>⋯</th><th scope=col>Repli seq of NHEK S2 phase</th><th scope=col>Repli seq of NHEK S3 phase</th><th scope=col>Repli seq of NHEK S4 phase</th><th scope=col>Repli seq of SK N SH G1 phase</th><th scope=col>Repli seq of SK N SH G2 phase</th><th scope=col>Repli seq of SK N SH S1 phase</th><th scope=col>Repli seq of SK N SH S2 phase</th><th scope=col>Repli seq of SK N SH S3 phase</th><th scope=col>Repli seq of SK N SH S4 phase</th><th scope=col>Breast-AdenoCa</th></tr>\n",
       "\t<tr><th scope=col>&lt;chr&gt;</th><th scope=col>&lt;int&gt;</th><th scope=col>&lt;dbl&gt;</th><th scope=col>&lt;dbl&gt;</th><th scope=col>&lt;dbl&gt;</th><th scope=col>&lt;dbl&gt;</th><th scope=col>&lt;dbl&gt;</th><th scope=col>&lt;dbl&gt;</th><th scope=col>&lt;dbl&gt;</th><th scope=col>&lt;dbl&gt;</th><th scope=col>⋯</th><th scope=col>&lt;dbl&gt;</th><th scope=col>&lt;dbl&gt;</th><th scope=col>&lt;dbl&gt;</th><th scope=col>&lt;dbl&gt;</th><th scope=col>&lt;dbl&gt;</th><th scope=col>&lt;dbl&gt;</th><th scope=col>&lt;dbl&gt;</th><th scope=col>&lt;dbl&gt;</th><th scope=col>&lt;dbl&gt;</th><th scope=col>&lt;int&gt;</th></tr>\n",
       "</thead>\n",
       "<tbody>\n",
       "\t<tr><td>chr1</td><td>2000001</td><td>3.985625</td><td>3.3680199</td><td>4.549601</td><td>1.8892585</td><td>3.274139</td><td>3.1206030</td><td>2.9564165</td><td>3.9239266</td><td>⋯</td><td>12.02102</td><td>11.92807</td><td> 8.420803</td><td>39.16145</td><td>9.017025</td><td>22.80582</td><td>13.88087</td><td> 5.706045</td><td> 3.00250</td><td>403</td></tr>\n",
       "\t<tr><td>chr1</td><td>3000001</td><td>3.777538</td><td>2.1058428</td><td>2.733947</td><td>1.3259219</td><td>1.865876</td><td>1.7705485</td><td>1.9169945</td><td>1.8410087</td><td>⋯</td><td>19.64354</td><td>16.83726</td><td> 9.974132</td><td>25.69529</td><td>7.608355</td><td>29.66111</td><td>22.55539</td><td> 9.649642</td><td> 4.16149</td><td>529</td></tr>\n",
       "\t<tr><td>chr1</td><td>4000001</td><td>1.755230</td><td>0.8019908</td><td>1.247900</td><td>0.4344994</td><td>0.395774</td><td>0.6742724</td><td>0.4020992</td><td>0.3389768</td><td>⋯</td><td>15.36473</td><td>36.71549</td><td>28.632269</td><td> 8.97739</td><td>8.460000</td><td>14.95429</td><td>24.74951</td><td>29.078391</td><td>13.69341</td><td>688</td></tr>\n",
       "</tbody>\n",
       "</table>\n"
      ],
      "text/latex": [
       "A data.table: 3 × 872\n",
       "\\begin{tabular}{lllllllllllllllllllll}\n",
       " chr & start & ACC TCGA-OR-A5J2 & ACC TCGA-OR-A5J3 & ACC TCGA-OR-A5J6 & ACC TCGA-OR-A5J9 & ACC TCGA-OR-A5JZ & ACC TCGA-OR-A5K8 & ACC TCGA-OR-A5KX & ACC TCGA-PA-A5YG & ⋯ & Repli seq of NHEK S2 phase & Repli seq of NHEK S3 phase & Repli seq of NHEK S4 phase & Repli seq of SK N SH G1 phase & Repli seq of SK N SH G2 phase & Repli seq of SK N SH S1 phase & Repli seq of SK N SH S2 phase & Repli seq of SK N SH S3 phase & Repli seq of SK N SH S4 phase & Breast-AdenoCa\\\\\n",
       " <chr> & <int> & <dbl> & <dbl> & <dbl> & <dbl> & <dbl> & <dbl> & <dbl> & <dbl> & ⋯ & <dbl> & <dbl> & <dbl> & <dbl> & <dbl> & <dbl> & <dbl> & <dbl> & <dbl> & <int>\\\\\n",
       "\\hline\n",
       "\t chr1 & 2000001 & 3.985625 & 3.3680199 & 4.549601 & 1.8892585 & 3.274139 & 3.1206030 & 2.9564165 & 3.9239266 & ⋯ & 12.02102 & 11.92807 &  8.420803 & 39.16145 & 9.017025 & 22.80582 & 13.88087 &  5.706045 &  3.00250 & 403\\\\\n",
       "\t chr1 & 3000001 & 3.777538 & 2.1058428 & 2.733947 & 1.3259219 & 1.865876 & 1.7705485 & 1.9169945 & 1.8410087 & ⋯ & 19.64354 & 16.83726 &  9.974132 & 25.69529 & 7.608355 & 29.66111 & 22.55539 &  9.649642 &  4.16149 & 529\\\\\n",
       "\t chr1 & 4000001 & 1.755230 & 0.8019908 & 1.247900 & 0.4344994 & 0.395774 & 0.6742724 & 0.4020992 & 0.3389768 & ⋯ & 15.36473 & 36.71549 & 28.632269 &  8.97739 & 8.460000 & 14.95429 & 24.74951 & 29.078391 & 13.69341 & 688\\\\\n",
       "\\end{tabular}\n"
      ],
      "text/markdown": [
       "\n",
       "A data.table: 3 × 872\n",
       "\n",
       "| chr &lt;chr&gt; | start &lt;int&gt; | ACC TCGA-OR-A5J2 &lt;dbl&gt; | ACC TCGA-OR-A5J3 &lt;dbl&gt; | ACC TCGA-OR-A5J6 &lt;dbl&gt; | ACC TCGA-OR-A5J9 &lt;dbl&gt; | ACC TCGA-OR-A5JZ &lt;dbl&gt; | ACC TCGA-OR-A5K8 &lt;dbl&gt; | ACC TCGA-OR-A5KX &lt;dbl&gt; | ACC TCGA-PA-A5YG &lt;dbl&gt; | ⋯ ⋯ | Repli seq of NHEK S2 phase &lt;dbl&gt; | Repli seq of NHEK S3 phase &lt;dbl&gt; | Repli seq of NHEK S4 phase &lt;dbl&gt; | Repli seq of SK N SH G1 phase &lt;dbl&gt; | Repli seq of SK N SH G2 phase &lt;dbl&gt; | Repli seq of SK N SH S1 phase &lt;dbl&gt; | Repli seq of SK N SH S2 phase &lt;dbl&gt; | Repli seq of SK N SH S3 phase &lt;dbl&gt; | Repli seq of SK N SH S4 phase &lt;dbl&gt; | Breast-AdenoCa &lt;int&gt; |\n",
       "|---|---|---|---|---|---|---|---|---|---|---|---|---|---|---|---|---|---|---|---|---|\n",
       "| chr1 | 2000001 | 3.985625 | 3.3680199 | 4.549601 | 1.8892585 | 3.274139 | 3.1206030 | 2.9564165 | 3.9239266 | ⋯ | 12.02102 | 11.92807 |  8.420803 | 39.16145 | 9.017025 | 22.80582 | 13.88087 |  5.706045 |  3.00250 | 403 |\n",
       "| chr1 | 3000001 | 3.777538 | 2.1058428 | 2.733947 | 1.3259219 | 1.865876 | 1.7705485 | 1.9169945 | 1.8410087 | ⋯ | 19.64354 | 16.83726 |  9.974132 | 25.69529 | 7.608355 | 29.66111 | 22.55539 |  9.649642 |  4.16149 | 529 |\n",
       "| chr1 | 4000001 | 1.755230 | 0.8019908 | 1.247900 | 0.4344994 | 0.395774 | 0.6742724 | 0.4020992 | 0.3389768 | ⋯ | 15.36473 | 36.71549 | 28.632269 |  8.97739 | 8.460000 | 14.95429 | 24.74951 | 29.078391 | 13.69341 | 688 |\n",
       "\n"
      ],
      "text/plain": [
       "  chr  start   ACC TCGA-OR-A5J2 ACC TCGA-OR-A5J3 ACC TCGA-OR-A5J6\n",
       "1 chr1 2000001 3.985625         3.3680199        4.549601        \n",
       "2 chr1 3000001 3.777538         2.1058428        2.733947        \n",
       "3 chr1 4000001 1.755230         0.8019908        1.247900        \n",
       "  ACC TCGA-OR-A5J9 ACC TCGA-OR-A5JZ ACC TCGA-OR-A5K8 ACC TCGA-OR-A5KX\n",
       "1 1.8892585        3.274139         3.1206030        2.9564165       \n",
       "2 1.3259219        1.865876         1.7705485        1.9169945       \n",
       "3 0.4344994        0.395774         0.6742724        0.4020992       \n",
       "  ACC TCGA-PA-A5YG <U+22EF>        Repli seq of NHEK S2 phase\n",
       "1 3.9239266        <U+22EF> 12.02102                  \n",
       "2 1.8410087        <U+22EF> 19.64354                  \n",
       "3 0.3389768        <U+22EF> 15.36473                  \n",
       "  Repli seq of NHEK S3 phase Repli seq of NHEK S4 phase\n",
       "1 11.92807                    8.420803                 \n",
       "2 16.83726                    9.974132                 \n",
       "3 36.71549                   28.632269                 \n",
       "  Repli seq of SK N SH G1 phase Repli seq of SK N SH G2 phase\n",
       "1 39.16145                      9.017025                     \n",
       "2 25.69529                      7.608355                     \n",
       "3  8.97739                      8.460000                     \n",
       "  Repli seq of SK N SH S1 phase Repli seq of SK N SH S2 phase\n",
       "1 22.80582                      13.88087                     \n",
       "2 29.66111                      22.55539                     \n",
       "3 14.95429                      24.74951                     \n",
       "  Repli seq of SK N SH S3 phase Repli seq of SK N SH S4 phase Breast-AdenoCa\n",
       "1  5.706045                      3.00250                      403           \n",
       "2  9.649642                      4.16149                      529           \n",
       "3 29.078391                     13.69341                      688           "
      ]
     },
     "metadata": {},
     "output_type": "display_data"
    }
   ],
   "source": [
    "CA_RT_breastcancermuts = merge(CA_RT_MBscale, \n",
    "\t\t\t\t\t\t\t\t\tPCAWG_mutations_binned_MBscale[,c(\"chr\", \"start\", \"Breast-AdenoCa\")], \n",
    "\t\t\t\t\t\t\t\t\tby=c(\"chr\", \"start\"))\n",
    "head(CA_RT_breastcancermuts, 3)"
   ]
  },
  {
   "cell_type": "markdown",
   "metadata": {},
   "source": [
    "Now we train a random forest models on the combined CA and RT predictor set to predict regional mutation burden in breast cancer."
   ]
  },
  {
   "cell_type": "code",
   "execution_count": 9,
   "metadata": {},
   "outputs": [
    {
     "data": {
      "text/plain": [
       "RandomForestRegressor(max_features='sqrt', n_estimators=20, oob_score=True)"
      ]
     },
     "metadata": {},
     "output_type": "display_data"
    }
   ],
   "source": [
    "#Assign variables to predictors and response\n",
    "predictors = data.matrix(CA_RT_breastcancermuts[,-c(\"chr\", \"start\", \"Breast-AdenoCa\")])\n",
    "response = CA_RT_breastcancermuts[[\"Breast-AdenoCa\"]]\n",
    "\n",
    "#Set up model and hyperparameters, for the purposes of this tutorial we use 20 trees\n",
    "rf = sklearn_ensemble$RandomForestRegressor(n_estimators=20L, \n",
    "\t\t\t\t\t\t   bootstrap = T,\n",
    "\t\t\t\t\t\t   max_features = 'sqrt',\n",
    "\t\t\t\t\t\t  oob_score=T)\n",
    "#Train model\n",
    "rf$fit(predictors, response)\n",
    "\n",
    "#Set up SHAP for model\n",
    "explainer = shap$TreeExplainer(rf)\n",
    "\n",
    "#Get SHAP values for each observation\n",
    "shap_values = as.data.table(explainer$shap_values(predictors))\n",
    "colnames(shap_values) = colnames(predictors)                                 "
   ]
  },
  {
   "cell_type": "code",
   "execution_count": 10,
   "metadata": {},
   "outputs": [
    {
     "data": {
      "text/html": [
       "<table>\n",
       "<caption>A data.table: 6 × 869</caption>\n",
       "<thead>\n",
       "\t<tr><th scope=col>ACC TCGA-OR-A5J2</th><th scope=col>ACC TCGA-OR-A5J3</th><th scope=col>ACC TCGA-OR-A5J6</th><th scope=col>ACC TCGA-OR-A5J9</th><th scope=col>ACC TCGA-OR-A5JZ</th><th scope=col>ACC TCGA-OR-A5K8</th><th scope=col>ACC TCGA-OR-A5KX</th><th scope=col>ACC TCGA-PA-A5YG</th><th scope=col>ACC TCGA-PK-A5H8</th><th scope=col>BLCA TCGA-BL-A13J</th><th scope=col>⋯</th><th scope=col>Repli seq of NHEK S1 phase</th><th scope=col>Repli seq of NHEK S2 phase</th><th scope=col>Repli seq of NHEK S3 phase</th><th scope=col>Repli seq of NHEK S4 phase</th><th scope=col>Repli seq of SK N SH G1 phase</th><th scope=col>Repli seq of SK N SH G2 phase</th><th scope=col>Repli seq of SK N SH S1 phase</th><th scope=col>Repli seq of SK N SH S2 phase</th><th scope=col>Repli seq of SK N SH S3 phase</th><th scope=col>Repli seq of SK N SH S4 phase</th></tr>\n",
       "\t<tr><th scope=col>&lt;dbl&gt;</th><th scope=col>&lt;dbl&gt;</th><th scope=col>&lt;dbl&gt;</th><th scope=col>&lt;dbl&gt;</th><th scope=col>&lt;dbl&gt;</th><th scope=col>&lt;dbl&gt;</th><th scope=col>&lt;dbl&gt;</th><th scope=col>&lt;dbl&gt;</th><th scope=col>&lt;dbl&gt;</th><th scope=col>&lt;dbl&gt;</th><th scope=col>⋯</th><th scope=col>&lt;dbl&gt;</th><th scope=col>&lt;dbl&gt;</th><th scope=col>&lt;dbl&gt;</th><th scope=col>&lt;dbl&gt;</th><th scope=col>&lt;dbl&gt;</th><th scope=col>&lt;dbl&gt;</th><th scope=col>&lt;dbl&gt;</th><th scope=col>&lt;dbl&gt;</th><th scope=col>&lt;dbl&gt;</th><th scope=col>&lt;dbl&gt;</th></tr>\n",
       "</thead>\n",
       "<tbody>\n",
       "\t<tr><td> 0.0416072007</td><td>-0.0024446467</td><td>-0.055496730</td><td> 0.003053561</td><td> 0.0211636342</td><td>-0.1409124</td><td>-0.018121266</td><td> 7.386770e-02</td><td>-0.01879173</td><td> 0.33293979</td><td>⋯</td><td>-3.928714</td><td>-0.14433159</td><td>-2.9964054</td><td>-0.08579533</td><td>-0.5453111</td><td>-0.26065034</td><td>-0.1766706</td><td> 0.02228298</td><td>-0.14594651</td><td>-0.1700333</td></tr>\n",
       "\t<tr><td>-0.0374729150</td><td> 0.0089018953</td><td>-0.145898438</td><td>-0.040137329</td><td> 0.0008578703</td><td>-0.2044355</td><td> 0.004808265</td><td> 1.659776e-02</td><td>-0.13584094</td><td> 0.23689829</td><td>⋯</td><td>-3.417652</td><td>-0.18268778</td><td> 3.8125027</td><td> 0.01284217</td><td>-0.4190802</td><td> 1.96212780</td><td> 0.1100050</td><td> 0.09563724</td><td> 0.95631194</td><td> 0.1685759</td></tr>\n",
       "\t<tr><td>-0.0861016097</td><td>-0.0533171627</td><td> 0.181735937</td><td> 0.021376523</td><td> 0.0831159441</td><td> 1.4872870</td><td> 0.028118163</td><td> 4.802684e-05</td><td>-1.17823063</td><td>-0.04083881</td><td>⋯</td><td> 1.731411</td><td>-0.04133837</td><td> 0.5192327</td><td> 0.23153635</td><td> 0.2460141</td><td>-0.15607685</td><td>-0.2391803</td><td>-0.03134284</td><td> 0.05326666</td><td>-0.1745422</td></tr>\n",
       "\t<tr><td>-0.0002804774</td><td> 0.0058016850</td><td>-0.168551583</td><td>-0.041993451</td><td>-0.0186371115</td><td>-0.4039770</td><td>-0.028117635</td><td>-7.936205e-01</td><td>-0.08763712</td><td> 0.28449041</td><td>⋯</td><td> 8.001015</td><td>-0.35709892</td><td> 0.2514619</td><td>-0.76767115</td><td>-0.2579699</td><td>-0.49204619</td><td>-1.0246565</td><td>-0.04486477</td><td> 0.09312575</td><td>-0.4416358</td></tr>\n",
       "\t<tr><td> 0.0170590119</td><td>-0.0005777668</td><td>-0.062498377</td><td> 0.025122040</td><td> 0.0501771714</td><td>-0.1579665</td><td>-0.077757606</td><td> 6.507026e-02</td><td> 0.02522855</td><td> 0.25979735</td><td>⋯</td><td>-4.825817</td><td>-0.17447474</td><td>-2.9113877</td><td>-0.22737738</td><td>-0.5746134</td><td>-0.43840755</td><td>-0.6491727</td><td> 0.23976509</td><td>-1.80737729</td><td>-0.2725467</td></tr>\n",
       "\t<tr><td>-0.0349603308</td><td>-0.0024173214</td><td> 0.001406783</td><td> 0.010061759</td><td>-0.0004345965</td><td>-0.2612741</td><td> 0.186069385</td><td> 1.075058e-03</td><td>-0.06864860</td><td>-0.07328105</td><td>⋯</td><td>-3.889760</td><td>-0.13221274</td><td>-2.9064910</td><td>-0.30805599</td><td>-0.3150961</td><td>-0.08954953</td><td>-0.3710260</td><td> 0.09969491</td><td>-1.53806141</td><td>-0.5682178</td></tr>\n",
       "</tbody>\n",
       "</table>\n"
      ],
      "text/latex": [
       "A data.table: 6 × 869\n",
       "\\begin{tabular}{lllllllllllllllllllll}\n",
       " ACC TCGA-OR-A5J2 & ACC TCGA-OR-A5J3 & ACC TCGA-OR-A5J6 & ACC TCGA-OR-A5J9 & ACC TCGA-OR-A5JZ & ACC TCGA-OR-A5K8 & ACC TCGA-OR-A5KX & ACC TCGA-PA-A5YG & ACC TCGA-PK-A5H8 & BLCA TCGA-BL-A13J & ⋯ & Repli seq of NHEK S1 phase & Repli seq of NHEK S2 phase & Repli seq of NHEK S3 phase & Repli seq of NHEK S4 phase & Repli seq of SK N SH G1 phase & Repli seq of SK N SH G2 phase & Repli seq of SK N SH S1 phase & Repli seq of SK N SH S2 phase & Repli seq of SK N SH S3 phase & Repli seq of SK N SH S4 phase\\\\\n",
       " <dbl> & <dbl> & <dbl> & <dbl> & <dbl> & <dbl> & <dbl> & <dbl> & <dbl> & <dbl> & ⋯ & <dbl> & <dbl> & <dbl> & <dbl> & <dbl> & <dbl> & <dbl> & <dbl> & <dbl> & <dbl>\\\\\n",
       "\\hline\n",
       "\t  0.0416072007 & -0.0024446467 & -0.055496730 &  0.003053561 &  0.0211636342 & -0.1409124 & -0.018121266 &  7.386770e-02 & -0.01879173 &  0.33293979 & ⋯ & -3.928714 & -0.14433159 & -2.9964054 & -0.08579533 & -0.5453111 & -0.26065034 & -0.1766706 &  0.02228298 & -0.14594651 & -0.1700333\\\\\n",
       "\t -0.0374729150 &  0.0089018953 & -0.145898438 & -0.040137329 &  0.0008578703 & -0.2044355 &  0.004808265 &  1.659776e-02 & -0.13584094 &  0.23689829 & ⋯ & -3.417652 & -0.18268778 &  3.8125027 &  0.01284217 & -0.4190802 &  1.96212780 &  0.1100050 &  0.09563724 &  0.95631194 &  0.1685759\\\\\n",
       "\t -0.0861016097 & -0.0533171627 &  0.181735937 &  0.021376523 &  0.0831159441 &  1.4872870 &  0.028118163 &  4.802684e-05 & -1.17823063 & -0.04083881 & ⋯ &  1.731411 & -0.04133837 &  0.5192327 &  0.23153635 &  0.2460141 & -0.15607685 & -0.2391803 & -0.03134284 &  0.05326666 & -0.1745422\\\\\n",
       "\t -0.0002804774 &  0.0058016850 & -0.168551583 & -0.041993451 & -0.0186371115 & -0.4039770 & -0.028117635 & -7.936205e-01 & -0.08763712 &  0.28449041 & ⋯ &  8.001015 & -0.35709892 &  0.2514619 & -0.76767115 & -0.2579699 & -0.49204619 & -1.0246565 & -0.04486477 &  0.09312575 & -0.4416358\\\\\n",
       "\t  0.0170590119 & -0.0005777668 & -0.062498377 &  0.025122040 &  0.0501771714 & -0.1579665 & -0.077757606 &  6.507026e-02 &  0.02522855 &  0.25979735 & ⋯ & -4.825817 & -0.17447474 & -2.9113877 & -0.22737738 & -0.5746134 & -0.43840755 & -0.6491727 &  0.23976509 & -1.80737729 & -0.2725467\\\\\n",
       "\t -0.0349603308 & -0.0024173214 &  0.001406783 &  0.010061759 & -0.0004345965 & -0.2612741 &  0.186069385 &  1.075058e-03 & -0.06864860 & -0.07328105 & ⋯ & -3.889760 & -0.13221274 & -2.9064910 & -0.30805599 & -0.3150961 & -0.08954953 & -0.3710260 &  0.09969491 & -1.53806141 & -0.5682178\\\\\n",
       "\\end{tabular}\n"
      ],
      "text/markdown": [
       "\n",
       "A data.table: 6 × 869\n",
       "\n",
       "| ACC TCGA-OR-A5J2 &lt;dbl&gt; | ACC TCGA-OR-A5J3 &lt;dbl&gt; | ACC TCGA-OR-A5J6 &lt;dbl&gt; | ACC TCGA-OR-A5J9 &lt;dbl&gt; | ACC TCGA-OR-A5JZ &lt;dbl&gt; | ACC TCGA-OR-A5K8 &lt;dbl&gt; | ACC TCGA-OR-A5KX &lt;dbl&gt; | ACC TCGA-PA-A5YG &lt;dbl&gt; | ACC TCGA-PK-A5H8 &lt;dbl&gt; | BLCA TCGA-BL-A13J &lt;dbl&gt; | ⋯ ⋯ | Repli seq of NHEK S1 phase &lt;dbl&gt; | Repli seq of NHEK S2 phase &lt;dbl&gt; | Repli seq of NHEK S3 phase &lt;dbl&gt; | Repli seq of NHEK S4 phase &lt;dbl&gt; | Repli seq of SK N SH G1 phase &lt;dbl&gt; | Repli seq of SK N SH G2 phase &lt;dbl&gt; | Repli seq of SK N SH S1 phase &lt;dbl&gt; | Repli seq of SK N SH S2 phase &lt;dbl&gt; | Repli seq of SK N SH S3 phase &lt;dbl&gt; | Repli seq of SK N SH S4 phase &lt;dbl&gt; |\n",
       "|---|---|---|---|---|---|---|---|---|---|---|---|---|---|---|---|---|---|---|---|---|\n",
       "|  0.0416072007 | -0.0024446467 | -0.055496730 |  0.003053561 |  0.0211636342 | -0.1409124 | -0.018121266 |  7.386770e-02 | -0.01879173 |  0.33293979 | ⋯ | -3.928714 | -0.14433159 | -2.9964054 | -0.08579533 | -0.5453111 | -0.26065034 | -0.1766706 |  0.02228298 | -0.14594651 | -0.1700333 |\n",
       "| -0.0374729150 |  0.0089018953 | -0.145898438 | -0.040137329 |  0.0008578703 | -0.2044355 |  0.004808265 |  1.659776e-02 | -0.13584094 |  0.23689829 | ⋯ | -3.417652 | -0.18268778 |  3.8125027 |  0.01284217 | -0.4190802 |  1.96212780 |  0.1100050 |  0.09563724 |  0.95631194 |  0.1685759 |\n",
       "| -0.0861016097 | -0.0533171627 |  0.181735937 |  0.021376523 |  0.0831159441 |  1.4872870 |  0.028118163 |  4.802684e-05 | -1.17823063 | -0.04083881 | ⋯ |  1.731411 | -0.04133837 |  0.5192327 |  0.23153635 |  0.2460141 | -0.15607685 | -0.2391803 | -0.03134284 |  0.05326666 | -0.1745422 |\n",
       "| -0.0002804774 |  0.0058016850 | -0.168551583 | -0.041993451 | -0.0186371115 | -0.4039770 | -0.028117635 | -7.936205e-01 | -0.08763712 |  0.28449041 | ⋯ |  8.001015 | -0.35709892 |  0.2514619 | -0.76767115 | -0.2579699 | -0.49204619 | -1.0246565 | -0.04486477 |  0.09312575 | -0.4416358 |\n",
       "|  0.0170590119 | -0.0005777668 | -0.062498377 |  0.025122040 |  0.0501771714 | -0.1579665 | -0.077757606 |  6.507026e-02 |  0.02522855 |  0.25979735 | ⋯ | -4.825817 | -0.17447474 | -2.9113877 | -0.22737738 | -0.5746134 | -0.43840755 | -0.6491727 |  0.23976509 | -1.80737729 | -0.2725467 |\n",
       "| -0.0349603308 | -0.0024173214 |  0.001406783 |  0.010061759 | -0.0004345965 | -0.2612741 |  0.186069385 |  1.075058e-03 | -0.06864860 | -0.07328105 | ⋯ | -3.889760 | -0.13221274 | -2.9064910 | -0.30805599 | -0.3150961 | -0.08954953 | -0.3710260 |  0.09969491 | -1.53806141 | -0.5682178 |\n",
       "\n"
      ],
      "text/plain": [
       "  ACC TCGA-OR-A5J2 ACC TCGA-OR-A5J3 ACC TCGA-OR-A5J6 ACC TCGA-OR-A5J9\n",
       "1  0.0416072007    -0.0024446467    -0.055496730      0.003053561    \n",
       "2 -0.0374729150     0.0089018953    -0.145898438     -0.040137329    \n",
       "3 -0.0861016097    -0.0533171627     0.181735937      0.021376523    \n",
       "4 -0.0002804774     0.0058016850    -0.168551583     -0.041993451    \n",
       "5  0.0170590119    -0.0005777668    -0.062498377      0.025122040    \n",
       "6 -0.0349603308    -0.0024173214     0.001406783      0.010061759    \n",
       "  ACC TCGA-OR-A5JZ ACC TCGA-OR-A5K8 ACC TCGA-OR-A5KX ACC TCGA-PA-A5YG\n",
       "1  0.0211636342    -0.1409124       -0.018121266      7.386770e-02   \n",
       "2  0.0008578703    -0.2044355        0.004808265      1.659776e-02   \n",
       "3  0.0831159441     1.4872870        0.028118163      4.802684e-05   \n",
       "4 -0.0186371115    -0.4039770       -0.028117635     -7.936205e-01   \n",
       "5  0.0501771714    -0.1579665       -0.077757606      6.507026e-02   \n",
       "6 -0.0004345965    -0.2612741        0.186069385      1.075058e-03   \n",
       "  ACC TCGA-PK-A5H8 BLCA TCGA-BL-A13J <U+22EF>        Repli seq of NHEK S1 phase\n",
       "1 -0.01879173       0.33293979       <U+22EF> -3.928714                 \n",
       "2 -0.13584094       0.23689829       <U+22EF> -3.417652                 \n",
       "3 -1.17823063      -0.04083881       <U+22EF>  1.731411                 \n",
       "4 -0.08763712       0.28449041       <U+22EF>  8.001015                 \n",
       "5  0.02522855       0.25979735       <U+22EF> -4.825817                 \n",
       "6 -0.06864860      -0.07328105       <U+22EF> -3.889760                 \n",
       "  Repli seq of NHEK S2 phase Repli seq of NHEK S3 phase\n",
       "1 -0.14433159                -2.9964054                \n",
       "2 -0.18268778                 3.8125027                \n",
       "3 -0.04133837                 0.5192327                \n",
       "4 -0.35709892                 0.2514619                \n",
       "5 -0.17447474                -2.9113877                \n",
       "6 -0.13221274                -2.9064910                \n",
       "  Repli seq of NHEK S4 phase Repli seq of SK N SH G1 phase\n",
       "1 -0.08579533                -0.5453111                   \n",
       "2  0.01284217                -0.4190802                   \n",
       "3  0.23153635                 0.2460141                   \n",
       "4 -0.76767115                -0.2579699                   \n",
       "5 -0.22737738                -0.5746134                   \n",
       "6 -0.30805599                -0.3150961                   \n",
       "  Repli seq of SK N SH G2 phase Repli seq of SK N SH S1 phase\n",
       "1 -0.26065034                   -0.1766706                   \n",
       "2  1.96212780                    0.1100050                   \n",
       "3 -0.15607685                   -0.2391803                   \n",
       "4 -0.49204619                   -1.0246565                   \n",
       "5 -0.43840755                   -0.6491727                   \n",
       "6 -0.08954953                   -0.3710260                   \n",
       "  Repli seq of SK N SH S2 phase Repli seq of SK N SH S3 phase\n",
       "1  0.02228298                   -0.14594651                  \n",
       "2  0.09563724                    0.95631194                  \n",
       "3 -0.03134284                    0.05326666                  \n",
       "4 -0.04486477                    0.09312575                  \n",
       "5  0.23976509                   -1.80737729                  \n",
       "6  0.09969491                   -1.53806141                  \n",
       "  Repli seq of SK N SH S4 phase\n",
       "1 -0.1700333                   \n",
       "2  0.1685759                   \n",
       "3 -0.1745422                   \n",
       "4 -0.4416358                   \n",
       "5 -0.2725467                   \n",
       "6 -0.5682178                   "
      ]
     },
     "metadata": {},
     "output_type": "display_data"
    }
   ],
   "source": [
    "head(shap_values)"
   ]
  },
  {
   "cell_type": "markdown",
   "metadata": {},
   "source": [
    "We can see that we have a SHAP value for each genomic window and each predictor in our dataset. The SHAP value represents the impact of the predictor on the model's prediction for that observation. The absolute value of the SHAP value represents the magnitude of the predictor's contribution (comparable to importance) and the direction represents whether the predictor value is leading to an increase or decrease in the model's prediction (i.e. is a high predictor value leading to more or less mutations being predicted). "
   ]
  },
  {
   "cell_type": "markdown",
   "metadata": {},
   "source": [
    "We can plot the SHAP values of the 5 most important predictors (based on SHAP absolute value) and compare them with the actual predictor value (chromatin accessibility or replication timing)."
   ]
  },
  {
   "cell_type": "code",
   "execution_count": 81,
   "metadata": {},
   "outputs": [],
   "source": [
    "plt$close()                           \n",
    "pdf = backend$PdfPages(\"data/SHAP_plot.pdf\")    \n",
    "fig = plt$figure(figsize = c(3, 3))\n",
    "shap$summary_plot(data.matrix(shap_values), predictors,\n",
    "\t\t\t  colnames(predictors),\n",
    "\t\t\t  show = F, sort = T, max_display = 5L)\n",
    "pdf$savefig(fig, bbox_inches = \"tight\")                                  \n",
    "pdf$close()"
   ]
  },
  {
   "cell_type": "markdown",
   "metadata": {},
   "source": [
    "In the PDF of the plot, we can see that the most important predictor' is derived from a primary breast cancer. We can also see that the SHAP values are positively correlated with chromatin accessibility indicating that regions with high chromatin accessibility also have more mutations based on this predictor. For the other 4 predictors, however, this correlation is negative."
   ]
  }
 ],
 "metadata": {
  "kernelspec": {
   "display_name": "R",
   "language": "R",
   "name": "ir"
  },
  "language_info": {
   "codemirror_mode": "r",
   "file_extension": ".r",
   "mimetype": "text/x-r-source",
   "name": "R",
   "pygments_lexer": "r",
   "version": "4.0.3"
  }
 },
 "nbformat": 4,
 "nbformat_minor": 4
}
