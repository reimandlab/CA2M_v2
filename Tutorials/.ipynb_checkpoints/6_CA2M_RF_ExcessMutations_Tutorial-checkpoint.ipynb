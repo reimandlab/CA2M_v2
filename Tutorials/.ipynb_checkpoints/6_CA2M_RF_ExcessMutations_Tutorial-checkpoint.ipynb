{
 "cells": [
  {
   "cell_type": "markdown",
   "metadata": {},
   "source": [
    "# How to use chromatin accessibility and replication timing to find genomic regions with significantly more mutations than expected"
   ]
  },
  {
   "cell_type": "markdown",
   "metadata": {},
   "source": [
    "### By: Oliver Ocsenas"
   ]
  },
  {
   "cell_type": "markdown",
   "metadata": {},
   "source": [
    "In this tutorial, we train a random forest model on all of our chromatin accessibility and replication timing predictors to predict regional mutation rates. Then we will use the model residuals to find regions with significantly more mutations than we predicted."
   ]
  },
  {
   "cell_type": "markdown",
   "metadata": {},
   "source": [
    "First, we will load in some useful packages."
   ]
  },
  {
   "cell_type": "code",
   "execution_count": 1,
   "metadata": {},
   "outputs": [
    {
     "data": {
      "text/html": [
       "<ol>\n",
       "\t<li>TRUE</li>\n",
       "\t<li>TRUE</li>\n",
       "</ol>\n"
      ],
      "text/latex": [
       "\\begin{enumerate}\n",
       "\\item TRUE\n",
       "\\item TRUE\n",
       "\\end{enumerate}\n"
      ],
      "text/markdown": [
       "1. TRUE\n",
       "2. TRUE\n",
       "\n",
       "\n"
      ],
      "text/plain": [
       "[[1]]\n",
       "[1] TRUE\n",
       "\n",
       "[[2]]\n",
       "[1] TRUE\n"
      ]
     },
     "metadata": {},
     "output_type": "display_data"
    }
   ],
   "source": [
    "packages = c(\"data.table\", \"randomForest\")\n",
    "lapply(packages, function(x) suppressMessages(require(x, character.only = TRUE)))"
   ]
  },
  {
   "cell_type": "markdown",
   "metadata": {},
   "source": [
    "Next, we will load in the appropriate data. This involves average binned tracks from tumor and normal tissue chromatin accessibility and replication timing at the megabase-scale."
   ]
  },
  {
   "cell_type": "code",
   "execution_count": 2,
   "metadata": {},
   "outputs": [
    {
     "data": {
      "text/html": [
       "<table>\n",
       "<caption>A data.table: 3 × 871</caption>\n",
       "<thead>\n",
       "\t<tr><th scope=col>chr</th><th scope=col>start</th><th scope=col>ACC TCGA-OR-A5J2</th><th scope=col>ACC TCGA-OR-A5J3</th><th scope=col>ACC TCGA-OR-A5J6</th><th scope=col>ACC TCGA-OR-A5J9</th><th scope=col>ACC TCGA-OR-A5JZ</th><th scope=col>ACC TCGA-OR-A5K8</th><th scope=col>ACC TCGA-OR-A5KX</th><th scope=col>ACC TCGA-PA-A5YG</th><th scope=col>⋯</th><th scope=col>Repli seq of NHEK S1 phase</th><th scope=col>Repli seq of NHEK S2 phase</th><th scope=col>Repli seq of NHEK S3 phase</th><th scope=col>Repli seq of NHEK S4 phase</th><th scope=col>Repli seq of SK N SH G1 phase</th><th scope=col>Repli seq of SK N SH G2 phase</th><th scope=col>Repli seq of SK N SH S1 phase</th><th scope=col>Repli seq of SK N SH S2 phase</th><th scope=col>Repli seq of SK N SH S3 phase</th><th scope=col>Repli seq of SK N SH S4 phase</th></tr>\n",
       "\t<tr><th scope=col>&lt;chr&gt;</th><th scope=col>&lt;int&gt;</th><th scope=col>&lt;dbl&gt;</th><th scope=col>&lt;dbl&gt;</th><th scope=col>&lt;dbl&gt;</th><th scope=col>&lt;dbl&gt;</th><th scope=col>&lt;dbl&gt;</th><th scope=col>&lt;dbl&gt;</th><th scope=col>&lt;dbl&gt;</th><th scope=col>&lt;dbl&gt;</th><th scope=col>⋯</th><th scope=col>&lt;dbl&gt;</th><th scope=col>&lt;dbl&gt;</th><th scope=col>&lt;dbl&gt;</th><th scope=col>&lt;dbl&gt;</th><th scope=col>&lt;dbl&gt;</th><th scope=col>&lt;dbl&gt;</th><th scope=col>&lt;dbl&gt;</th><th scope=col>&lt;dbl&gt;</th><th scope=col>&lt;dbl&gt;</th><th scope=col>&lt;dbl&gt;</th></tr>\n",
       "</thead>\n",
       "<tbody>\n",
       "\t<tr><td>chr1</td><td>2000001</td><td>3.985625</td><td>3.3680199</td><td>4.549601</td><td>1.8892585</td><td>3.274139</td><td>3.1206030</td><td>2.9564165</td><td>3.9239266</td><td>⋯</td><td>16.263372</td><td>12.02102</td><td>11.92807</td><td> 8.420803</td><td>39.16145</td><td>9.017025</td><td>22.80582</td><td>13.88087</td><td> 5.706045</td><td> 3.00250</td></tr>\n",
       "\t<tr><td>chr1</td><td>3000001</td><td>3.777538</td><td>2.1058428</td><td>2.733947</td><td>1.3259219</td><td>1.865876</td><td>1.7705485</td><td>1.9169945</td><td>1.8410087</td><td>⋯</td><td>20.766127</td><td>19.64354</td><td>16.83726</td><td> 9.974132</td><td>25.69529</td><td>7.608355</td><td>29.66111</td><td>22.55539</td><td> 9.649642</td><td> 4.16149</td></tr>\n",
       "\t<tr><td>chr1</td><td>4000001</td><td>1.755230</td><td>0.8019908</td><td>1.247900</td><td>0.4344994</td><td>0.395774</td><td>0.6742724</td><td>0.4020992</td><td>0.3389768</td><td>⋯</td><td> 6.231268</td><td>15.36473</td><td>36.71549</td><td>28.632269</td><td> 8.97739</td><td>8.460000</td><td>14.95429</td><td>24.74951</td><td>29.078391</td><td>13.69341</td></tr>\n",
       "</tbody>\n",
       "</table>\n"
      ],
      "text/latex": [
       "A data.table: 3 × 871\n",
       "\\begin{tabular}{lllllllllllllllllllll}\n",
       " chr & start & ACC TCGA-OR-A5J2 & ACC TCGA-OR-A5J3 & ACC TCGA-OR-A5J6 & ACC TCGA-OR-A5J9 & ACC TCGA-OR-A5JZ & ACC TCGA-OR-A5K8 & ACC TCGA-OR-A5KX & ACC TCGA-PA-A5YG & ⋯ & Repli seq of NHEK S1 phase & Repli seq of NHEK S2 phase & Repli seq of NHEK S3 phase & Repli seq of NHEK S4 phase & Repli seq of SK N SH G1 phase & Repli seq of SK N SH G2 phase & Repli seq of SK N SH S1 phase & Repli seq of SK N SH S2 phase & Repli seq of SK N SH S3 phase & Repli seq of SK N SH S4 phase\\\\\n",
       " <chr> & <int> & <dbl> & <dbl> & <dbl> & <dbl> & <dbl> & <dbl> & <dbl> & <dbl> & ⋯ & <dbl> & <dbl> & <dbl> & <dbl> & <dbl> & <dbl> & <dbl> & <dbl> & <dbl> & <dbl>\\\\\n",
       "\\hline\n",
       "\t chr1 & 2000001 & 3.985625 & 3.3680199 & 4.549601 & 1.8892585 & 3.274139 & 3.1206030 & 2.9564165 & 3.9239266 & ⋯ & 16.263372 & 12.02102 & 11.92807 &  8.420803 & 39.16145 & 9.017025 & 22.80582 & 13.88087 &  5.706045 &  3.00250\\\\\n",
       "\t chr1 & 3000001 & 3.777538 & 2.1058428 & 2.733947 & 1.3259219 & 1.865876 & 1.7705485 & 1.9169945 & 1.8410087 & ⋯ & 20.766127 & 19.64354 & 16.83726 &  9.974132 & 25.69529 & 7.608355 & 29.66111 & 22.55539 &  9.649642 &  4.16149\\\\\n",
       "\t chr1 & 4000001 & 1.755230 & 0.8019908 & 1.247900 & 0.4344994 & 0.395774 & 0.6742724 & 0.4020992 & 0.3389768 & ⋯ &  6.231268 & 15.36473 & 36.71549 & 28.632269 &  8.97739 & 8.460000 & 14.95429 & 24.74951 & 29.078391 & 13.69341\\\\\n",
       "\\end{tabular}\n"
      ],
      "text/markdown": [
       "\n",
       "A data.table: 3 × 871\n",
       "\n",
       "| chr &lt;chr&gt; | start &lt;int&gt; | ACC TCGA-OR-A5J2 &lt;dbl&gt; | ACC TCGA-OR-A5J3 &lt;dbl&gt; | ACC TCGA-OR-A5J6 &lt;dbl&gt; | ACC TCGA-OR-A5J9 &lt;dbl&gt; | ACC TCGA-OR-A5JZ &lt;dbl&gt; | ACC TCGA-OR-A5K8 &lt;dbl&gt; | ACC TCGA-OR-A5KX &lt;dbl&gt; | ACC TCGA-PA-A5YG &lt;dbl&gt; | ⋯ ⋯ | Repli seq of NHEK S1 phase &lt;dbl&gt; | Repli seq of NHEK S2 phase &lt;dbl&gt; | Repli seq of NHEK S3 phase &lt;dbl&gt; | Repli seq of NHEK S4 phase &lt;dbl&gt; | Repli seq of SK N SH G1 phase &lt;dbl&gt; | Repli seq of SK N SH G2 phase &lt;dbl&gt; | Repli seq of SK N SH S1 phase &lt;dbl&gt; | Repli seq of SK N SH S2 phase &lt;dbl&gt; | Repli seq of SK N SH S3 phase &lt;dbl&gt; | Repli seq of SK N SH S4 phase &lt;dbl&gt; |\n",
       "|---|---|---|---|---|---|---|---|---|---|---|---|---|---|---|---|---|---|---|---|---|\n",
       "| chr1 | 2000001 | 3.985625 | 3.3680199 | 4.549601 | 1.8892585 | 3.274139 | 3.1206030 | 2.9564165 | 3.9239266 | ⋯ | 16.263372 | 12.02102 | 11.92807 |  8.420803 | 39.16145 | 9.017025 | 22.80582 | 13.88087 |  5.706045 |  3.00250 |\n",
       "| chr1 | 3000001 | 3.777538 | 2.1058428 | 2.733947 | 1.3259219 | 1.865876 | 1.7705485 | 1.9169945 | 1.8410087 | ⋯ | 20.766127 | 19.64354 | 16.83726 |  9.974132 | 25.69529 | 7.608355 | 29.66111 | 22.55539 |  9.649642 |  4.16149 |\n",
       "| chr1 | 4000001 | 1.755230 | 0.8019908 | 1.247900 | 0.4344994 | 0.395774 | 0.6742724 | 0.4020992 | 0.3389768 | ⋯ |  6.231268 | 15.36473 | 36.71549 | 28.632269 |  8.97739 | 8.460000 | 14.95429 | 24.74951 | 29.078391 | 13.69341 |\n",
       "\n"
      ],
      "text/plain": [
       "  chr  start   ACC TCGA-OR-A5J2 ACC TCGA-OR-A5J3 ACC TCGA-OR-A5J6\n",
       "1 chr1 2000001 3.985625         3.3680199        4.549601        \n",
       "2 chr1 3000001 3.777538         2.1058428        2.733947        \n",
       "3 chr1 4000001 1.755230         0.8019908        1.247900        \n",
       "  ACC TCGA-OR-A5J9 ACC TCGA-OR-A5JZ ACC TCGA-OR-A5K8 ACC TCGA-OR-A5KX\n",
       "1 1.8892585        3.274139         3.1206030        2.9564165       \n",
       "2 1.3259219        1.865876         1.7705485        1.9169945       \n",
       "3 0.4344994        0.395774         0.6742724        0.4020992       \n",
       "  ACC TCGA-PA-A5YG <U+22EF>        Repli seq of NHEK S1 phase\n",
       "1 3.9239266        <U+22EF> 16.263372                 \n",
       "2 1.8410087        <U+22EF> 20.766127                 \n",
       "3 0.3389768        <U+22EF>  6.231268                 \n",
       "  Repli seq of NHEK S2 phase Repli seq of NHEK S3 phase\n",
       "1 12.02102                   11.92807                  \n",
       "2 19.64354                   16.83726                  \n",
       "3 15.36473                   36.71549                  \n",
       "  Repli seq of NHEK S4 phase Repli seq of SK N SH G1 phase\n",
       "1  8.420803                  39.16145                     \n",
       "2  9.974132                  25.69529                     \n",
       "3 28.632269                   8.97739                     \n",
       "  Repli seq of SK N SH G2 phase Repli seq of SK N SH S1 phase\n",
       "1 9.017025                      22.80582                     \n",
       "2 7.608355                      29.66111                     \n",
       "3 8.460000                      14.95429                     \n",
       "  Repli seq of SK N SH S2 phase Repli seq of SK N SH S3 phase\n",
       "1 13.88087                       5.706045                    \n",
       "2 22.55539                       9.649642                    \n",
       "3 24.74951                      29.078391                    \n",
       "  Repli seq of SK N SH S4 phase\n",
       "1  3.00250                     \n",
       "2  4.16149                     \n",
       "3 13.69341                     "
      ]
     },
     "metadata": {},
     "output_type": "display_data"
    }
   ],
   "source": [
    "CA_RT_MBscale = fread(\"data/All_CA_RT_1MB_scale.csv.gz\")\n",
    "head(CA_RT_MBscale, 3)"
   ]
  },
  {
   "cell_type": "markdown",
   "metadata": {},
   "source": [
    "We will also load in the binned mutation (SNV only) track from 18 cohorts (including pan-cancer) in the PCAWG dataset."
   ]
  },
  {
   "cell_type": "code",
   "execution_count": 3,
   "metadata": {},
   "outputs": [
    {
     "data": {
      "text/html": [
       "<table>\n",
       "<caption>A data.table: 6 × 20</caption>\n",
       "<thead>\n",
       "\t<tr><th scope=col>chr</th><th scope=col>start</th><th scope=col>PANCAN</th><th scope=col>Breast-AdenoCa</th><th scope=col>Prost-AdenoCA</th><th scope=col>Kidney-RCC</th><th scope=col>Skin-Melanoma</th><th scope=col>Uterus-AdenoCA</th><th scope=col>Eso-AdenoCa</th><th scope=col>Stomach-AdenoCA</th><th scope=col>CNS-GBM</th><th scope=col>Lung-SCC</th><th scope=col>ColoRect-AdenoCA</th><th scope=col>Biliary-AdenoCA</th><th scope=col>Head-SCC</th><th scope=col>Lymph-CLL</th><th scope=col>Lung-AdenoCA</th><th scope=col>Lymph-BNHL</th><th scope=col>Liver-HCC</th><th scope=col>Thy-AdenoCA</th></tr>\n",
       "\t<tr><th scope=col>&lt;chr&gt;</th><th scope=col>&lt;int&gt;</th><th scope=col>&lt;int&gt;</th><th scope=col>&lt;int&gt;</th><th scope=col>&lt;int&gt;</th><th scope=col>&lt;int&gt;</th><th scope=col>&lt;int&gt;</th><th scope=col>&lt;int&gt;</th><th scope=col>&lt;int&gt;</th><th scope=col>&lt;int&gt;</th><th scope=col>&lt;int&gt;</th><th scope=col>&lt;int&gt;</th><th scope=col>&lt;int&gt;</th><th scope=col>&lt;int&gt;</th><th scope=col>&lt;int&gt;</th><th scope=col>&lt;int&gt;</th><th scope=col>&lt;int&gt;</th><th scope=col>&lt;int&gt;</th><th scope=col>&lt;int&gt;</th><th scope=col>&lt;int&gt;</th></tr>\n",
       "</thead>\n",
       "<tbody>\n",
       "\t<tr><td>chr1</td><td>2000001</td><td> 5423</td><td>403</td><td>209</td><td>267</td><td> 600</td><td>141</td><td> 407</td><td>207</td><td> 88</td><td>362</td><td>147</td><td> 57</td><td>210</td><td>34</td><td>194</td><td>224</td><td> 649</td><td>16</td></tr>\n",
       "\t<tr><td>chr1</td><td>3000001</td><td> 5870</td><td>529</td><td>196</td><td>328</td><td> 682</td><td>170</td><td> 406</td><td>189</td><td> 71</td><td>342</td><td>161</td><td> 44</td><td>255</td><td>49</td><td>181</td><td>222</td><td> 764</td><td>13</td></tr>\n",
       "\t<tr><td>chr1</td><td>4000001</td><td>11489</td><td>688</td><td>339</td><td>355</td><td>1106</td><td>267</td><td>1933</td><td>488</td><td>128</td><td>587</td><td>351</td><td>105</td><td>356</td><td>80</td><td>541</td><td>331</td><td>1571</td><td>28</td></tr>\n",
       "\t<tr><td>chr1</td><td>5000001</td><td> 9773</td><td>499</td><td>259</td><td>361</td><td>1149</td><td>210</td><td>1364</td><td>375</td><td>100</td><td>516</td><td>246</td><td>111</td><td>283</td><td>80</td><td>398</td><td>319</td><td>1546</td><td>25</td></tr>\n",
       "\t<tr><td>chr1</td><td>6000001</td><td> 4779</td><td>344</td><td>161</td><td>266</td><td> 398</td><td>138</td><td> 339</td><td>164</td><td> 55</td><td>265</td><td>120</td><td> 46</td><td>217</td><td>39</td><td>187</td><td>192</td><td> 705</td><td>11</td></tr>\n",
       "\t<tr><td>chr1</td><td>7000001</td><td> 5418</td><td>344</td><td>166</td><td>243</td><td> 611</td><td>154</td><td> 383</td><td>206</td><td> 49</td><td>323</td><td>158</td><td> 50</td><td>232</td><td>74</td><td>236</td><td>206</td><td> 752</td><td>15</td></tr>\n",
       "</tbody>\n",
       "</table>\n"
      ],
      "text/latex": [
       "A data.table: 6 × 20\n",
       "\\begin{tabular}{llllllllllllllllllll}\n",
       " chr & start & PANCAN & Breast-AdenoCa & Prost-AdenoCA & Kidney-RCC & Skin-Melanoma & Uterus-AdenoCA & Eso-AdenoCa & Stomach-AdenoCA & CNS-GBM & Lung-SCC & ColoRect-AdenoCA & Biliary-AdenoCA & Head-SCC & Lymph-CLL & Lung-AdenoCA & Lymph-BNHL & Liver-HCC & Thy-AdenoCA\\\\\n",
       " <chr> & <int> & <int> & <int> & <int> & <int> & <int> & <int> & <int> & <int> & <int> & <int> & <int> & <int> & <int> & <int> & <int> & <int> & <int> & <int>\\\\\n",
       "\\hline\n",
       "\t chr1 & 2000001 &  5423 & 403 & 209 & 267 &  600 & 141 &  407 & 207 &  88 & 362 & 147 &  57 & 210 & 34 & 194 & 224 &  649 & 16\\\\\n",
       "\t chr1 & 3000001 &  5870 & 529 & 196 & 328 &  682 & 170 &  406 & 189 &  71 & 342 & 161 &  44 & 255 & 49 & 181 & 222 &  764 & 13\\\\\n",
       "\t chr1 & 4000001 & 11489 & 688 & 339 & 355 & 1106 & 267 & 1933 & 488 & 128 & 587 & 351 & 105 & 356 & 80 & 541 & 331 & 1571 & 28\\\\\n",
       "\t chr1 & 5000001 &  9773 & 499 & 259 & 361 & 1149 & 210 & 1364 & 375 & 100 & 516 & 246 & 111 & 283 & 80 & 398 & 319 & 1546 & 25\\\\\n",
       "\t chr1 & 6000001 &  4779 & 344 & 161 & 266 &  398 & 138 &  339 & 164 &  55 & 265 & 120 &  46 & 217 & 39 & 187 & 192 &  705 & 11\\\\\n",
       "\t chr1 & 7000001 &  5418 & 344 & 166 & 243 &  611 & 154 &  383 & 206 &  49 & 323 & 158 &  50 & 232 & 74 & 236 & 206 &  752 & 15\\\\\n",
       "\\end{tabular}\n"
      ],
      "text/markdown": [
       "\n",
       "A data.table: 6 × 20\n",
       "\n",
       "| chr &lt;chr&gt; | start &lt;int&gt; | PANCAN &lt;int&gt; | Breast-AdenoCa &lt;int&gt; | Prost-AdenoCA &lt;int&gt; | Kidney-RCC &lt;int&gt; | Skin-Melanoma &lt;int&gt; | Uterus-AdenoCA &lt;int&gt; | Eso-AdenoCa &lt;int&gt; | Stomach-AdenoCA &lt;int&gt; | CNS-GBM &lt;int&gt; | Lung-SCC &lt;int&gt; | ColoRect-AdenoCA &lt;int&gt; | Biliary-AdenoCA &lt;int&gt; | Head-SCC &lt;int&gt; | Lymph-CLL &lt;int&gt; | Lung-AdenoCA &lt;int&gt; | Lymph-BNHL &lt;int&gt; | Liver-HCC &lt;int&gt; | Thy-AdenoCA &lt;int&gt; |\n",
       "|---|---|---|---|---|---|---|---|---|---|---|---|---|---|---|---|---|---|---|---|\n",
       "| chr1 | 2000001 |  5423 | 403 | 209 | 267 |  600 | 141 |  407 | 207 |  88 | 362 | 147 |  57 | 210 | 34 | 194 | 224 |  649 | 16 |\n",
       "| chr1 | 3000001 |  5870 | 529 | 196 | 328 |  682 | 170 |  406 | 189 |  71 | 342 | 161 |  44 | 255 | 49 | 181 | 222 |  764 | 13 |\n",
       "| chr1 | 4000001 | 11489 | 688 | 339 | 355 | 1106 | 267 | 1933 | 488 | 128 | 587 | 351 | 105 | 356 | 80 | 541 | 331 | 1571 | 28 |\n",
       "| chr1 | 5000001 |  9773 | 499 | 259 | 361 | 1149 | 210 | 1364 | 375 | 100 | 516 | 246 | 111 | 283 | 80 | 398 | 319 | 1546 | 25 |\n",
       "| chr1 | 6000001 |  4779 | 344 | 161 | 266 |  398 | 138 |  339 | 164 |  55 | 265 | 120 |  46 | 217 | 39 | 187 | 192 |  705 | 11 |\n",
       "| chr1 | 7000001 |  5418 | 344 | 166 | 243 |  611 | 154 |  383 | 206 |  49 | 323 | 158 |  50 | 232 | 74 | 236 | 206 |  752 | 15 |\n",
       "\n"
      ],
      "text/plain": [
       "  chr  start   PANCAN Breast-AdenoCa Prost-AdenoCA Kidney-RCC Skin-Melanoma\n",
       "1 chr1 2000001  5423  403            209           267         600         \n",
       "2 chr1 3000001  5870  529            196           328         682         \n",
       "3 chr1 4000001 11489  688            339           355        1106         \n",
       "4 chr1 5000001  9773  499            259           361        1149         \n",
       "5 chr1 6000001  4779  344            161           266         398         \n",
       "6 chr1 7000001  5418  344            166           243         611         \n",
       "  Uterus-AdenoCA Eso-AdenoCa Stomach-AdenoCA CNS-GBM Lung-SCC ColoRect-AdenoCA\n",
       "1 141             407        207              88     362      147             \n",
       "2 170             406        189              71     342      161             \n",
       "3 267            1933        488             128     587      351             \n",
       "4 210            1364        375             100     516      246             \n",
       "5 138             339        164              55     265      120             \n",
       "6 154             383        206              49     323      158             \n",
       "  Biliary-AdenoCA Head-SCC Lymph-CLL Lung-AdenoCA Lymph-BNHL Liver-HCC\n",
       "1  57             210      34        194          224         649     \n",
       "2  44             255      49        181          222         764     \n",
       "3 105             356      80        541          331        1571     \n",
       "4 111             283      80        398          319        1546     \n",
       "5  46             217      39        187          192         705     \n",
       "6  50             232      74        236          206         752     \n",
       "  Thy-AdenoCA\n",
       "1 16         \n",
       "2 13         \n",
       "3 28         \n",
       "4 25         \n",
       "5 11         \n",
       "6 15         "
      ]
     },
     "metadata": {},
     "output_type": "display_data"
    }
   ],
   "source": [
    "PCAWG_mutations_binned_MBscale = fread(\"data/PCAWG_SNVbinned_MBscale.csv.gz\")\n",
    "head(PCAWG_mutations_binned_MBscale)"
   ]
  },
  {
   "cell_type": "markdown",
   "metadata": {},
   "source": [
    "We can now train a random forest model the combined chromatin accessibility dataset and replication timing dataset to predict mutation rates in our cohort of interest (in this example, we will use breast cancer) and then assess individual predictor importance."
   ]
  },
  {
   "cell_type": "markdown",
   "metadata": {},
   "source": [
    "First we merge the predictor set with the response vector based on genomic coordinates (first 2 columns)."
   ]
  },
  {
   "cell_type": "code",
   "execution_count": 4,
   "metadata": {},
   "outputs": [
    {
     "data": {
      "text/html": [
       "<table>\n",
       "<caption>A data.table: 3 × 872</caption>\n",
       "<thead>\n",
       "\t<tr><th scope=col>chr</th><th scope=col>start</th><th scope=col>ACC TCGA-OR-A5J2</th><th scope=col>ACC TCGA-OR-A5J3</th><th scope=col>ACC TCGA-OR-A5J6</th><th scope=col>ACC TCGA-OR-A5J9</th><th scope=col>ACC TCGA-OR-A5JZ</th><th scope=col>ACC TCGA-OR-A5K8</th><th scope=col>ACC TCGA-OR-A5KX</th><th scope=col>ACC TCGA-PA-A5YG</th><th scope=col>⋯</th><th scope=col>Repli seq of NHEK S2 phase</th><th scope=col>Repli seq of NHEK S3 phase</th><th scope=col>Repli seq of NHEK S4 phase</th><th scope=col>Repli seq of SK N SH G1 phase</th><th scope=col>Repli seq of SK N SH G2 phase</th><th scope=col>Repli seq of SK N SH S1 phase</th><th scope=col>Repli seq of SK N SH S2 phase</th><th scope=col>Repli seq of SK N SH S3 phase</th><th scope=col>Repli seq of SK N SH S4 phase</th><th scope=col>Breast-AdenoCa</th></tr>\n",
       "\t<tr><th scope=col>&lt;chr&gt;</th><th scope=col>&lt;int&gt;</th><th scope=col>&lt;dbl&gt;</th><th scope=col>&lt;dbl&gt;</th><th scope=col>&lt;dbl&gt;</th><th scope=col>&lt;dbl&gt;</th><th scope=col>&lt;dbl&gt;</th><th scope=col>&lt;dbl&gt;</th><th scope=col>&lt;dbl&gt;</th><th scope=col>&lt;dbl&gt;</th><th scope=col>⋯</th><th scope=col>&lt;dbl&gt;</th><th scope=col>&lt;dbl&gt;</th><th scope=col>&lt;dbl&gt;</th><th scope=col>&lt;dbl&gt;</th><th scope=col>&lt;dbl&gt;</th><th scope=col>&lt;dbl&gt;</th><th scope=col>&lt;dbl&gt;</th><th scope=col>&lt;dbl&gt;</th><th scope=col>&lt;dbl&gt;</th><th scope=col>&lt;int&gt;</th></tr>\n",
       "</thead>\n",
       "<tbody>\n",
       "\t<tr><td>chr1</td><td>2000001</td><td>3.985625</td><td>3.3680199</td><td>4.549601</td><td>1.8892585</td><td>3.274139</td><td>3.1206030</td><td>2.9564165</td><td>3.9239266</td><td>⋯</td><td>12.02102</td><td>11.92807</td><td> 8.420803</td><td>39.16145</td><td>9.017025</td><td>22.80582</td><td>13.88087</td><td> 5.706045</td><td> 3.00250</td><td>403</td></tr>\n",
       "\t<tr><td>chr1</td><td>3000001</td><td>3.777538</td><td>2.1058428</td><td>2.733947</td><td>1.3259219</td><td>1.865876</td><td>1.7705485</td><td>1.9169945</td><td>1.8410087</td><td>⋯</td><td>19.64354</td><td>16.83726</td><td> 9.974132</td><td>25.69529</td><td>7.608355</td><td>29.66111</td><td>22.55539</td><td> 9.649642</td><td> 4.16149</td><td>529</td></tr>\n",
       "\t<tr><td>chr1</td><td>4000001</td><td>1.755230</td><td>0.8019908</td><td>1.247900</td><td>0.4344994</td><td>0.395774</td><td>0.6742724</td><td>0.4020992</td><td>0.3389768</td><td>⋯</td><td>15.36473</td><td>36.71549</td><td>28.632269</td><td> 8.97739</td><td>8.460000</td><td>14.95429</td><td>24.74951</td><td>29.078391</td><td>13.69341</td><td>688</td></tr>\n",
       "</tbody>\n",
       "</table>\n"
      ],
      "text/latex": [
       "A data.table: 3 × 872\n",
       "\\begin{tabular}{lllllllllllllllllllll}\n",
       " chr & start & ACC TCGA-OR-A5J2 & ACC TCGA-OR-A5J3 & ACC TCGA-OR-A5J6 & ACC TCGA-OR-A5J9 & ACC TCGA-OR-A5JZ & ACC TCGA-OR-A5K8 & ACC TCGA-OR-A5KX & ACC TCGA-PA-A5YG & ⋯ & Repli seq of NHEK S2 phase & Repli seq of NHEK S3 phase & Repli seq of NHEK S4 phase & Repli seq of SK N SH G1 phase & Repli seq of SK N SH G2 phase & Repli seq of SK N SH S1 phase & Repli seq of SK N SH S2 phase & Repli seq of SK N SH S3 phase & Repli seq of SK N SH S4 phase & Breast-AdenoCa\\\\\n",
       " <chr> & <int> & <dbl> & <dbl> & <dbl> & <dbl> & <dbl> & <dbl> & <dbl> & <dbl> & ⋯ & <dbl> & <dbl> & <dbl> & <dbl> & <dbl> & <dbl> & <dbl> & <dbl> & <dbl> & <int>\\\\\n",
       "\\hline\n",
       "\t chr1 & 2000001 & 3.985625 & 3.3680199 & 4.549601 & 1.8892585 & 3.274139 & 3.1206030 & 2.9564165 & 3.9239266 & ⋯ & 12.02102 & 11.92807 &  8.420803 & 39.16145 & 9.017025 & 22.80582 & 13.88087 &  5.706045 &  3.00250 & 403\\\\\n",
       "\t chr1 & 3000001 & 3.777538 & 2.1058428 & 2.733947 & 1.3259219 & 1.865876 & 1.7705485 & 1.9169945 & 1.8410087 & ⋯ & 19.64354 & 16.83726 &  9.974132 & 25.69529 & 7.608355 & 29.66111 & 22.55539 &  9.649642 &  4.16149 & 529\\\\\n",
       "\t chr1 & 4000001 & 1.755230 & 0.8019908 & 1.247900 & 0.4344994 & 0.395774 & 0.6742724 & 0.4020992 & 0.3389768 & ⋯ & 15.36473 & 36.71549 & 28.632269 &  8.97739 & 8.460000 & 14.95429 & 24.74951 & 29.078391 & 13.69341 & 688\\\\\n",
       "\\end{tabular}\n"
      ],
      "text/markdown": [
       "\n",
       "A data.table: 3 × 872\n",
       "\n",
       "| chr &lt;chr&gt; | start &lt;int&gt; | ACC TCGA-OR-A5J2 &lt;dbl&gt; | ACC TCGA-OR-A5J3 &lt;dbl&gt; | ACC TCGA-OR-A5J6 &lt;dbl&gt; | ACC TCGA-OR-A5J9 &lt;dbl&gt; | ACC TCGA-OR-A5JZ &lt;dbl&gt; | ACC TCGA-OR-A5K8 &lt;dbl&gt; | ACC TCGA-OR-A5KX &lt;dbl&gt; | ACC TCGA-PA-A5YG &lt;dbl&gt; | ⋯ ⋯ | Repli seq of NHEK S2 phase &lt;dbl&gt; | Repli seq of NHEK S3 phase &lt;dbl&gt; | Repli seq of NHEK S4 phase &lt;dbl&gt; | Repli seq of SK N SH G1 phase &lt;dbl&gt; | Repli seq of SK N SH G2 phase &lt;dbl&gt; | Repli seq of SK N SH S1 phase &lt;dbl&gt; | Repli seq of SK N SH S2 phase &lt;dbl&gt; | Repli seq of SK N SH S3 phase &lt;dbl&gt; | Repli seq of SK N SH S4 phase &lt;dbl&gt; | Breast-AdenoCa &lt;int&gt; |\n",
       "|---|---|---|---|---|---|---|---|---|---|---|---|---|---|---|---|---|---|---|---|---|\n",
       "| chr1 | 2000001 | 3.985625 | 3.3680199 | 4.549601 | 1.8892585 | 3.274139 | 3.1206030 | 2.9564165 | 3.9239266 | ⋯ | 12.02102 | 11.92807 |  8.420803 | 39.16145 | 9.017025 | 22.80582 | 13.88087 |  5.706045 |  3.00250 | 403 |\n",
       "| chr1 | 3000001 | 3.777538 | 2.1058428 | 2.733947 | 1.3259219 | 1.865876 | 1.7705485 | 1.9169945 | 1.8410087 | ⋯ | 19.64354 | 16.83726 |  9.974132 | 25.69529 | 7.608355 | 29.66111 | 22.55539 |  9.649642 |  4.16149 | 529 |\n",
       "| chr1 | 4000001 | 1.755230 | 0.8019908 | 1.247900 | 0.4344994 | 0.395774 | 0.6742724 | 0.4020992 | 0.3389768 | ⋯ | 15.36473 | 36.71549 | 28.632269 |  8.97739 | 8.460000 | 14.95429 | 24.74951 | 29.078391 | 13.69341 | 688 |\n",
       "\n"
      ],
      "text/plain": [
       "  chr  start   ACC TCGA-OR-A5J2 ACC TCGA-OR-A5J3 ACC TCGA-OR-A5J6\n",
       "1 chr1 2000001 3.985625         3.3680199        4.549601        \n",
       "2 chr1 3000001 3.777538         2.1058428        2.733947        \n",
       "3 chr1 4000001 1.755230         0.8019908        1.247900        \n",
       "  ACC TCGA-OR-A5J9 ACC TCGA-OR-A5JZ ACC TCGA-OR-A5K8 ACC TCGA-OR-A5KX\n",
       "1 1.8892585        3.274139         3.1206030        2.9564165       \n",
       "2 1.3259219        1.865876         1.7705485        1.9169945       \n",
       "3 0.4344994        0.395774         0.6742724        0.4020992       \n",
       "  ACC TCGA-PA-A5YG <U+22EF>        Repli seq of NHEK S2 phase\n",
       "1 3.9239266        <U+22EF> 12.02102                  \n",
       "2 1.8410087        <U+22EF> 19.64354                  \n",
       "3 0.3389768        <U+22EF> 15.36473                  \n",
       "  Repli seq of NHEK S3 phase Repli seq of NHEK S4 phase\n",
       "1 11.92807                    8.420803                 \n",
       "2 16.83726                    9.974132                 \n",
       "3 36.71549                   28.632269                 \n",
       "  Repli seq of SK N SH G1 phase Repli seq of SK N SH G2 phase\n",
       "1 39.16145                      9.017025                     \n",
       "2 25.69529                      7.608355                     \n",
       "3  8.97739                      8.460000                     \n",
       "  Repli seq of SK N SH S1 phase Repli seq of SK N SH S2 phase\n",
       "1 22.80582                      13.88087                     \n",
       "2 29.66111                      22.55539                     \n",
       "3 14.95429                      24.74951                     \n",
       "  Repli seq of SK N SH S3 phase Repli seq of SK N SH S4 phase Breast-AdenoCa\n",
       "1  5.706045                      3.00250                      403           \n",
       "2  9.649642                      4.16149                      529           \n",
       "3 29.078391                     13.69341                      688           "
      ]
     },
     "metadata": {},
     "output_type": "display_data"
    }
   ],
   "source": [
    "CA_RT_breastcancermuts = merge(CA_RT_MBscale, \n",
    "\t\t\t\t\t\t\t\t\tPCAWG_mutations_binned_MBscale[,c(\"chr\", \"start\", \"Breast-AdenoCa\")], \n",
    "\t\t\t\t\t\t\t\t\tby=c(\"chr\", \"start\"))\n",
    "head(CA_RT_breastcancermuts, 3)"
   ]
  },
  {
   "cell_type": "markdown",
   "metadata": {},
   "source": [
    "Now we train a random forest models on the combined CA and RT predictor set to predict regional mutation burden in breast cancer."
   ]
  },
  {
   "cell_type": "code",
   "execution_count": 5,
   "metadata": {},
   "outputs": [],
   "source": [
    "#Assign variables to predictors and response\n",
    "predictors = CA_RT_breastcancermuts[,-c(\"chr\", \"start\", \"Breast-AdenoCa\")]\n",
    "response = CA_RT_breastcancermuts[[\"Breast-AdenoCa\"]]\n",
    "\n",
    "#Train randomForest model\n",
    "rf = randomForest(x = predictors, y = response, \n",
    "\t\t\t\t\t\t\t keep.forest = T, ntree = 100, \n",
    "\t\t\t\t\t\t\t do.trace = F, importance = T)"
   ]
  },
  {
   "cell_type": "markdown",
   "metadata": {},
   "source": [
    "Now we can find the windows (genomic regions) with significantly more mutations than predicted by our model. We do that by creating a one-tailed normal distrbution based on the model residuals (as we are interested in windows with more mutations than predicted, not less) and then we assess the p-value of each window in relation to that distribution."
   ]
  },
  {
   "cell_type": "code",
   "execution_count": 13,
   "metadata": {},
   "outputs": [],
   "source": [
    "#Define model residuals\n",
    "observed_mutations = response\n",
    "predicted_mutations = rf$predicted\n",
    "model_residuals = observed_mutations - predicted_mutations\n",
    "\n",
    "#Define p-values using one-tailed normal distribution (only higher observed than predicted mutations get significant p-values)\n",
    "p_values = pnorm(model_residuals, \n",
    "\t\t\t\t\tmean = mean(model_residuals),\n",
    "\t\t\t\t\tsd = sd(model_residuals),\n",
    "\t\t\t\t\tlower.tail = F) \n",
    "\n",
    "#Assign p-values to genomic regions\n",
    "p_val_dt = as.data.table(cbind.data.frame(chr = CA_RT_breastcancermuts$chr,\n",
    "\t\t\t\t\t\t\t\t\t\t start = CA_RT_breastcancermuts$start,\n",
    "\t\t\t\t\t\t\t\t\t\t observed = observed_mutations,\n",
    "\t\t\t\t\t\t\t\t\t\t predicted = predicted_mutations,\n",
    "\t\t\t\t\t\t\t\t\t\t p_val = p_values))"
   ]
  },
  {
   "cell_type": "markdown",
   "metadata": {},
   "source": [
    "Now we have p-values for every megabase-scale window in our analysis that describes excess mutations in the breast cancer cohort in relation to our model predictions. We can display the top 5 genomic regions with excess mutations."
   ]
  },
  {
   "cell_type": "code",
   "execution_count": 14,
   "metadata": {},
   "outputs": [
    {
     "data": {
      "text/html": [
       "<table>\n",
       "<caption>A data.table: 5 × 5</caption>\n",
       "<thead>\n",
       "\t<tr><th scope=col>chr</th><th scope=col>start</th><th scope=col>observed</th><th scope=col>predicted</th><th scope=col>p_val</th></tr>\n",
       "\t<tr><th scope=col>&lt;chr&gt;</th><th scope=col>&lt;int&gt;</th><th scope=col>&lt;int&gt;</th><th scope=col>&lt;dbl&gt;</th><th scope=col>&lt;dbl&gt;</th></tr>\n",
       "</thead>\n",
       "<tbody>\n",
       "\t<tr><td>chr1 </td><td>240000001</td><td>1149</td><td>634.1370</td><td>7.487711e-15</td></tr>\n",
       "\t<tr><td>chr1 </td><td>158000001</td><td> 958</td><td>624.7000</td><td>3.180342e-07</td></tr>\n",
       "\t<tr><td>chr20</td><td> 55000001</td><td> 986</td><td>674.8869</td><td>1.667436e-06</td></tr>\n",
       "\t<tr><td>chr1 </td><td>237000001</td><td>1066</td><td>766.0458</td><td>3.686692e-06</td></tr>\n",
       "\t<tr><td>chr10</td><td> 37000001</td><td> 877</td><td>578.8883</td><td>4.191983e-06</td></tr>\n",
       "</tbody>\n",
       "</table>\n"
      ],
      "text/latex": [
       "A data.table: 5 × 5\n",
       "\\begin{tabular}{lllll}\n",
       " chr & start & observed & predicted & p\\_val\\\\\n",
       " <chr> & <int> & <int> & <dbl> & <dbl>\\\\\n",
       "\\hline\n",
       "\t chr1  & 240000001 & 1149 & 634.1370 & 7.487711e-15\\\\\n",
       "\t chr1  & 158000001 &  958 & 624.7000 & 3.180342e-07\\\\\n",
       "\t chr20 &  55000001 &  986 & 674.8869 & 1.667436e-06\\\\\n",
       "\t chr1  & 237000001 & 1066 & 766.0458 & 3.686692e-06\\\\\n",
       "\t chr10 &  37000001 &  877 & 578.8883 & 4.191983e-06\\\\\n",
       "\\end{tabular}\n"
      ],
      "text/markdown": [
       "\n",
       "A data.table: 5 × 5\n",
       "\n",
       "| chr &lt;chr&gt; | start &lt;int&gt; | observed &lt;int&gt; | predicted &lt;dbl&gt; | p_val &lt;dbl&gt; |\n",
       "|---|---|---|---|---|\n",
       "| chr1  | 240000001 | 1149 | 634.1370 | 7.487711e-15 |\n",
       "| chr1  | 158000001 |  958 | 624.7000 | 3.180342e-07 |\n",
       "| chr20 |  55000001 |  986 | 674.8869 | 1.667436e-06 |\n",
       "| chr1  | 237000001 | 1066 | 766.0458 | 3.686692e-06 |\n",
       "| chr10 |  37000001 |  877 | 578.8883 | 4.191983e-06 |\n",
       "\n"
      ],
      "text/plain": [
       "  chr   start     observed predicted p_val       \n",
       "1 chr1  240000001 1149     634.1370  7.487711e-15\n",
       "2 chr1  158000001  958     624.7000  3.180342e-07\n",
       "3 chr20  55000001  986     674.8869  1.667436e-06\n",
       "4 chr1  237000001 1066     766.0458  3.686692e-06\n",
       "5 chr10  37000001  877     578.8883  4.191983e-06"
      ]
     },
     "metadata": {},
     "output_type": "display_data"
    }
   ],
   "source": [
    "p_val_dt[order(p_val)][1:5]"
   ]
  },
  {
   "cell_type": "markdown",
   "metadata": {},
   "source": [
    "Now we have a p-value for excess mutations for each of our genomic windows which allows us to do further analysis as to why these genomic regions contain excess mutations."
   ]
  }
 ],
 "metadata": {
  "kernelspec": {
   "display_name": "R",
   "language": "R",
   "name": "ir"
  },
  "language_info": {
   "codemirror_mode": "r",
   "file_extension": ".r",
   "mimetype": "text/x-r-source",
   "name": "R",
   "pygments_lexer": "r",
   "version": "4.0.3"
  }
 },
 "nbformat": 4,
 "nbformat_minor": 4
}
