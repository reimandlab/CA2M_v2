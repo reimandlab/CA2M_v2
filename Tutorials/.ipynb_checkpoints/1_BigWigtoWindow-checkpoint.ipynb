{
 "cells": [
  {
   "cell_type": "markdown",
   "metadata": {},
   "source": [
    "# How to create an average binned track from a BigWig genomic track with window size of interest"
   ]
  },
  {
   "cell_type": "markdown",
   "metadata": {},
   "source": [
    "### By: Oliver Ocsenas"
   ]
  },
  {
   "cell_type": "markdown",
   "metadata": {},
   "source": [
    "When studying the association between two or more genome-wide -omics datasets, it may be useful to first get the average value of these datasets in equally sized non-overlapping windows across the genome. We can then use simple linear models or more complex machine learning models to study the associations between our datasets at the scale of the window size we have selected. In this tutorial, we will explore how to create these average binned tracks from BigWig files of -omics datasets."
   ]
  },
  {
   "cell_type": "markdown",
   "metadata": {},
   "source": [
    "First we will load in some basic packages that will be useful."
   ]
  },
  {
   "cell_type": "code",
   "execution_count": 3,
   "metadata": {},
   "outputs": [
    {
     "data": {
      "text/html": [
       "<ol>\n",
       "\t<li>TRUE</li>\n",
       "\t<li>TRUE</li>\n",
       "\t<li>TRUE</li>\n",
       "\t<li>TRUE</li>\n",
       "</ol>\n"
      ],
      "text/latex": [
       "\\begin{enumerate}\n",
       "\\item TRUE\n",
       "\\item TRUE\n",
       "\\item TRUE\n",
       "\\item TRUE\n",
       "\\end{enumerate}\n"
      ],
      "text/markdown": [
       "1. TRUE\n",
       "2. TRUE\n",
       "3. TRUE\n",
       "4. TRUE\n",
       "\n",
       "\n"
      ],
      "text/plain": [
       "[[1]]\n",
       "[1] TRUE\n",
       "\n",
       "[[2]]\n",
       "[1] TRUE\n",
       "\n",
       "[[3]]\n",
       "[1] TRUE\n",
       "\n",
       "[[4]]\n",
       "[1] TRUE\n"
      ]
     },
     "metadata": {},
     "output_type": "display_data"
    }
   ],
   "source": [
    "packages = c(\"data.table\", \"GenomicRanges\", \"rtracklayer\", \"BSgenome.Hsapiens.UCSC.hg38\")\n",
    "lapply(packages, function(x) suppressMessages(require(x, character.only = TRUE)))"
   ]
  },
  {
   "cell_type": "markdown",
   "metadata": {},
   "source": [
    "We will load in an example BigWig file containing genome-wide ATAC-Seq values from a breast cancer sample."
   ]
  },
  {
   "cell_type": "code",
   "execution_count": 6,
   "metadata": {},
   "outputs": [
    {
     "data": {
      "text/plain": [
       "GRanges object with 20330312 ranges and 1 metadata column:\n",
       "             seqnames            ranges strand |     score\n",
       "                <Rle>         <IRanges>  <Rle> | <numeric>\n",
       "         [1]     chr1            1-9999      * |   0.00000\n",
       "         [2]     chr1       10000-10099      * |  17.71652\n",
       "         [3]     chr1       10100-10199      * |  30.60127\n",
       "         [4]     chr1       10200-10299      * |   9.66356\n",
       "         [5]     chr1       10300-10399      * |   4.83178\n",
       "         ...      ...               ...    ... .       ...\n",
       "  [20330308]     chrY 56886116-56886715      * |   0.00000\n",
       "  [20330309]     chrY 56886716-56886915      * |   1.61059\n",
       "  [20330310]     chrY 56886916-56887015      * |   0.00000\n",
       "  [20330311]     chrY 56887016-56887215      * |   1.61059\n",
       "  [20330312]     chrY 56887216-57227415      * |   0.00000\n",
       "  -------\n",
       "  seqinfo: 24 sequences from an unspecified genome"
      ]
     },
     "metadata": {},
     "output_type": "display_data"
    }
   ],
   "source": [
    "BRCA_bigwig = import(\"TCGA_BRCA_ATACSeq_chr1_2.bw\")\n",
    "BRCA_bigwig"
   ]
  },
  {
   "cell_type": "markdown",
   "metadata": {},
   "source": [
    "We can see that we have a GRanges object with a score column for non-overlapping but differently sized genomic regions. This score indicates the level of chromatin accessibility in each of these genomic regions. Now we may want to have an average score for much larger windows across the genome, say 1 megabase-pair (1 million base-pairs)."
   ]
  },
  {
   "cell_type": "markdown",
   "metadata": {},
   "source": [
    "We can create a GRanges object that contains the exact ranges or windows that we're interested in."
   ]
  },
  {
   "cell_type": "code",
   "execution_count": 21,
   "metadata": {},
   "outputs": [
    {
     "data": {
      "text/plain": [
       "GRanges object with 2887 ranges and 0 metadata columns:\n",
       "         seqnames            ranges strand\n",
       "            <Rle>         <IRanges>  <Rle>\n",
       "     [1]     chr1         1-1000000      *\n",
       "     [2]     chr1   1000001-2000000      *\n",
       "     [3]     chr1   2000001-3000000      *\n",
       "     [4]     chr1   3000001-4000000      *\n",
       "     [5]     chr1   4000001-5000000      *\n",
       "     ...      ...               ...    ...\n",
       "  [2883]    chr22 46000001-47000000      *\n",
       "  [2884]    chr22 47000001-48000000      *\n",
       "  [2885]    chr22 48000001-49000000      *\n",
       "  [2886]    chr22 49000001-50000000      *\n",
       "  [2887]    chr22 50000001-50818468      *\n",
       "  -------\n",
       "  seqinfo: 22 sequences from hg38 genome"
      ]
     },
     "metadata": {},
     "output_type": "display_data"
    }
   ],
   "source": [
    "window_size = 1000000\n",
    "\n",
    "#Load in human genome hg38\n",
    "genome = BSgenome.Hsapiens.UCSC.hg38\n",
    "\n",
    "#Convert autosomal genome (chromosomes 1 through 22) into windows of specified size \n",
    "# and cut last window in each chromosome to stay within chromosome\n",
    "gr.windows = tileGenome(seqinfo(Hsapiens)[paste(\"chr\",1:22,sep=\"\")], \n",
    "\t\t\t\t\t\ttilewidth = window_size, \n",
    "\t\t\t\t\t\tcut.last.tile.in.chrom=TRUE)\n",
    "\n",
    "gr.windows"
   ]
  },
  {
   "cell_type": "markdown",
   "metadata": {},
   "source": [
    "Next we can convert our initial BigWig to a more manageable state where we have the length of each window and its corresponding score."
   ]
  },
  {
   "cell_type": "code",
   "execution_count": 22,
   "metadata": {},
   "outputs": [
    {
     "data": {
      "text/plain": [
       "RleList of length 2\n",
       "$chr1\n",
       "numeric-Rle of length 248956422 with 1704559 runs\n",
       "  Lengths:     9999      100      100      100 ...      100      200    10000\n",
       "  Values :  0.00000 17.71652 30.60127  9.66356 ...  9.66356  4.83178  0.00000\n",
       "\n",
       "$chr2\n",
       "numeric-Rle of length 242193529 with 1656216 runs\n",
       "  Lengths:    10199      100      100      100 ...      100      100    10000\n",
       "  Values :  0.00000  1.61059  4.83178  6.44237 ...  3.22119  4.83178  0.00000\n"
      ]
     },
     "metadata": {},
     "output_type": "display_data"
    }
   ],
   "source": [
    "#Get an RleList object with one coverage vector per chromosome in the BigWig\n",
    "coverage_vector = GenomicRanges::coverage(BRCA_bigwig, weight=\"score\")\n",
    "head(coverage_vector, 2)"
   ]
  },
  {
   "cell_type": "code",
   "execution_count": 27,
   "metadata": {},
   "outputs": [],
   "source": [
    "#Match chromosomes between input and human genome\n",
    "seqlevels(gr.windows, pruning.mode=\"coarse\") = names(coverage_vector)"
   ]
  },
  {
   "cell_type": "markdown",
   "metadata": {},
   "source": [
    "Now we can get the binned average chromatin accessibility score for each of our megabase-pair sized windows."
   ]
  },
  {
   "cell_type": "code",
   "execution_count": 29,
   "metadata": {},
   "outputs": [
    {
     "data": {
      "text/plain": [
       "GRanges object with 2887 ranges and 1 metadata column:\n",
       "         seqnames            ranges strand |     value\n",
       "            <Rle>         <IRanges>  <Rle> | <numeric>\n",
       "     [1]     chr1         1-1000000      * |  0.900821\n",
       "     [2]     chr1   1000001-2000000      * |  5.370671\n",
       "     [3]     chr1   2000001-3000000      * |  4.118927\n",
       "     [4]     chr1   3000001-4000000      * |  2.915980\n",
       "     [5]     chr1   4000001-5000000      * |  1.482712\n",
       "     ...      ...               ...    ... .       ...\n",
       "  [2883]    chr22 46000001-47000000      * |  10.23986\n",
       "  [2884]    chr22 47000001-48000000      * |   2.87957\n",
       "  [2885]    chr22 48000001-49000000      * |   2.62055\n",
       "  [2886]    chr22 49000001-50000000      * |   4.78436\n",
       "  [2887]    chr22 50000001-50818468      * |   9.19745\n",
       "  -------\n",
       "  seqinfo: 24 sequences from 2 genomes (hg38, NA)"
      ]
     },
     "metadata": {},
     "output_type": "display_data"
    }
   ],
   "source": [
    "#Get binned average for each window\n",
    "gr.data.new = binnedAverage(gr.windows, coverage_vector, \"value\")\n",
    "\n",
    "gr.data.new"
   ]
  },
  {
   "cell_type": "markdown",
   "metadata": {},
   "source": [
    "And now we have a binned average chromatin accessibility track for each megabase-pair sized window that we can compare to other datasets binned at the same scale."
   ]
  }
 ],
 "metadata": {
  "kernelspec": {
   "display_name": "R",
   "language": "R",
   "name": "ir"
  },
  "language_info": {
   "codemirror_mode": "r",
   "file_extension": ".r",
   "mimetype": "text/x-r-source",
   "name": "R",
   "pygments_lexer": "r",
   "version": "4.0.3"
  }
 },
 "nbformat": 4,
 "nbformat_minor": 4
}
