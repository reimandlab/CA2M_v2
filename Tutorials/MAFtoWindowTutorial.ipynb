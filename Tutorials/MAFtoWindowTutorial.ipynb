{
 "cells": [
  {
   "cell_type": "markdown",
   "metadata": {},
   "source": [
    "# How to create a summed mutation track from a MAF mutation file"
   ]
  },
  {
   "cell_type": "markdown",
   "metadata": {},
   "source": [
    "### By: Oliver Ocsenas"
   ]
  },
  {
   "cell_type": "markdown",
   "metadata": {},
   "source": [
    "When studying the association between genome-wide regional mutation burden (SNV's) and other genome-wide -omics datasets, it may be useful to first get the total number of mutations in equally sized non-overlapping windows across the genome. We can then use simple linear models or more complex machine learning models to study the associations between our datasets at the scale of the window size we have selected. In this tutorial, we will explore how to create these summed mutation files from whole-genome SNV datasets."
   ]
  },
  {
   "cell_type": "markdown",
   "metadata": {},
   "source": [
    "First we will load in some basic packages that will be useful."
   ]
  },
  {
   "cell_type": "code",
   "execution_count": 1,
   "metadata": {},
   "outputs": [
    {
     "data": {
      "text/html": [
       "<ol>\n",
       "\t<li>TRUE</li>\n",
       "\t<li>TRUE</li>\n",
       "\t<li>TRUE</li>\n",
       "\t<li>TRUE</li>\n",
       "</ol>\n"
      ],
      "text/latex": [
       "\\begin{enumerate}\n",
       "\\item TRUE\n",
       "\\item TRUE\n",
       "\\item TRUE\n",
       "\\item TRUE\n",
       "\\end{enumerate}\n"
      ],
      "text/markdown": [
       "1. TRUE\n",
       "2. TRUE\n",
       "3. TRUE\n",
       "4. TRUE\n",
       "\n",
       "\n"
      ],
      "text/plain": [
       "[[1]]\n",
       "[1] TRUE\n",
       "\n",
       "[[2]]\n",
       "[1] TRUE\n",
       "\n",
       "[[3]]\n",
       "[1] TRUE\n",
       "\n",
       "[[4]]\n",
       "[1] TRUE\n"
      ]
     },
     "metadata": {},
     "output_type": "display_data"
    }
   ],
   "source": [
    "packages = c(\"data.table\", \"GenomicRanges\", \"rtracklayer\", \"BSgenome.Hsapiens.UCSC.hg38\")\n",
    "lapply(packages, function(x) suppressMessages(require(x, character.only = TRUE)))"
   ]
  },
  {
   "cell_type": "markdown",
   "metadata": {},
   "source": [
    "We will first load in an example MAF file containing some mutations from a breast cancer cohort from PCAWG."
   ]
  },
  {
   "cell_type": "code",
   "execution_count": 5,
   "metadata": {},
   "outputs": [
    {
     "data": {
      "text/html": [
       "<table>\n",
       "<caption>A data.table: 6 × 4</caption>\n",
       "<thead>\n",
       "\t<tr><th scope=col>Chromosome</th><th scope=col>Start_position</th><th scope=col>End_position</th><th scope=col>Project_Code</th></tr>\n",
       "\t<tr><th scope=col>&lt;chr&gt;</th><th scope=col>&lt;int&gt;</th><th scope=col>&lt;int&gt;</th><th scope=col>&lt;chr&gt;</th></tr>\n",
       "</thead>\n",
       "<tbody>\n",
       "\t<tr><td>chr1</td><td> 918404</td><td> 918404</td><td>Breast-AdenoCa</td></tr>\n",
       "\t<tr><td>chr1</td><td> 918741</td><td> 918741</td><td>Breast-AdenoCa</td></tr>\n",
       "\t<tr><td>chr1</td><td> 919337</td><td> 919337</td><td>Breast-AdenoCa</td></tr>\n",
       "\t<tr><td>chr1</td><td>1304193</td><td>1304193</td><td>Breast-AdenoCa</td></tr>\n",
       "\t<tr><td>chr1</td><td>1820141</td><td>1820141</td><td>Breast-AdenoCa</td></tr>\n",
       "\t<tr><td>chr1</td><td>1925516</td><td>1925516</td><td>Breast-AdenoCa</td></tr>\n",
       "</tbody>\n",
       "</table>\n"
      ],
      "text/latex": [
       "A data.table: 6 × 4\n",
       "\\begin{tabular}{llll}\n",
       " Chromosome & Start\\_position & End\\_position & Project\\_Code\\\\\n",
       " <chr> & <int> & <int> & <chr>\\\\\n",
       "\\hline\n",
       "\t chr1 &  918404 &  918404 & Breast-AdenoCa\\\\\n",
       "\t chr1 &  918741 &  918741 & Breast-AdenoCa\\\\\n",
       "\t chr1 &  919337 &  919337 & Breast-AdenoCa\\\\\n",
       "\t chr1 & 1304193 & 1304193 & Breast-AdenoCa\\\\\n",
       "\t chr1 & 1820141 & 1820141 & Breast-AdenoCa\\\\\n",
       "\t chr1 & 1925516 & 1925516 & Breast-AdenoCa\\\\\n",
       "\\end{tabular}\n"
      ],
      "text/markdown": [
       "\n",
       "A data.table: 6 × 4\n",
       "\n",
       "| Chromosome &lt;chr&gt; | Start_position &lt;int&gt; | End_position &lt;int&gt; | Project_Code &lt;chr&gt; |\n",
       "|---|---|---|---|\n",
       "| chr1 |  918404 |  918404 | Breast-AdenoCa |\n",
       "| chr1 |  918741 |  918741 | Breast-AdenoCa |\n",
       "| chr1 |  919337 |  919337 | Breast-AdenoCa |\n",
       "| chr1 | 1304193 | 1304193 | Breast-AdenoCa |\n",
       "| chr1 | 1820141 | 1820141 | Breast-AdenoCa |\n",
       "| chr1 | 1925516 | 1925516 | Breast-AdenoCa |\n",
       "\n"
      ],
      "text/plain": [
       "  Chromosome Start_position End_position Project_Code  \n",
       "1 chr1        918404         918404      Breast-AdenoCa\n",
       "2 chr1        918741         918741      Breast-AdenoCa\n",
       "3 chr1        919337         919337      Breast-AdenoCa\n",
       "4 chr1       1304193        1304193      Breast-AdenoCa\n",
       "5 chr1       1820141        1820141      Breast-AdenoCa\n",
       "6 chr1       1925516        1925516      Breast-AdenoCa"
      ]
     },
     "metadata": {},
     "output_type": "display_data"
    }
   ],
   "source": [
    "breast_cancer_MAF = fread(\"PCAWG_breastcancer_SNV.MAF\")\n",
    "head(breast_cancer_MAF)"
   ]
  },
  {
   "cell_type": "markdown",
   "metadata": {},
   "source": [
    "We can see that we have a table with a genomic positions for single nucleotide variants from a breast cancer cohort. Now we may want to know whether certain regions of the genome have more mutations than others so we find the sum of mutations in our equally-sized, non-overlapping windows."
   ]
  },
  {
   "cell_type": "markdown",
   "metadata": {},
   "source": [
    "We can create a GRanges object that contains the exact ranges or windows that we're interested in."
   ]
  },
  {
   "cell_type": "code",
   "execution_count": 6,
   "metadata": {},
   "outputs": [
    {
     "data": {
      "text/plain": [
       "GRanges object with 2887 ranges and 0 metadata columns:\n",
       "         seqnames            ranges strand\n",
       "            <Rle>         <IRanges>  <Rle>\n",
       "     [1]     chr1         1-1000000      *\n",
       "     [2]     chr1   1000001-2000000      *\n",
       "     [3]     chr1   2000001-3000000      *\n",
       "     [4]     chr1   3000001-4000000      *\n",
       "     [5]     chr1   4000001-5000000      *\n",
       "     ...      ...               ...    ...\n",
       "  [2883]    chr22 46000001-47000000      *\n",
       "  [2884]    chr22 47000001-48000000      *\n",
       "  [2885]    chr22 48000001-49000000      *\n",
       "  [2886]    chr22 49000001-50000000      *\n",
       "  [2887]    chr22 50000001-50818468      *\n",
       "  -------\n",
       "  seqinfo: 22 sequences from hg38 genome"
      ]
     },
     "metadata": {},
     "output_type": "display_data"
    }
   ],
   "source": [
    "window_size = 1000000\n",
    "\n",
    "#Load in human genome hg38\n",
    "genome = BSgenome.Hsapiens.UCSC.hg38\n",
    "\n",
    "#Convert autosomal genome (chromosomes 1 through 22) into windows of specified size \n",
    "# and cut last window in each chromosome to stay within chromosome\n",
    "gr.windows = tileGenome(seqinfo(Hsapiens)[paste(\"chr\",1:22,sep=\"\")], \n",
    "\t\t\t\t\t\ttilewidth = window_size, \n",
    "\t\t\t\t\t\tcut.last.tile.in.chrom=TRUE)\n",
    "\n",
    "gr.windows"
   ]
  },
  {
   "cell_type": "markdown",
   "metadata": {},
   "source": [
    "Next we can convert our initial MAF to a GRanges object as well."
   ]
  },
  {
   "cell_type": "code",
   "execution_count": 8,
   "metadata": {},
   "outputs": [
    {
     "data": {
      "text/plain": [
       "GRanges object with 1396733 ranges and 0 metadata columns:\n",
       "            seqnames    ranges strand\n",
       "               <Rle> <IRanges>  <Rle>\n",
       "        [1]     chr1    918404      *\n",
       "        [2]     chr1    918741      *\n",
       "        [3]     chr1    919337      *\n",
       "        [4]     chr1   1304193      *\n",
       "        [5]     chr1   1820141      *\n",
       "        ...      ...       ...    ...\n",
       "  [1396729]     chrX 154124510      *\n",
       "  [1396730]     chrX 154482329      *\n",
       "  [1396731]     chrX 155614529      *\n",
       "  [1396732]     chrX 155772375      *\n",
       "  [1396733]     chrX 155971989      *\n",
       "  -------\n",
       "  seqinfo: 24 sequences from an unspecified genome; no seqlengths"
      ]
     },
     "metadata": {},
     "output_type": "display_data"
    }
   ],
   "source": [
    " #Convert mutations file into GRanges object\n",
    "MAF.gr = GRanges(breast_cancer_MAF$Chromosome, \n",
    "\t\t\t\t\t  IRanges(breast_cancer_MAF$Start_position, breast_cancer_MAF$End_position))\n",
    "MAF.gr"
   ]
  },
  {
   "cell_type": "markdown",
   "metadata": {},
   "source": [
    "And we can get the sum of mutations overlapping each of our windows."
   ]
  },
  {
   "cell_type": "code",
   "execution_count": 9,
   "metadata": {},
   "outputs": [
    {
     "data": {
      "text/html": [
       "<style>\n",
       ".list-inline {list-style: none; margin:0; padding: 0}\n",
       ".list-inline>li {display: inline-block}\n",
       ".list-inline>li:not(:last-child)::after {content: \"\\00b7\"; padding: 0 .5ex}\n",
       "</style>\n",
       "<ol class=list-inline><li>76</li><li>397</li><li>403</li><li>529</li><li>688</li><li>499</li></ol>\n"
      ],
      "text/latex": [
       "\\begin{enumerate*}\n",
       "\\item 76\n",
       "\\item 397\n",
       "\\item 403\n",
       "\\item 529\n",
       "\\item 688\n",
       "\\item 499\n",
       "\\end{enumerate*}\n"
      ],
      "text/markdown": [
       "1. 76\n",
       "2. 397\n",
       "3. 403\n",
       "4. 529\n",
       "5. 688\n",
       "6. 499\n",
       "\n",
       "\n"
      ],
      "text/plain": [
       "[1]  76 397 403 529 688 499"
      ]
     },
     "metadata": {},
     "output_type": "display_data"
    }
   ],
   "source": [
    "#Get number of counts of mutations overlapping each genomic window\n",
    "mutation_counts = as.numeric(table(factor(queryHits(findOverlaps(gr.windows, MAF.gr)), \n",
    "\t\t\t\t\t\t\t\t\t\t  levels = 1:length(gr.windows))))\n",
    "head(mutation_counts)"
   ]
  },
  {
   "cell_type": "markdown",
   "metadata": {},
   "source": [
    "Finally, we create a data table combining the genomic positions of the windows and the number of overlapping mutations to have create representing the regional mutational burden from our MAF file."
   ]
  },
  {
   "cell_type": "code",
   "execution_count": 10,
   "metadata": {},
   "outputs": [
    {
     "data": {
      "text/html": [
       "<table>\n",
       "<caption>A data.table: 6 × 3</caption>\n",
       "<thead>\n",
       "\t<tr><th scope=col>chr</th><th scope=col>start</th><th scope=col>Mut_counts</th></tr>\n",
       "\t<tr><th scope=col>&lt;chr&gt;</th><th scope=col>&lt;int&gt;</th><th scope=col>&lt;dbl&gt;</th></tr>\n",
       "</thead>\n",
       "<tbody>\n",
       "\t<tr><td>chr1</td><td>      1</td><td> 76</td></tr>\n",
       "\t<tr><td>chr1</td><td>1000001</td><td>397</td></tr>\n",
       "\t<tr><td>chr1</td><td>2000001</td><td>403</td></tr>\n",
       "\t<tr><td>chr1</td><td>3000001</td><td>529</td></tr>\n",
       "\t<tr><td>chr1</td><td>4000001</td><td>688</td></tr>\n",
       "\t<tr><td>chr1</td><td>5000001</td><td>499</td></tr>\n",
       "</tbody>\n",
       "</table>\n"
      ],
      "text/latex": [
       "A data.table: 6 × 3\n",
       "\\begin{tabular}{lll}\n",
       " chr & start & Mut\\_counts\\\\\n",
       " <chr> & <int> & <dbl>\\\\\n",
       "\\hline\n",
       "\t chr1 &       1 &  76\\\\\n",
       "\t chr1 & 1000001 & 397\\\\\n",
       "\t chr1 & 2000001 & 403\\\\\n",
       "\t chr1 & 3000001 & 529\\\\\n",
       "\t chr1 & 4000001 & 688\\\\\n",
       "\t chr1 & 5000001 & 499\\\\\n",
       "\\end{tabular}\n"
      ],
      "text/markdown": [
       "\n",
       "A data.table: 6 × 3\n",
       "\n",
       "| chr &lt;chr&gt; | start &lt;int&gt; | Mut_counts &lt;dbl&gt; |\n",
       "|---|---|---|\n",
       "| chr1 |       1 |  76 |\n",
       "| chr1 | 1000001 | 397 |\n",
       "| chr1 | 2000001 | 403 |\n",
       "| chr1 | 3000001 | 529 |\n",
       "| chr1 | 4000001 | 688 |\n",
       "| chr1 | 5000001 | 499 |\n",
       "\n"
      ],
      "text/plain": [
       "  chr  start   Mut_counts\n",
       "1 chr1       1  76       \n",
       "2 chr1 1000001 397       \n",
       "3 chr1 2000001 403       \n",
       "4 chr1 3000001 529       \n",
       "5 chr1 4000001 688       \n",
       "6 chr1 5000001 499       "
      ]
     },
     "metadata": {},
     "output_type": "display_data"
    }
   ],
   "source": [
    "#Convert to data table with chromosome and start base pairs of window in addition to the mutation counts\n",
    "Mutation_dt = as.data.table(cbind.data.frame(chr = as.character(seqnames(gr.windows)), \n",
    "\t\t\t\t\t\t\t\t\t\tstart = start(gr.windows), \n",
    "\t\t\t\t\t\t\t\t\t\tMut_counts = mutation_counts))\n",
    "head(Mutation_dt)"
   ]
  }
 ],
 "metadata": {
  "kernelspec": {
   "display_name": "R",
   "language": "R",
   "name": "ir"
  },
  "language_info": {
   "codemirror_mode": "r",
   "file_extension": ".r",
   "mimetype": "text/x-r-source",
   "name": "R",
   "pygments_lexer": "r",
   "version": "4.0.3"
  }
 },
 "nbformat": 4,
 "nbformat_minor": 4
}
