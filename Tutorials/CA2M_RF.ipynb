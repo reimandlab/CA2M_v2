{
 "cells": [
  {
   "cell_type": "markdown",
   "metadata": {},
   "source": [
    "# How to use tumor and normal chromatin accessibility to predict regional mutation rates in cancer with a random forest machine learning model"
   ]
  },
  {
   "cell_type": "markdown",
   "metadata": {},
   "source": [
    "### By: Oliver Ocsenas"
   ]
  },
  {
   "cell_type": "markdown",
   "metadata": {},
   "source": [
    "The primary element of this study involves comparing the predictive power of chromatin accessibility when derived from tumor samples in predicting regional mutation burden in cancer when compared with chromatin accessibility derived from normal tissue samples. This is a small example of the data and methods used to make this comparison."
   ]
  },
  {
   "cell_type": "markdown",
   "metadata": {},
   "source": [
    "First, we will load in some useful packages."
   ]
  },
  {
   "cell_type": "code",
   "execution_count": 2,
   "metadata": {},
   "outputs": [
    {
     "data": {
      "text/html": [
       "<ol>\n",
       "\t<li>TRUE</li>\n",
       "\t<li>TRUE</li>\n",
       "</ol>\n"
      ],
      "text/latex": [
       "\\begin{enumerate}\n",
       "\\item TRUE\n",
       "\\item TRUE\n",
       "\\end{enumerate}\n"
      ],
      "text/markdown": [
       "1. TRUE\n",
       "2. TRUE\n",
       "\n",
       "\n"
      ],
      "text/plain": [
       "[[1]]\n",
       "[1] TRUE\n",
       "\n",
       "[[2]]\n",
       "[1] TRUE\n"
      ]
     },
     "metadata": {},
     "output_type": "display_data"
    }
   ],
   "source": [
    "packages = c(\"data.table\", \"randomForest\")\n",
    "lapply(packages, function(x) suppressMessages(require(x, character.only = TRUE)))"
   ]
  },
  {
   "cell_type": "markdown",
   "metadata": {},
   "source": [
    "Next, we will load in the appropriate data. This involves average binned tracks from tumor chromatin accessibility and replication timing as well as normal chromatin accessibility and replication timing at the megabase-scale"
   ]
  },
  {
   "cell_type": "code",
   "execution_count": 5,
   "metadata": {},
   "outputs": [
    {
     "data": {
      "text/html": [
       "<table>\n",
       "<caption>A data.table: 6 × 519</caption>\n",
       "<thead>\n",
       "\t<tr><th scope=col>chr</th><th scope=col>start</th><th scope=col>ACC TCGA-OR-A5J2</th><th scope=col>ACC TCGA-OR-A5J3</th><th scope=col>ACC TCGA-OR-A5J6</th><th scope=col>ACC TCGA-OR-A5J9</th><th scope=col>ACC TCGA-OR-A5JZ</th><th scope=col>ACC TCGA-OR-A5K8</th><th scope=col>ACC TCGA-OR-A5KX</th><th scope=col>ACC TCGA-PA-A5YG</th><th scope=col>⋯</th><th scope=col>Repli seq of NHEK S1 phase</th><th scope=col>Repli seq of NHEK S2 phase</th><th scope=col>Repli seq of NHEK S3 phase</th><th scope=col>Repli seq of NHEK S4 phase</th><th scope=col>Repli seq of SK N SH G1 phase</th><th scope=col>Repli seq of SK N SH G2 phase</th><th scope=col>Repli seq of SK N SH S1 phase</th><th scope=col>Repli seq of SK N SH S2 phase</th><th scope=col>Repli seq of SK N SH S3 phase</th><th scope=col>Repli seq of SK N SH S4 phase</th></tr>\n",
       "\t<tr><th scope=col>&lt;chr&gt;</th><th scope=col>&lt;int&gt;</th><th scope=col>&lt;dbl&gt;</th><th scope=col>&lt;dbl&gt;</th><th scope=col>&lt;dbl&gt;</th><th scope=col>&lt;dbl&gt;</th><th scope=col>&lt;dbl&gt;</th><th scope=col>&lt;dbl&gt;</th><th scope=col>&lt;dbl&gt;</th><th scope=col>&lt;dbl&gt;</th><th scope=col>⋯</th><th scope=col>&lt;dbl&gt;</th><th scope=col>&lt;dbl&gt;</th><th scope=col>&lt;dbl&gt;</th><th scope=col>&lt;dbl&gt;</th><th scope=col>&lt;dbl&gt;</th><th scope=col>&lt;dbl&gt;</th><th scope=col>&lt;dbl&gt;</th><th scope=col>&lt;dbl&gt;</th><th scope=col>&lt;dbl&gt;</th><th scope=col>&lt;dbl&gt;</th></tr>\n",
       "</thead>\n",
       "<tbody>\n",
       "\t<tr><td>chr1</td><td>2000001</td><td>3.985625</td><td>3.3680199</td><td>4.549601</td><td>1.8892585</td><td>3.2741389</td><td>3.1206030</td><td>2.9564165</td><td>3.9239266</td><td>⋯</td><td>16.263372</td><td>12.02102</td><td>11.92807</td><td> 8.420803</td><td>39.16145</td><td> 9.017025</td><td>22.80582</td><td>13.88087</td><td> 5.706045</td><td> 3.002500</td></tr>\n",
       "\t<tr><td>chr1</td><td>3000001</td><td>3.777538</td><td>2.1058428</td><td>2.733947</td><td>1.3259219</td><td>1.8658764</td><td>1.7705485</td><td>1.9169945</td><td>1.8410087</td><td>⋯</td><td>20.766127</td><td>19.64354</td><td>16.83726</td><td> 9.974132</td><td>25.69529</td><td> 7.608355</td><td>29.66111</td><td>22.55539</td><td> 9.649642</td><td> 4.161490</td></tr>\n",
       "\t<tr><td>chr1</td><td>4000001</td><td>1.755230</td><td>0.8019908</td><td>1.247900</td><td>0.4344994</td><td>0.3957740</td><td>0.6742724</td><td>0.4020992</td><td>0.3389768</td><td>⋯</td><td> 6.231268</td><td>15.36473</td><td>36.71549</td><td>28.632269</td><td> 8.97739</td><td> 8.460000</td><td>14.95429</td><td>24.74951</td><td>29.078391</td><td>13.693415</td></tr>\n",
       "\t<tr><td>chr1</td><td>5000001</td><td>1.433125</td><td>1.4992569</td><td>1.512729</td><td>0.7088006</td><td>0.6542305</td><td>1.2746344</td><td>0.9577880</td><td>0.4901981</td><td>⋯</td><td>10.913952</td><td>17.71098</td><td>28.37285</td><td>26.984804</td><td>17.78464</td><td> 9.868122</td><td>24.56690</td><td>24.29207</td><td>15.805804</td><td> 7.705024</td></tr>\n",
       "\t<tr><td>chr1</td><td>6000001</td><td>3.490490</td><td>3.9110820</td><td>4.471335</td><td>2.0340137</td><td>3.7724878</td><td>3.3055782</td><td>4.3420269</td><td>3.4266658</td><td>⋯</td><td>22.213390</td><td>13.19654</td><td> 4.95561</td><td> 4.436683</td><td>54.29683</td><td>13.217439</td><td>20.97317</td><td> 5.95500</td><td> 2.915000</td><td> 2.624000</td></tr>\n",
       "\t<tr><td>chr1</td><td>7000001</td><td>2.303474</td><td>1.6262188</td><td>2.234739</td><td>1.4199710</td><td>1.6980099</td><td>1.7905012</td><td>2.2128052</td><td>1.4709630</td><td>⋯</td><td>28.685677</td><td>31.72389</td><td>11.32426</td><td> 6.022872</td><td>46.08007</td><td>14.048667</td><td>21.27462</td><td>10.33011</td><td> 4.709995</td><td> 3.538997</td></tr>\n",
       "</tbody>\n",
       "</table>\n"
      ],
      "text/latex": [
       "A data.table: 6 × 519\n",
       "\\begin{tabular}{lllllllllllllllllllll}\n",
       " chr & start & ACC TCGA-OR-A5J2 & ACC TCGA-OR-A5J3 & ACC TCGA-OR-A5J6 & ACC TCGA-OR-A5J9 & ACC TCGA-OR-A5JZ & ACC TCGA-OR-A5K8 & ACC TCGA-OR-A5KX & ACC TCGA-PA-A5YG & ⋯ & Repli seq of NHEK S1 phase & Repli seq of NHEK S2 phase & Repli seq of NHEK S3 phase & Repli seq of NHEK S4 phase & Repli seq of SK N SH G1 phase & Repli seq of SK N SH G2 phase & Repli seq of SK N SH S1 phase & Repli seq of SK N SH S2 phase & Repli seq of SK N SH S3 phase & Repli seq of SK N SH S4 phase\\\\\n",
       " <chr> & <int> & <dbl> & <dbl> & <dbl> & <dbl> & <dbl> & <dbl> & <dbl> & <dbl> & ⋯ & <dbl> & <dbl> & <dbl> & <dbl> & <dbl> & <dbl> & <dbl> & <dbl> & <dbl> & <dbl>\\\\\n",
       "\\hline\n",
       "\t chr1 & 2000001 & 3.985625 & 3.3680199 & 4.549601 & 1.8892585 & 3.2741389 & 3.1206030 & 2.9564165 & 3.9239266 & ⋯ & 16.263372 & 12.02102 & 11.92807 &  8.420803 & 39.16145 &  9.017025 & 22.80582 & 13.88087 &  5.706045 &  3.002500\\\\\n",
       "\t chr1 & 3000001 & 3.777538 & 2.1058428 & 2.733947 & 1.3259219 & 1.8658764 & 1.7705485 & 1.9169945 & 1.8410087 & ⋯ & 20.766127 & 19.64354 & 16.83726 &  9.974132 & 25.69529 &  7.608355 & 29.66111 & 22.55539 &  9.649642 &  4.161490\\\\\n",
       "\t chr1 & 4000001 & 1.755230 & 0.8019908 & 1.247900 & 0.4344994 & 0.3957740 & 0.6742724 & 0.4020992 & 0.3389768 & ⋯ &  6.231268 & 15.36473 & 36.71549 & 28.632269 &  8.97739 &  8.460000 & 14.95429 & 24.74951 & 29.078391 & 13.693415\\\\\n",
       "\t chr1 & 5000001 & 1.433125 & 1.4992569 & 1.512729 & 0.7088006 & 0.6542305 & 1.2746344 & 0.9577880 & 0.4901981 & ⋯ & 10.913952 & 17.71098 & 28.37285 & 26.984804 & 17.78464 &  9.868122 & 24.56690 & 24.29207 & 15.805804 &  7.705024\\\\\n",
       "\t chr1 & 6000001 & 3.490490 & 3.9110820 & 4.471335 & 2.0340137 & 3.7724878 & 3.3055782 & 4.3420269 & 3.4266658 & ⋯ & 22.213390 & 13.19654 &  4.95561 &  4.436683 & 54.29683 & 13.217439 & 20.97317 &  5.95500 &  2.915000 &  2.624000\\\\\n",
       "\t chr1 & 7000001 & 2.303474 & 1.6262188 & 2.234739 & 1.4199710 & 1.6980099 & 1.7905012 & 2.2128052 & 1.4709630 & ⋯ & 28.685677 & 31.72389 & 11.32426 &  6.022872 & 46.08007 & 14.048667 & 21.27462 & 10.33011 &  4.709995 &  3.538997\\\\\n",
       "\\end{tabular}\n"
      ],
      "text/markdown": [
       "\n",
       "A data.table: 6 × 519\n",
       "\n",
       "| chr &lt;chr&gt; | start &lt;int&gt; | ACC TCGA-OR-A5J2 &lt;dbl&gt; | ACC TCGA-OR-A5J3 &lt;dbl&gt; | ACC TCGA-OR-A5J6 &lt;dbl&gt; | ACC TCGA-OR-A5J9 &lt;dbl&gt; | ACC TCGA-OR-A5JZ &lt;dbl&gt; | ACC TCGA-OR-A5K8 &lt;dbl&gt; | ACC TCGA-OR-A5KX &lt;dbl&gt; | ACC TCGA-PA-A5YG &lt;dbl&gt; | ⋯ ⋯ | Repli seq of NHEK S1 phase &lt;dbl&gt; | Repli seq of NHEK S2 phase &lt;dbl&gt; | Repli seq of NHEK S3 phase &lt;dbl&gt; | Repli seq of NHEK S4 phase &lt;dbl&gt; | Repli seq of SK N SH G1 phase &lt;dbl&gt; | Repli seq of SK N SH G2 phase &lt;dbl&gt; | Repli seq of SK N SH S1 phase &lt;dbl&gt; | Repli seq of SK N SH S2 phase &lt;dbl&gt; | Repli seq of SK N SH S3 phase &lt;dbl&gt; | Repli seq of SK N SH S4 phase &lt;dbl&gt; |\n",
       "|---|---|---|---|---|---|---|---|---|---|---|---|---|---|---|---|---|---|---|---|---|\n",
       "| chr1 | 2000001 | 3.985625 | 3.3680199 | 4.549601 | 1.8892585 | 3.2741389 | 3.1206030 | 2.9564165 | 3.9239266 | ⋯ | 16.263372 | 12.02102 | 11.92807 |  8.420803 | 39.16145 |  9.017025 | 22.80582 | 13.88087 |  5.706045 |  3.002500 |\n",
       "| chr1 | 3000001 | 3.777538 | 2.1058428 | 2.733947 | 1.3259219 | 1.8658764 | 1.7705485 | 1.9169945 | 1.8410087 | ⋯ | 20.766127 | 19.64354 | 16.83726 |  9.974132 | 25.69529 |  7.608355 | 29.66111 | 22.55539 |  9.649642 |  4.161490 |\n",
       "| chr1 | 4000001 | 1.755230 | 0.8019908 | 1.247900 | 0.4344994 | 0.3957740 | 0.6742724 | 0.4020992 | 0.3389768 | ⋯ |  6.231268 | 15.36473 | 36.71549 | 28.632269 |  8.97739 |  8.460000 | 14.95429 | 24.74951 | 29.078391 | 13.693415 |\n",
       "| chr1 | 5000001 | 1.433125 | 1.4992569 | 1.512729 | 0.7088006 | 0.6542305 | 1.2746344 | 0.9577880 | 0.4901981 | ⋯ | 10.913952 | 17.71098 | 28.37285 | 26.984804 | 17.78464 |  9.868122 | 24.56690 | 24.29207 | 15.805804 |  7.705024 |\n",
       "| chr1 | 6000001 | 3.490490 | 3.9110820 | 4.471335 | 2.0340137 | 3.7724878 | 3.3055782 | 4.3420269 | 3.4266658 | ⋯ | 22.213390 | 13.19654 |  4.95561 |  4.436683 | 54.29683 | 13.217439 | 20.97317 |  5.95500 |  2.915000 |  2.624000 |\n",
       "| chr1 | 7000001 | 2.303474 | 1.6262188 | 2.234739 | 1.4199710 | 1.6980099 | 1.7905012 | 2.2128052 | 1.4709630 | ⋯ | 28.685677 | 31.72389 | 11.32426 |  6.022872 | 46.08007 | 14.048667 | 21.27462 | 10.33011 |  4.709995 |  3.538997 |\n",
       "\n"
      ],
      "text/plain": [
       "  chr  start   ACC TCGA-OR-A5J2 ACC TCGA-OR-A5J3 ACC TCGA-OR-A5J6\n",
       "1 chr1 2000001 3.985625         3.3680199        4.549601        \n",
       "2 chr1 3000001 3.777538         2.1058428        2.733947        \n",
       "3 chr1 4000001 1.755230         0.8019908        1.247900        \n",
       "4 chr1 5000001 1.433125         1.4992569        1.512729        \n",
       "5 chr1 6000001 3.490490         3.9110820        4.471335        \n",
       "6 chr1 7000001 2.303474         1.6262188        2.234739        \n",
       "  ACC TCGA-OR-A5J9 ACC TCGA-OR-A5JZ ACC TCGA-OR-A5K8 ACC TCGA-OR-A5KX\n",
       "1 1.8892585        3.2741389        3.1206030        2.9564165       \n",
       "2 1.3259219        1.8658764        1.7705485        1.9169945       \n",
       "3 0.4344994        0.3957740        0.6742724        0.4020992       \n",
       "4 0.7088006        0.6542305        1.2746344        0.9577880       \n",
       "5 2.0340137        3.7724878        3.3055782        4.3420269       \n",
       "6 1.4199710        1.6980099        1.7905012        2.2128052       \n",
       "  ACC TCGA-PA-A5YG <U+22EF>        Repli seq of NHEK S1 phase\n",
       "1 3.9239266        <U+22EF> 16.263372                 \n",
       "2 1.8410087        <U+22EF> 20.766127                 \n",
       "3 0.3389768        <U+22EF>  6.231268                 \n",
       "4 0.4901981        <U+22EF> 10.913952                 \n",
       "5 3.4266658        <U+22EF> 22.213390                 \n",
       "6 1.4709630        <U+22EF> 28.685677                 \n",
       "  Repli seq of NHEK S2 phase Repli seq of NHEK S3 phase\n",
       "1 12.02102                   11.92807                  \n",
       "2 19.64354                   16.83726                  \n",
       "3 15.36473                   36.71549                  \n",
       "4 17.71098                   28.37285                  \n",
       "5 13.19654                    4.95561                  \n",
       "6 31.72389                   11.32426                  \n",
       "  Repli seq of NHEK S4 phase Repli seq of SK N SH G1 phase\n",
       "1  8.420803                  39.16145                     \n",
       "2  9.974132                  25.69529                     \n",
       "3 28.632269                   8.97739                     \n",
       "4 26.984804                  17.78464                     \n",
       "5  4.436683                  54.29683                     \n",
       "6  6.022872                  46.08007                     \n",
       "  Repli seq of SK N SH G2 phase Repli seq of SK N SH S1 phase\n",
       "1  9.017025                     22.80582                     \n",
       "2  7.608355                     29.66111                     \n",
       "3  8.460000                     14.95429                     \n",
       "4  9.868122                     24.56690                     \n",
       "5 13.217439                     20.97317                     \n",
       "6 14.048667                     21.27462                     \n",
       "  Repli seq of SK N SH S2 phase Repli seq of SK N SH S3 phase\n",
       "1 13.88087                       5.706045                    \n",
       "2 22.55539                       9.649642                    \n",
       "3 24.74951                      29.078391                    \n",
       "4 24.29207                      15.805804                    \n",
       "5  5.95500                       2.915000                    \n",
       "6 10.33011                       4.709995                    \n",
       "  Repli seq of SK N SH S4 phase\n",
       "1  3.002500                    \n",
       "2  4.161490                    \n",
       "3 13.693415                    \n",
       "4  7.705024                    \n",
       "5  2.624000                    \n",
       "6  3.538997                    "
      ]
     },
     "metadata": {},
     "output_type": "display_data"
    }
   ],
   "source": [
    "TumorCA_RT_MBscale = fread(\"TumorCA_RT_MBscale.csv\")\n",
    "head(TumorCA_RT_MBscale)"
   ]
  },
  {
   "cell_type": "code",
   "execution_count": 6,
   "metadata": {},
   "outputs": [
    {
     "data": {
      "text/html": [
       "<table>\n",
       "<caption>A data.table: 6 × 439</caption>\n",
       "<thead>\n",
       "\t<tr><th scope=col>chr</th><th scope=col>start</th><th scope=col>HG03571</th><th scope=col>GM18858</th><th scope=col>Peyer's patch</th><th scope=col>GM21390</th><th scope=col>HG02973</th><th scope=col>psoas muscle</th><th scope=col>HG03066</th><th scope=col>heart right ventricle</th><th scope=col>⋯</th><th scope=col>Repli seq of NHEK S1 phase</th><th scope=col>Repli seq of NHEK S2 phase</th><th scope=col>Repli seq of NHEK S3 phase</th><th scope=col>Repli seq of NHEK S4 phase</th><th scope=col>Repli seq of SK N SH G1 phase</th><th scope=col>Repli seq of SK N SH G2 phase</th><th scope=col>Repli seq of SK N SH S1 phase</th><th scope=col>Repli seq of SK N SH S2 phase</th><th scope=col>Repli seq of SK N SH S3 phase</th><th scope=col>Repli seq of SK N SH S4 phase</th></tr>\n",
       "\t<tr><th scope=col>&lt;chr&gt;</th><th scope=col>&lt;int&gt;</th><th scope=col>&lt;dbl&gt;</th><th scope=col>&lt;dbl&gt;</th><th scope=col>&lt;dbl&gt;</th><th scope=col>&lt;dbl&gt;</th><th scope=col>&lt;dbl&gt;</th><th scope=col>&lt;dbl&gt;</th><th scope=col>&lt;dbl&gt;</th><th scope=col>&lt;dbl&gt;</th><th scope=col>⋯</th><th scope=col>&lt;dbl&gt;</th><th scope=col>&lt;dbl&gt;</th><th scope=col>&lt;dbl&gt;</th><th scope=col>&lt;dbl&gt;</th><th scope=col>&lt;dbl&gt;</th><th scope=col>&lt;dbl&gt;</th><th scope=col>&lt;dbl&gt;</th><th scope=col>&lt;dbl&gt;</th><th scope=col>&lt;dbl&gt;</th><th scope=col>&lt;dbl&gt;</th></tr>\n",
       "</thead>\n",
       "<tbody>\n",
       "\t<tr><td>chr1</td><td>2000001</td><td>0.6654796</td><td>0.4730248</td><td>0.8810326</td><td>0.4790803</td><td>0.6279306</td><td>0.7947659</td><td>0.5012096</td><td>0.8535480</td><td>⋯</td><td>16.263372</td><td>12.02102</td><td>11.92807</td><td> 8.420803</td><td>39.16145</td><td> 9.017025</td><td>22.80582</td><td>13.88087</td><td> 5.706045</td><td> 3.002500</td></tr>\n",
       "\t<tr><td>chr1</td><td>3000001</td><td>0.7807820</td><td>0.4687155</td><td>0.9889974</td><td>0.5117272</td><td>0.6801467</td><td>0.9333293</td><td>0.5596727</td><td>0.9684844</td><td>⋯</td><td>20.766127</td><td>19.64354</td><td>16.83726</td><td> 9.974132</td><td>25.69529</td><td> 7.608355</td><td>29.66111</td><td>22.55539</td><td> 9.649642</td><td> 4.161490</td></tr>\n",
       "\t<tr><td>chr1</td><td>4000001</td><td>0.6079084</td><td>0.3179031</td><td>0.9148773</td><td>0.3830738</td><td>0.5007629</td><td>0.5521419</td><td>0.3997048</td><td>0.8205128</td><td>⋯</td><td> 6.231268</td><td>15.36473</td><td>36.71549</td><td>28.632269</td><td> 8.97739</td><td> 8.460000</td><td>14.95429</td><td>24.74951</td><td>29.078391</td><td>13.693415</td></tr>\n",
       "\t<tr><td>chr1</td><td>5000001</td><td>0.6216394</td><td>0.3446595</td><td>0.9221280</td><td>0.4041626</td><td>0.5323078</td><td>0.5943706</td><td>0.4043260</td><td>0.8110923</td><td>⋯</td><td>10.913952</td><td>17.71098</td><td>28.37285</td><td>26.984804</td><td>17.78464</td><td> 9.868122</td><td>24.56690</td><td>24.29207</td><td>15.805804</td><td> 7.705024</td></tr>\n",
       "\t<tr><td>chr1</td><td>6000001</td><td>0.7990698</td><td>0.5957793</td><td>0.9310480</td><td>0.6376199</td><td>0.7682060</td><td>0.9193404</td><td>0.6344817</td><td>0.9453795</td><td>⋯</td><td>22.213390</td><td>13.19654</td><td> 4.95561</td><td> 4.436683</td><td>54.29683</td><td>13.217439</td><td>20.97317</td><td> 5.95500</td><td> 2.915000</td><td> 2.624000</td></tr>\n",
       "\t<tr><td>chr1</td><td>7000001</td><td>0.6365986</td><td>0.3929993</td><td>0.9005885</td><td>0.4073505</td><td>0.5519631</td><td>0.7726083</td><td>0.4133591</td><td>0.8589262</td><td>⋯</td><td>28.685677</td><td>31.72389</td><td>11.32426</td><td> 6.022872</td><td>46.08007</td><td>14.048667</td><td>21.27462</td><td>10.33011</td><td> 4.709995</td><td> 3.538997</td></tr>\n",
       "</tbody>\n",
       "</table>\n"
      ],
      "text/latex": [
       "A data.table: 6 × 439\n",
       "\\begin{tabular}{lllllllllllllllllllll}\n",
       " chr & start & HG03571 & GM18858 & Peyer's patch & GM21390 & HG02973 & psoas muscle & HG03066 & heart right ventricle & ⋯ & Repli seq of NHEK S1 phase & Repli seq of NHEK S2 phase & Repli seq of NHEK S3 phase & Repli seq of NHEK S4 phase & Repli seq of SK N SH G1 phase & Repli seq of SK N SH G2 phase & Repli seq of SK N SH S1 phase & Repli seq of SK N SH S2 phase & Repli seq of SK N SH S3 phase & Repli seq of SK N SH S4 phase\\\\\n",
       " <chr> & <int> & <dbl> & <dbl> & <dbl> & <dbl> & <dbl> & <dbl> & <dbl> & <dbl> & ⋯ & <dbl> & <dbl> & <dbl> & <dbl> & <dbl> & <dbl> & <dbl> & <dbl> & <dbl> & <dbl>\\\\\n",
       "\\hline\n",
       "\t chr1 & 2000001 & 0.6654796 & 0.4730248 & 0.8810326 & 0.4790803 & 0.6279306 & 0.7947659 & 0.5012096 & 0.8535480 & ⋯ & 16.263372 & 12.02102 & 11.92807 &  8.420803 & 39.16145 &  9.017025 & 22.80582 & 13.88087 &  5.706045 &  3.002500\\\\\n",
       "\t chr1 & 3000001 & 0.7807820 & 0.4687155 & 0.9889974 & 0.5117272 & 0.6801467 & 0.9333293 & 0.5596727 & 0.9684844 & ⋯ & 20.766127 & 19.64354 & 16.83726 &  9.974132 & 25.69529 &  7.608355 & 29.66111 & 22.55539 &  9.649642 &  4.161490\\\\\n",
       "\t chr1 & 4000001 & 0.6079084 & 0.3179031 & 0.9148773 & 0.3830738 & 0.5007629 & 0.5521419 & 0.3997048 & 0.8205128 & ⋯ &  6.231268 & 15.36473 & 36.71549 & 28.632269 &  8.97739 &  8.460000 & 14.95429 & 24.74951 & 29.078391 & 13.693415\\\\\n",
       "\t chr1 & 5000001 & 0.6216394 & 0.3446595 & 0.9221280 & 0.4041626 & 0.5323078 & 0.5943706 & 0.4043260 & 0.8110923 & ⋯ & 10.913952 & 17.71098 & 28.37285 & 26.984804 & 17.78464 &  9.868122 & 24.56690 & 24.29207 & 15.805804 &  7.705024\\\\\n",
       "\t chr1 & 6000001 & 0.7990698 & 0.5957793 & 0.9310480 & 0.6376199 & 0.7682060 & 0.9193404 & 0.6344817 & 0.9453795 & ⋯ & 22.213390 & 13.19654 &  4.95561 &  4.436683 & 54.29683 & 13.217439 & 20.97317 &  5.95500 &  2.915000 &  2.624000\\\\\n",
       "\t chr1 & 7000001 & 0.6365986 & 0.3929993 & 0.9005885 & 0.4073505 & 0.5519631 & 0.7726083 & 0.4133591 & 0.8589262 & ⋯ & 28.685677 & 31.72389 & 11.32426 &  6.022872 & 46.08007 & 14.048667 & 21.27462 & 10.33011 &  4.709995 &  3.538997\\\\\n",
       "\\end{tabular}\n"
      ],
      "text/markdown": [
       "\n",
       "A data.table: 6 × 439\n",
       "\n",
       "| chr &lt;chr&gt; | start &lt;int&gt; | HG03571 &lt;dbl&gt; | GM18858 &lt;dbl&gt; | Peyer's patch &lt;dbl&gt; | GM21390 &lt;dbl&gt; | HG02973 &lt;dbl&gt; | psoas muscle &lt;dbl&gt; | HG03066 &lt;dbl&gt; | heart right ventricle &lt;dbl&gt; | ⋯ ⋯ | Repli seq of NHEK S1 phase &lt;dbl&gt; | Repli seq of NHEK S2 phase &lt;dbl&gt; | Repli seq of NHEK S3 phase &lt;dbl&gt; | Repli seq of NHEK S4 phase &lt;dbl&gt; | Repli seq of SK N SH G1 phase &lt;dbl&gt; | Repli seq of SK N SH G2 phase &lt;dbl&gt; | Repli seq of SK N SH S1 phase &lt;dbl&gt; | Repli seq of SK N SH S2 phase &lt;dbl&gt; | Repli seq of SK N SH S3 phase &lt;dbl&gt; | Repli seq of SK N SH S4 phase &lt;dbl&gt; |\n",
       "|---|---|---|---|---|---|---|---|---|---|---|---|---|---|---|---|---|---|---|---|---|\n",
       "| chr1 | 2000001 | 0.6654796 | 0.4730248 | 0.8810326 | 0.4790803 | 0.6279306 | 0.7947659 | 0.5012096 | 0.8535480 | ⋯ | 16.263372 | 12.02102 | 11.92807 |  8.420803 | 39.16145 |  9.017025 | 22.80582 | 13.88087 |  5.706045 |  3.002500 |\n",
       "| chr1 | 3000001 | 0.7807820 | 0.4687155 | 0.9889974 | 0.5117272 | 0.6801467 | 0.9333293 | 0.5596727 | 0.9684844 | ⋯ | 20.766127 | 19.64354 | 16.83726 |  9.974132 | 25.69529 |  7.608355 | 29.66111 | 22.55539 |  9.649642 |  4.161490 |\n",
       "| chr1 | 4000001 | 0.6079084 | 0.3179031 | 0.9148773 | 0.3830738 | 0.5007629 | 0.5521419 | 0.3997048 | 0.8205128 | ⋯ |  6.231268 | 15.36473 | 36.71549 | 28.632269 |  8.97739 |  8.460000 | 14.95429 | 24.74951 | 29.078391 | 13.693415 |\n",
       "| chr1 | 5000001 | 0.6216394 | 0.3446595 | 0.9221280 | 0.4041626 | 0.5323078 | 0.5943706 | 0.4043260 | 0.8110923 | ⋯ | 10.913952 | 17.71098 | 28.37285 | 26.984804 | 17.78464 |  9.868122 | 24.56690 | 24.29207 | 15.805804 |  7.705024 |\n",
       "| chr1 | 6000001 | 0.7990698 | 0.5957793 | 0.9310480 | 0.6376199 | 0.7682060 | 0.9193404 | 0.6344817 | 0.9453795 | ⋯ | 22.213390 | 13.19654 |  4.95561 |  4.436683 | 54.29683 | 13.217439 | 20.97317 |  5.95500 |  2.915000 |  2.624000 |\n",
       "| chr1 | 7000001 | 0.6365986 | 0.3929993 | 0.9005885 | 0.4073505 | 0.5519631 | 0.7726083 | 0.4133591 | 0.8589262 | ⋯ | 28.685677 | 31.72389 | 11.32426 |  6.022872 | 46.08007 | 14.048667 | 21.27462 | 10.33011 |  4.709995 |  3.538997 |\n",
       "\n"
      ],
      "text/plain": [
       "  chr  start   HG03571   GM18858   Peyer's patch GM21390   HG02973  \n",
       "1 chr1 2000001 0.6654796 0.4730248 0.8810326     0.4790803 0.6279306\n",
       "2 chr1 3000001 0.7807820 0.4687155 0.9889974     0.5117272 0.6801467\n",
       "3 chr1 4000001 0.6079084 0.3179031 0.9148773     0.3830738 0.5007629\n",
       "4 chr1 5000001 0.6216394 0.3446595 0.9221280     0.4041626 0.5323078\n",
       "5 chr1 6000001 0.7990698 0.5957793 0.9310480     0.6376199 0.7682060\n",
       "6 chr1 7000001 0.6365986 0.3929993 0.9005885     0.4073505 0.5519631\n",
       "  psoas muscle HG03066   heart right ventricle <U+22EF>       \n",
       "1 0.7947659    0.5012096 0.8535480             <U+22EF>\n",
       "2 0.9333293    0.5596727 0.9684844             <U+22EF>\n",
       "3 0.5521419    0.3997048 0.8205128             <U+22EF>\n",
       "4 0.5943706    0.4043260 0.8110923             <U+22EF>\n",
       "5 0.9193404    0.6344817 0.9453795             <U+22EF>\n",
       "6 0.7726083    0.4133591 0.8589262             <U+22EF>\n",
       "  Repli seq of NHEK S1 phase Repli seq of NHEK S2 phase\n",
       "1 16.263372                  12.02102                  \n",
       "2 20.766127                  19.64354                  \n",
       "3  6.231268                  15.36473                  \n",
       "4 10.913952                  17.71098                  \n",
       "5 22.213390                  13.19654                  \n",
       "6 28.685677                  31.72389                  \n",
       "  Repli seq of NHEK S3 phase Repli seq of NHEK S4 phase\n",
       "1 11.92807                    8.420803                 \n",
       "2 16.83726                    9.974132                 \n",
       "3 36.71549                   28.632269                 \n",
       "4 28.37285                   26.984804                 \n",
       "5  4.95561                    4.436683                 \n",
       "6 11.32426                    6.022872                 \n",
       "  Repli seq of SK N SH G1 phase Repli seq of SK N SH G2 phase\n",
       "1 39.16145                       9.017025                    \n",
       "2 25.69529                       7.608355                    \n",
       "3  8.97739                       8.460000                    \n",
       "4 17.78464                       9.868122                    \n",
       "5 54.29683                      13.217439                    \n",
       "6 46.08007                      14.048667                    \n",
       "  Repli seq of SK N SH S1 phase Repli seq of SK N SH S2 phase\n",
       "1 22.80582                      13.88087                     \n",
       "2 29.66111                      22.55539                     \n",
       "3 14.95429                      24.74951                     \n",
       "4 24.56690                      24.29207                     \n",
       "5 20.97317                       5.95500                     \n",
       "6 21.27462                      10.33011                     \n",
       "  Repli seq of SK N SH S3 phase Repli seq of SK N SH S4 phase\n",
       "1  5.706045                      3.002500                    \n",
       "2  9.649642                      4.161490                    \n",
       "3 29.078391                     13.693415                    \n",
       "4 15.805804                      7.705024                    \n",
       "5  2.915000                      2.624000                    \n",
       "6  4.709995                      3.538997                    "
      ]
     },
     "metadata": {},
     "output_type": "display_data"
    }
   ],
   "source": [
    "NormalCA_RT_MBscale = fread(\"NormalCA_RT_MBscale.csv\")\n",
    "head(NormalCA_RT_MBscale)"
   ]
  },
  {
   "cell_type": "markdown",
   "metadata": {},
   "source": [
    "We will also load in the binned mutation (SNV only) track from 18 cohorts (including pan-cancer) in the PCAWG dataset."
   ]
  },
  {
   "cell_type": "code",
   "execution_count": 13,
   "metadata": {},
   "outputs": [
    {
     "data": {
      "text/html": [
       "<table>\n",
       "<caption>A data.table: 6 × 20</caption>\n",
       "<thead>\n",
       "\t<tr><th scope=col>chr</th><th scope=col>start</th><th scope=col>PANCAN</th><th scope=col>Breast-AdenoCa</th><th scope=col>Prost-AdenoCA</th><th scope=col>Kidney-RCC</th><th scope=col>Skin-Melanoma</th><th scope=col>Uterus-AdenoCA</th><th scope=col>Eso-AdenoCa</th><th scope=col>Stomach-AdenoCA</th><th scope=col>CNS-GBM</th><th scope=col>Lung-SCC</th><th scope=col>ColoRect-AdenoCA</th><th scope=col>Biliary-AdenoCA</th><th scope=col>Head-SCC</th><th scope=col>Lymph-CLL</th><th scope=col>Lung-AdenoCA</th><th scope=col>Lymph-BNHL</th><th scope=col>Liver-HCC</th><th scope=col>Thy-AdenoCA</th></tr>\n",
       "\t<tr><th scope=col>&lt;chr&gt;</th><th scope=col>&lt;int&gt;</th><th scope=col>&lt;int&gt;</th><th scope=col>&lt;int&gt;</th><th scope=col>&lt;int&gt;</th><th scope=col>&lt;int&gt;</th><th scope=col>&lt;int&gt;</th><th scope=col>&lt;int&gt;</th><th scope=col>&lt;int&gt;</th><th scope=col>&lt;int&gt;</th><th scope=col>&lt;int&gt;</th><th scope=col>&lt;int&gt;</th><th scope=col>&lt;int&gt;</th><th scope=col>&lt;int&gt;</th><th scope=col>&lt;int&gt;</th><th scope=col>&lt;int&gt;</th><th scope=col>&lt;int&gt;</th><th scope=col>&lt;int&gt;</th><th scope=col>&lt;int&gt;</th><th scope=col>&lt;int&gt;</th></tr>\n",
       "</thead>\n",
       "<tbody>\n",
       "\t<tr><td>chr1</td><td>2000001</td><td> 5423</td><td>403</td><td>209</td><td>267</td><td> 600</td><td>141</td><td> 407</td><td>207</td><td> 88</td><td>362</td><td>147</td><td> 57</td><td>210</td><td>34</td><td>194</td><td>224</td><td> 649</td><td>16</td></tr>\n",
       "\t<tr><td>chr1</td><td>3000001</td><td> 5870</td><td>529</td><td>196</td><td>328</td><td> 682</td><td>170</td><td> 406</td><td>189</td><td> 71</td><td>342</td><td>161</td><td> 44</td><td>255</td><td>49</td><td>181</td><td>222</td><td> 764</td><td>13</td></tr>\n",
       "\t<tr><td>chr1</td><td>4000001</td><td>11489</td><td>688</td><td>339</td><td>355</td><td>1106</td><td>267</td><td>1933</td><td>488</td><td>128</td><td>587</td><td>351</td><td>105</td><td>356</td><td>80</td><td>541</td><td>331</td><td>1571</td><td>28</td></tr>\n",
       "\t<tr><td>chr1</td><td>5000001</td><td> 9773</td><td>499</td><td>259</td><td>361</td><td>1149</td><td>210</td><td>1364</td><td>375</td><td>100</td><td>516</td><td>246</td><td>111</td><td>283</td><td>80</td><td>398</td><td>319</td><td>1546</td><td>25</td></tr>\n",
       "\t<tr><td>chr1</td><td>6000001</td><td> 4779</td><td>344</td><td>161</td><td>266</td><td> 398</td><td>138</td><td> 339</td><td>164</td><td> 55</td><td>265</td><td>120</td><td> 46</td><td>217</td><td>39</td><td>187</td><td>192</td><td> 705</td><td>11</td></tr>\n",
       "\t<tr><td>chr1</td><td>7000001</td><td> 5418</td><td>344</td><td>166</td><td>243</td><td> 611</td><td>154</td><td> 383</td><td>206</td><td> 49</td><td>323</td><td>158</td><td> 50</td><td>232</td><td>74</td><td>236</td><td>206</td><td> 752</td><td>15</td></tr>\n",
       "</tbody>\n",
       "</table>\n"
      ],
      "text/latex": [
       "A data.table: 6 × 20\n",
       "\\begin{tabular}{llllllllllllllllllll}\n",
       " chr & start & PANCAN & Breast-AdenoCa & Prost-AdenoCA & Kidney-RCC & Skin-Melanoma & Uterus-AdenoCA & Eso-AdenoCa & Stomach-AdenoCA & CNS-GBM & Lung-SCC & ColoRect-AdenoCA & Biliary-AdenoCA & Head-SCC & Lymph-CLL & Lung-AdenoCA & Lymph-BNHL & Liver-HCC & Thy-AdenoCA\\\\\n",
       " <chr> & <int> & <int> & <int> & <int> & <int> & <int> & <int> & <int> & <int> & <int> & <int> & <int> & <int> & <int> & <int> & <int> & <int> & <int> & <int>\\\\\n",
       "\\hline\n",
       "\t chr1 & 2000001 &  5423 & 403 & 209 & 267 &  600 & 141 &  407 & 207 &  88 & 362 & 147 &  57 & 210 & 34 & 194 & 224 &  649 & 16\\\\\n",
       "\t chr1 & 3000001 &  5870 & 529 & 196 & 328 &  682 & 170 &  406 & 189 &  71 & 342 & 161 &  44 & 255 & 49 & 181 & 222 &  764 & 13\\\\\n",
       "\t chr1 & 4000001 & 11489 & 688 & 339 & 355 & 1106 & 267 & 1933 & 488 & 128 & 587 & 351 & 105 & 356 & 80 & 541 & 331 & 1571 & 28\\\\\n",
       "\t chr1 & 5000001 &  9773 & 499 & 259 & 361 & 1149 & 210 & 1364 & 375 & 100 & 516 & 246 & 111 & 283 & 80 & 398 & 319 & 1546 & 25\\\\\n",
       "\t chr1 & 6000001 &  4779 & 344 & 161 & 266 &  398 & 138 &  339 & 164 &  55 & 265 & 120 &  46 & 217 & 39 & 187 & 192 &  705 & 11\\\\\n",
       "\t chr1 & 7000001 &  5418 & 344 & 166 & 243 &  611 & 154 &  383 & 206 &  49 & 323 & 158 &  50 & 232 & 74 & 236 & 206 &  752 & 15\\\\\n",
       "\\end{tabular}\n"
      ],
      "text/markdown": [
       "\n",
       "A data.table: 6 × 20\n",
       "\n",
       "| chr &lt;chr&gt; | start &lt;int&gt; | PANCAN &lt;int&gt; | Breast-AdenoCa &lt;int&gt; | Prost-AdenoCA &lt;int&gt; | Kidney-RCC &lt;int&gt; | Skin-Melanoma &lt;int&gt; | Uterus-AdenoCA &lt;int&gt; | Eso-AdenoCa &lt;int&gt; | Stomach-AdenoCA &lt;int&gt; | CNS-GBM &lt;int&gt; | Lung-SCC &lt;int&gt; | ColoRect-AdenoCA &lt;int&gt; | Biliary-AdenoCA &lt;int&gt; | Head-SCC &lt;int&gt; | Lymph-CLL &lt;int&gt; | Lung-AdenoCA &lt;int&gt; | Lymph-BNHL &lt;int&gt; | Liver-HCC &lt;int&gt; | Thy-AdenoCA &lt;int&gt; |\n",
       "|---|---|---|---|---|---|---|---|---|---|---|---|---|---|---|---|---|---|---|---|\n",
       "| chr1 | 2000001 |  5423 | 403 | 209 | 267 |  600 | 141 |  407 | 207 |  88 | 362 | 147 |  57 | 210 | 34 | 194 | 224 |  649 | 16 |\n",
       "| chr1 | 3000001 |  5870 | 529 | 196 | 328 |  682 | 170 |  406 | 189 |  71 | 342 | 161 |  44 | 255 | 49 | 181 | 222 |  764 | 13 |\n",
       "| chr1 | 4000001 | 11489 | 688 | 339 | 355 | 1106 | 267 | 1933 | 488 | 128 | 587 | 351 | 105 | 356 | 80 | 541 | 331 | 1571 | 28 |\n",
       "| chr1 | 5000001 |  9773 | 499 | 259 | 361 | 1149 | 210 | 1364 | 375 | 100 | 516 | 246 | 111 | 283 | 80 | 398 | 319 | 1546 | 25 |\n",
       "| chr1 | 6000001 |  4779 | 344 | 161 | 266 |  398 | 138 |  339 | 164 |  55 | 265 | 120 |  46 | 217 | 39 | 187 | 192 |  705 | 11 |\n",
       "| chr1 | 7000001 |  5418 | 344 | 166 | 243 |  611 | 154 |  383 | 206 |  49 | 323 | 158 |  50 | 232 | 74 | 236 | 206 |  752 | 15 |\n",
       "\n"
      ],
      "text/plain": [
       "  chr  start   PANCAN Breast-AdenoCa Prost-AdenoCA Kidney-RCC Skin-Melanoma\n",
       "1 chr1 2000001  5423  403            209           267         600         \n",
       "2 chr1 3000001  5870  529            196           328         682         \n",
       "3 chr1 4000001 11489  688            339           355        1106         \n",
       "4 chr1 5000001  9773  499            259           361        1149         \n",
       "5 chr1 6000001  4779  344            161           266         398         \n",
       "6 chr1 7000001  5418  344            166           243         611         \n",
       "  Uterus-AdenoCA Eso-AdenoCa Stomach-AdenoCA CNS-GBM Lung-SCC ColoRect-AdenoCA\n",
       "1 141             407        207              88     362      147             \n",
       "2 170             406        189              71     342      161             \n",
       "3 267            1933        488             128     587      351             \n",
       "4 210            1364        375             100     516      246             \n",
       "5 138             339        164              55     265      120             \n",
       "6 154             383        206              49     323      158             \n",
       "  Biliary-AdenoCA Head-SCC Lymph-CLL Lung-AdenoCA Lymph-BNHL Liver-HCC\n",
       "1  57             210      34        194          224         649     \n",
       "2  44             255      49        181          222         764     \n",
       "3 105             356      80        541          331        1571     \n",
       "4 111             283      80        398          319        1546     \n",
       "5  46             217      39        187          192         705     \n",
       "6  50             232      74        236          206         752     \n",
       "  Thy-AdenoCA\n",
       "1 16         \n",
       "2 13         \n",
       "3 28         \n",
       "4 25         \n",
       "5 11         \n",
       "6 15         "
      ]
     },
     "metadata": {},
     "output_type": "display_data"
    }
   ],
   "source": [
    "PCAWG_mutations_binned_MBscale = fread(\"PCAWG_SNVbinned_MBscale.csv\")\n",
    "head(PCAWG_mutations_binned_MBscale)"
   ]
  },
  {
   "cell_type": "markdown",
   "metadata": {},
   "source": [
    "We can now train a random forest model seperately on the tumor chromatin accessibility dataset and normal tissue chromatin accessibility dataset to predict mutation rates in our cohort of interest (in this example, we will use breast cancer)."
   ]
  },
  {
   "cell_type": "markdown",
   "metadata": {},
   "source": [
    "First we merge each of the predictor sets with the response vector based on genomic coordinates (first 2 columns)."
   ]
  },
  {
   "cell_type": "code",
   "execution_count": 19,
   "metadata": {},
   "outputs": [
    {
     "data": {
      "text/html": [
       "<table>\n",
       "<caption>A data.table: 3 × 520</caption>\n",
       "<thead>\n",
       "\t<tr><th scope=col>chr</th><th scope=col>start</th><th scope=col>ACC TCGA-OR-A5J2</th><th scope=col>ACC TCGA-OR-A5J3</th><th scope=col>ACC TCGA-OR-A5J6</th><th scope=col>ACC TCGA-OR-A5J9</th><th scope=col>ACC TCGA-OR-A5JZ</th><th scope=col>ACC TCGA-OR-A5K8</th><th scope=col>ACC TCGA-OR-A5KX</th><th scope=col>ACC TCGA-PA-A5YG</th><th scope=col>⋯</th><th scope=col>Repli seq of NHEK S2 phase</th><th scope=col>Repli seq of NHEK S3 phase</th><th scope=col>Repli seq of NHEK S4 phase</th><th scope=col>Repli seq of SK N SH G1 phase</th><th scope=col>Repli seq of SK N SH G2 phase</th><th scope=col>Repli seq of SK N SH S1 phase</th><th scope=col>Repli seq of SK N SH S2 phase</th><th scope=col>Repli seq of SK N SH S3 phase</th><th scope=col>Repli seq of SK N SH S4 phase</th><th scope=col>Breast-AdenoCa</th></tr>\n",
       "\t<tr><th scope=col>&lt;chr&gt;</th><th scope=col>&lt;int&gt;</th><th scope=col>&lt;dbl&gt;</th><th scope=col>&lt;dbl&gt;</th><th scope=col>&lt;dbl&gt;</th><th scope=col>&lt;dbl&gt;</th><th scope=col>&lt;dbl&gt;</th><th scope=col>&lt;dbl&gt;</th><th scope=col>&lt;dbl&gt;</th><th scope=col>&lt;dbl&gt;</th><th scope=col>⋯</th><th scope=col>&lt;dbl&gt;</th><th scope=col>&lt;dbl&gt;</th><th scope=col>&lt;dbl&gt;</th><th scope=col>&lt;dbl&gt;</th><th scope=col>&lt;dbl&gt;</th><th scope=col>&lt;dbl&gt;</th><th scope=col>&lt;dbl&gt;</th><th scope=col>&lt;dbl&gt;</th><th scope=col>&lt;dbl&gt;</th><th scope=col>&lt;int&gt;</th></tr>\n",
       "</thead>\n",
       "<tbody>\n",
       "\t<tr><td>chr1</td><td>2000001</td><td>3.985625</td><td>3.3680199</td><td>4.549601</td><td>1.8892585</td><td>3.274139</td><td>3.1206030</td><td>2.9564165</td><td>3.9239266</td><td>⋯</td><td>12.02102</td><td>11.92807</td><td> 8.420803</td><td>39.16145</td><td>9.017025</td><td>22.80582</td><td>13.88087</td><td> 5.706045</td><td> 3.00250</td><td>403</td></tr>\n",
       "\t<tr><td>chr1</td><td>3000001</td><td>3.777538</td><td>2.1058428</td><td>2.733947</td><td>1.3259219</td><td>1.865876</td><td>1.7705485</td><td>1.9169945</td><td>1.8410087</td><td>⋯</td><td>19.64354</td><td>16.83726</td><td> 9.974132</td><td>25.69529</td><td>7.608355</td><td>29.66111</td><td>22.55539</td><td> 9.649642</td><td> 4.16149</td><td>529</td></tr>\n",
       "\t<tr><td>chr1</td><td>4000001</td><td>1.755230</td><td>0.8019908</td><td>1.247900</td><td>0.4344994</td><td>0.395774</td><td>0.6742724</td><td>0.4020992</td><td>0.3389768</td><td>⋯</td><td>15.36473</td><td>36.71549</td><td>28.632269</td><td> 8.97739</td><td>8.460000</td><td>14.95429</td><td>24.74951</td><td>29.078391</td><td>13.69341</td><td>688</td></tr>\n",
       "</tbody>\n",
       "</table>\n"
      ],
      "text/latex": [
       "A data.table: 3 × 520\n",
       "\\begin{tabular}{lllllllllllllllllllll}\n",
       " chr & start & ACC TCGA-OR-A5J2 & ACC TCGA-OR-A5J3 & ACC TCGA-OR-A5J6 & ACC TCGA-OR-A5J9 & ACC TCGA-OR-A5JZ & ACC TCGA-OR-A5K8 & ACC TCGA-OR-A5KX & ACC TCGA-PA-A5YG & ⋯ & Repli seq of NHEK S2 phase & Repli seq of NHEK S3 phase & Repli seq of NHEK S4 phase & Repli seq of SK N SH G1 phase & Repli seq of SK N SH G2 phase & Repli seq of SK N SH S1 phase & Repli seq of SK N SH S2 phase & Repli seq of SK N SH S3 phase & Repli seq of SK N SH S4 phase & Breast-AdenoCa\\\\\n",
       " <chr> & <int> & <dbl> & <dbl> & <dbl> & <dbl> & <dbl> & <dbl> & <dbl> & <dbl> & ⋯ & <dbl> & <dbl> & <dbl> & <dbl> & <dbl> & <dbl> & <dbl> & <dbl> & <dbl> & <int>\\\\\n",
       "\\hline\n",
       "\t chr1 & 2000001 & 3.985625 & 3.3680199 & 4.549601 & 1.8892585 & 3.274139 & 3.1206030 & 2.9564165 & 3.9239266 & ⋯ & 12.02102 & 11.92807 &  8.420803 & 39.16145 & 9.017025 & 22.80582 & 13.88087 &  5.706045 &  3.00250 & 403\\\\\n",
       "\t chr1 & 3000001 & 3.777538 & 2.1058428 & 2.733947 & 1.3259219 & 1.865876 & 1.7705485 & 1.9169945 & 1.8410087 & ⋯ & 19.64354 & 16.83726 &  9.974132 & 25.69529 & 7.608355 & 29.66111 & 22.55539 &  9.649642 &  4.16149 & 529\\\\\n",
       "\t chr1 & 4000001 & 1.755230 & 0.8019908 & 1.247900 & 0.4344994 & 0.395774 & 0.6742724 & 0.4020992 & 0.3389768 & ⋯ & 15.36473 & 36.71549 & 28.632269 &  8.97739 & 8.460000 & 14.95429 & 24.74951 & 29.078391 & 13.69341 & 688\\\\\n",
       "\\end{tabular}\n"
      ],
      "text/markdown": [
       "\n",
       "A data.table: 3 × 520\n",
       "\n",
       "| chr &lt;chr&gt; | start &lt;int&gt; | ACC TCGA-OR-A5J2 &lt;dbl&gt; | ACC TCGA-OR-A5J3 &lt;dbl&gt; | ACC TCGA-OR-A5J6 &lt;dbl&gt; | ACC TCGA-OR-A5J9 &lt;dbl&gt; | ACC TCGA-OR-A5JZ &lt;dbl&gt; | ACC TCGA-OR-A5K8 &lt;dbl&gt; | ACC TCGA-OR-A5KX &lt;dbl&gt; | ACC TCGA-PA-A5YG &lt;dbl&gt; | ⋯ ⋯ | Repli seq of NHEK S2 phase &lt;dbl&gt; | Repli seq of NHEK S3 phase &lt;dbl&gt; | Repli seq of NHEK S4 phase &lt;dbl&gt; | Repli seq of SK N SH G1 phase &lt;dbl&gt; | Repli seq of SK N SH G2 phase &lt;dbl&gt; | Repli seq of SK N SH S1 phase &lt;dbl&gt; | Repli seq of SK N SH S2 phase &lt;dbl&gt; | Repli seq of SK N SH S3 phase &lt;dbl&gt; | Repli seq of SK N SH S4 phase &lt;dbl&gt; | Breast-AdenoCa &lt;int&gt; |\n",
       "|---|---|---|---|---|---|---|---|---|---|---|---|---|---|---|---|---|---|---|---|---|\n",
       "| chr1 | 2000001 | 3.985625 | 3.3680199 | 4.549601 | 1.8892585 | 3.274139 | 3.1206030 | 2.9564165 | 3.9239266 | ⋯ | 12.02102 | 11.92807 |  8.420803 | 39.16145 | 9.017025 | 22.80582 | 13.88087 |  5.706045 |  3.00250 | 403 |\n",
       "| chr1 | 3000001 | 3.777538 | 2.1058428 | 2.733947 | 1.3259219 | 1.865876 | 1.7705485 | 1.9169945 | 1.8410087 | ⋯ | 19.64354 | 16.83726 |  9.974132 | 25.69529 | 7.608355 | 29.66111 | 22.55539 |  9.649642 |  4.16149 | 529 |\n",
       "| chr1 | 4000001 | 1.755230 | 0.8019908 | 1.247900 | 0.4344994 | 0.395774 | 0.6742724 | 0.4020992 | 0.3389768 | ⋯ | 15.36473 | 36.71549 | 28.632269 |  8.97739 | 8.460000 | 14.95429 | 24.74951 | 29.078391 | 13.69341 | 688 |\n",
       "\n"
      ],
      "text/plain": [
       "  chr  start   ACC TCGA-OR-A5J2 ACC TCGA-OR-A5J3 ACC TCGA-OR-A5J6\n",
       "1 chr1 2000001 3.985625         3.3680199        4.549601        \n",
       "2 chr1 3000001 3.777538         2.1058428        2.733947        \n",
       "3 chr1 4000001 1.755230         0.8019908        1.247900        \n",
       "  ACC TCGA-OR-A5J9 ACC TCGA-OR-A5JZ ACC TCGA-OR-A5K8 ACC TCGA-OR-A5KX\n",
       "1 1.8892585        3.274139         3.1206030        2.9564165       \n",
       "2 1.3259219        1.865876         1.7705485        1.9169945       \n",
       "3 0.4344994        0.395774         0.6742724        0.4020992       \n",
       "  ACC TCGA-PA-A5YG <U+22EF>        Repli seq of NHEK S2 phase\n",
       "1 3.9239266        <U+22EF> 12.02102                  \n",
       "2 1.8410087        <U+22EF> 19.64354                  \n",
       "3 0.3389768        <U+22EF> 15.36473                  \n",
       "  Repli seq of NHEK S3 phase Repli seq of NHEK S4 phase\n",
       "1 11.92807                    8.420803                 \n",
       "2 16.83726                    9.974132                 \n",
       "3 36.71549                   28.632269                 \n",
       "  Repli seq of SK N SH G1 phase Repli seq of SK N SH G2 phase\n",
       "1 39.16145                      9.017025                     \n",
       "2 25.69529                      7.608355                     \n",
       "3  8.97739                      8.460000                     \n",
       "  Repli seq of SK N SH S1 phase Repli seq of SK N SH S2 phase\n",
       "1 22.80582                      13.88087                     \n",
       "2 29.66111                      22.55539                     \n",
       "3 14.95429                      24.74951                     \n",
       "  Repli seq of SK N SH S3 phase Repli seq of SK N SH S4 phase Breast-AdenoCa\n",
       "1  5.706045                      3.00250                      403           \n",
       "2  9.649642                      4.16149                      529           \n",
       "3 29.078391                     13.69341                      688           "
      ]
     },
     "metadata": {},
     "output_type": "display_data"
    },
    {
     "data": {
      "text/html": [
       "<table>\n",
       "<caption>A data.table: 3 × 440</caption>\n",
       "<thead>\n",
       "\t<tr><th scope=col>chr</th><th scope=col>start</th><th scope=col>HG03571</th><th scope=col>GM18858</th><th scope=col>Peyer's patch</th><th scope=col>GM21390</th><th scope=col>HG02973</th><th scope=col>psoas muscle</th><th scope=col>HG03066</th><th scope=col>heart right ventricle</th><th scope=col>⋯</th><th scope=col>Repli seq of NHEK S2 phase</th><th scope=col>Repli seq of NHEK S3 phase</th><th scope=col>Repli seq of NHEK S4 phase</th><th scope=col>Repli seq of SK N SH G1 phase</th><th scope=col>Repli seq of SK N SH G2 phase</th><th scope=col>Repli seq of SK N SH S1 phase</th><th scope=col>Repli seq of SK N SH S2 phase</th><th scope=col>Repli seq of SK N SH S3 phase</th><th scope=col>Repli seq of SK N SH S4 phase</th><th scope=col>Breast-AdenoCa</th></tr>\n",
       "\t<tr><th scope=col>&lt;chr&gt;</th><th scope=col>&lt;int&gt;</th><th scope=col>&lt;dbl&gt;</th><th scope=col>&lt;dbl&gt;</th><th scope=col>&lt;dbl&gt;</th><th scope=col>&lt;dbl&gt;</th><th scope=col>&lt;dbl&gt;</th><th scope=col>&lt;dbl&gt;</th><th scope=col>&lt;dbl&gt;</th><th scope=col>&lt;dbl&gt;</th><th scope=col>⋯</th><th scope=col>&lt;dbl&gt;</th><th scope=col>&lt;dbl&gt;</th><th scope=col>&lt;dbl&gt;</th><th scope=col>&lt;dbl&gt;</th><th scope=col>&lt;dbl&gt;</th><th scope=col>&lt;dbl&gt;</th><th scope=col>&lt;dbl&gt;</th><th scope=col>&lt;dbl&gt;</th><th scope=col>&lt;dbl&gt;</th><th scope=col>&lt;int&gt;</th></tr>\n",
       "</thead>\n",
       "<tbody>\n",
       "\t<tr><td>chr1</td><td>2000001</td><td>0.6654796</td><td>0.4730248</td><td>0.8810326</td><td>0.4790803</td><td>0.6279306</td><td>0.7947659</td><td>0.5012096</td><td>0.8535480</td><td>⋯</td><td>12.02102</td><td>11.92807</td><td> 8.420803</td><td>39.16145</td><td>9.017025</td><td>22.80582</td><td>13.88087</td><td> 5.706045</td><td> 3.00250</td><td>403</td></tr>\n",
       "\t<tr><td>chr1</td><td>3000001</td><td>0.7807820</td><td>0.4687155</td><td>0.9889974</td><td>0.5117272</td><td>0.6801467</td><td>0.9333293</td><td>0.5596727</td><td>0.9684844</td><td>⋯</td><td>19.64354</td><td>16.83726</td><td> 9.974132</td><td>25.69529</td><td>7.608355</td><td>29.66111</td><td>22.55539</td><td> 9.649642</td><td> 4.16149</td><td>529</td></tr>\n",
       "\t<tr><td>chr1</td><td>4000001</td><td>0.6079084</td><td>0.3179031</td><td>0.9148773</td><td>0.3830738</td><td>0.5007629</td><td>0.5521419</td><td>0.3997048</td><td>0.8205128</td><td>⋯</td><td>15.36473</td><td>36.71549</td><td>28.632269</td><td> 8.97739</td><td>8.460000</td><td>14.95429</td><td>24.74951</td><td>29.078391</td><td>13.69341</td><td>688</td></tr>\n",
       "</tbody>\n",
       "</table>\n"
      ],
      "text/latex": [
       "A data.table: 3 × 440\n",
       "\\begin{tabular}{lllllllllllllllllllll}\n",
       " chr & start & HG03571 & GM18858 & Peyer's patch & GM21390 & HG02973 & psoas muscle & HG03066 & heart right ventricle & ⋯ & Repli seq of NHEK S2 phase & Repli seq of NHEK S3 phase & Repli seq of NHEK S4 phase & Repli seq of SK N SH G1 phase & Repli seq of SK N SH G2 phase & Repli seq of SK N SH S1 phase & Repli seq of SK N SH S2 phase & Repli seq of SK N SH S3 phase & Repli seq of SK N SH S4 phase & Breast-AdenoCa\\\\\n",
       " <chr> & <int> & <dbl> & <dbl> & <dbl> & <dbl> & <dbl> & <dbl> & <dbl> & <dbl> & ⋯ & <dbl> & <dbl> & <dbl> & <dbl> & <dbl> & <dbl> & <dbl> & <dbl> & <dbl> & <int>\\\\\n",
       "\\hline\n",
       "\t chr1 & 2000001 & 0.6654796 & 0.4730248 & 0.8810326 & 0.4790803 & 0.6279306 & 0.7947659 & 0.5012096 & 0.8535480 & ⋯ & 12.02102 & 11.92807 &  8.420803 & 39.16145 & 9.017025 & 22.80582 & 13.88087 &  5.706045 &  3.00250 & 403\\\\\n",
       "\t chr1 & 3000001 & 0.7807820 & 0.4687155 & 0.9889974 & 0.5117272 & 0.6801467 & 0.9333293 & 0.5596727 & 0.9684844 & ⋯ & 19.64354 & 16.83726 &  9.974132 & 25.69529 & 7.608355 & 29.66111 & 22.55539 &  9.649642 &  4.16149 & 529\\\\\n",
       "\t chr1 & 4000001 & 0.6079084 & 0.3179031 & 0.9148773 & 0.3830738 & 0.5007629 & 0.5521419 & 0.3997048 & 0.8205128 & ⋯ & 15.36473 & 36.71549 & 28.632269 &  8.97739 & 8.460000 & 14.95429 & 24.74951 & 29.078391 & 13.69341 & 688\\\\\n",
       "\\end{tabular}\n"
      ],
      "text/markdown": [
       "\n",
       "A data.table: 3 × 440\n",
       "\n",
       "| chr &lt;chr&gt; | start &lt;int&gt; | HG03571 &lt;dbl&gt; | GM18858 &lt;dbl&gt; | Peyer's patch &lt;dbl&gt; | GM21390 &lt;dbl&gt; | HG02973 &lt;dbl&gt; | psoas muscle &lt;dbl&gt; | HG03066 &lt;dbl&gt; | heart right ventricle &lt;dbl&gt; | ⋯ ⋯ | Repli seq of NHEK S2 phase &lt;dbl&gt; | Repli seq of NHEK S3 phase &lt;dbl&gt; | Repli seq of NHEK S4 phase &lt;dbl&gt; | Repli seq of SK N SH G1 phase &lt;dbl&gt; | Repli seq of SK N SH G2 phase &lt;dbl&gt; | Repli seq of SK N SH S1 phase &lt;dbl&gt; | Repli seq of SK N SH S2 phase &lt;dbl&gt; | Repli seq of SK N SH S3 phase &lt;dbl&gt; | Repli seq of SK N SH S4 phase &lt;dbl&gt; | Breast-AdenoCa &lt;int&gt; |\n",
       "|---|---|---|---|---|---|---|---|---|---|---|---|---|---|---|---|---|---|---|---|---|\n",
       "| chr1 | 2000001 | 0.6654796 | 0.4730248 | 0.8810326 | 0.4790803 | 0.6279306 | 0.7947659 | 0.5012096 | 0.8535480 | ⋯ | 12.02102 | 11.92807 |  8.420803 | 39.16145 | 9.017025 | 22.80582 | 13.88087 |  5.706045 |  3.00250 | 403 |\n",
       "| chr1 | 3000001 | 0.7807820 | 0.4687155 | 0.9889974 | 0.5117272 | 0.6801467 | 0.9333293 | 0.5596727 | 0.9684844 | ⋯ | 19.64354 | 16.83726 |  9.974132 | 25.69529 | 7.608355 | 29.66111 | 22.55539 |  9.649642 |  4.16149 | 529 |\n",
       "| chr1 | 4000001 | 0.6079084 | 0.3179031 | 0.9148773 | 0.3830738 | 0.5007629 | 0.5521419 | 0.3997048 | 0.8205128 | ⋯ | 15.36473 | 36.71549 | 28.632269 |  8.97739 | 8.460000 | 14.95429 | 24.74951 | 29.078391 | 13.69341 | 688 |\n",
       "\n"
      ],
      "text/plain": [
       "  chr  start   HG03571   GM18858   Peyer's patch GM21390   HG02973  \n",
       "1 chr1 2000001 0.6654796 0.4730248 0.8810326     0.4790803 0.6279306\n",
       "2 chr1 3000001 0.7807820 0.4687155 0.9889974     0.5117272 0.6801467\n",
       "3 chr1 4000001 0.6079084 0.3179031 0.9148773     0.3830738 0.5007629\n",
       "  psoas muscle HG03066   heart right ventricle <U+22EF>       \n",
       "1 0.7947659    0.5012096 0.8535480             <U+22EF>\n",
       "2 0.9333293    0.5596727 0.9684844             <U+22EF>\n",
       "3 0.5521419    0.3997048 0.8205128             <U+22EF>\n",
       "  Repli seq of NHEK S2 phase Repli seq of NHEK S3 phase\n",
       "1 12.02102                   11.92807                  \n",
       "2 19.64354                   16.83726                  \n",
       "3 15.36473                   36.71549                  \n",
       "  Repli seq of NHEK S4 phase Repli seq of SK N SH G1 phase\n",
       "1  8.420803                  39.16145                     \n",
       "2  9.974132                  25.69529                     \n",
       "3 28.632269                   8.97739                     \n",
       "  Repli seq of SK N SH G2 phase Repli seq of SK N SH S1 phase\n",
       "1 9.017025                      22.80582                     \n",
       "2 7.608355                      29.66111                     \n",
       "3 8.460000                      14.95429                     \n",
       "  Repli seq of SK N SH S2 phase Repli seq of SK N SH S3 phase\n",
       "1 13.88087                       5.706045                    \n",
       "2 22.55539                       9.649642                    \n",
       "3 24.74951                      29.078391                    \n",
       "  Repli seq of SK N SH S4 phase Breast-AdenoCa\n",
       "1  3.00250                      403           \n",
       "2  4.16149                      529           \n",
       "3 13.69341                      688           "
      ]
     },
     "metadata": {},
     "output_type": "display_data"
    }
   ],
   "source": [
    "TumorCA_RT_breastcancermuts = merge(TumorCA_RT_MBscale, \n",
    "\t\t\t\t\t\t\t\t\tPCAWG_mutations_binned_MBscale[,c(\"chr\", \"start\", \"Breast-AdenoCa\")], \n",
    "\t\t\t\t\t\t\t\t\tby=c(\"chr\", \"start\"))\n",
    "head(TumorCA_RT_breastcancermuts, 3)\n",
    "\n",
    "NormalCA_RT_breastcancermuts = merge(NormalCA_RT_MBscale, \n",
    "\t\t\t\t\t\t\t\t\tPCAWG_mutations_binned_MBscale[,c(\"chr\", \"start\", \"Breast-AdenoCa\")], \n",
    "\t\t\t\t\t\t\t\t\tby=c(\"chr\", \"start\"))\n",
    "head(NormalCA_RT_breastcancermuts, 3)"
   ]
  },
  {
   "cell_type": "markdown",
   "metadata": {},
   "source": [
    "Now we train two seperate random forest models with the two different predictor sets to predict the same response and assess the model accuracies."
   ]
  },
  {
   "cell_type": "code",
   "execution_count": 22,
   "metadata": {},
   "outputs": [],
   "source": [
    "#Train randomForest\n",
    "RF_tumorCA_RT = randomForest(x = TumorCA_RT_breastcancermuts[,-c(\"chr\", \"start\", \"Breast-AdenoCa\")], \n",
    "\t\t\t\t\t\t\t y = TumorCA_RT_breastcancermuts[[\"Breast-AdenoCa\"]], \n",
    "\t\t\t\t\t\t\t keep.forest = T, ntree = 100, \n",
    "\t\t\t\t\t\t\t do.trace = F, importance = T)\n",
    "\n",
    "RF_normalCA_RT = randomForest(x = NormalCA_RT_breastcancermuts[,-c(\"chr\", \"start\", \"Breast-AdenoCa\")], \n",
    "\t\t\t\t\t\t\t y = NormalCA_RT_breastcancermuts[[\"Breast-AdenoCa\"]], \n",
    "\t\t\t\t\t\t\t keep.forest = T, ntree = 100, \n",
    "\t\t\t\t\t\t\t do.trace = F, importance = T)"
   ]
  },
  {
   "cell_type": "markdown",
   "metadata": {},
   "source": [
    "For this example, we will use adjusted out-of-bag R2 as the accuracy metric but cross-validation can also be used."
   ]
  },
  {
   "cell_type": "code",
   "execution_count": 26,
   "metadata": {},
   "outputs": [],
   "source": [
    "adjust_R2 = function(R2, n, k){\n",
    "\t#Function to convert R2 to adjusted R2\n",
    "\t#R2: R-squared accuracy of model\n",
    "\t#n: Number of samples in training set\n",
    "\t#k: Number of predictors in model\n",
    "\t\n",
    "\tadjusted_R2 = 1 - (1 - R2)*(n - 1)/(n - k - 1)\n",
    "\t\n",
    "\treturn(adjusted_R2)\n",
    "}"
   ]
  },
  {
   "cell_type": "code",
   "execution_count": 28,
   "metadata": {},
   "outputs": [],
   "source": [
    "RF_tumorCA_RT_R2 = cor(RF_tumorCA_RT$predicted, TumorCA_RT_breastcancermuts[[\"Breast-AdenoCa\"]])**2\n",
    "RF_tumorCA_RT_adjR2 = adjust_R2(RF_tumorCA_RT_R2, nrow(TumorCA_RT_breastcancermuts), ncol(TumorCA_RT_breastcancermuts) - 3)\n",
    "\n",
    "RF_normalCA_RT_R2 = cor(RF_normalCA_RT$predicted, NormalCA_RT_breastcancermuts[[\"Breast-AdenoCa\"]])**2\n",
    "RF_normalCA_RT_adjR2 = adjust_R2(RF_normalCA_RT_R2, nrow(NormalCA_RT_breastcancermuts), ncol(NormalCA_RT_breastcancermuts) - 3)"
   ]
  },
  {
   "cell_type": "code",
   "execution_count": 29,
   "metadata": {},
   "outputs": [
    {
     "data": {
      "text/html": [
       "0.684758500390557"
      ],
      "text/latex": [
       "0.684758500390557"
      ],
      "text/markdown": [
       "0.684758500390557"
      ],
      "text/plain": [
       "[1] 0.6847585"
      ]
     },
     "metadata": {},
     "output_type": "display_data"
    },
    {
     "data": {
      "text/html": [
       "0.348608674073493"
      ],
      "text/latex": [
       "0.348608674073493"
      ],
      "text/markdown": [
       "0.348608674073493"
      ],
      "text/plain": [
       "[1] 0.3486087"
      ]
     },
     "metadata": {},
     "output_type": "display_data"
    }
   ],
   "source": [
    "RF_tumorCA_RT_adjR2\n",
    "RF_normalCA_RT_adjR2"
   ]
  },
  {
   "cell_type": "markdown",
   "metadata": {},
   "source": [
    "And when we compare the two accuracies, we find that tumor chromatin accessibility and replication timing are nearly twice as good at predicting breast cancer regional mutation rates than normal chromatin accessibility and replication timing at the mega-base scale."
   ]
  }
 ],
 "metadata": {
  "kernelspec": {
   "display_name": "R",
   "language": "R",
   "name": "ir"
  },
  "language_info": {
   "codemirror_mode": "r",
   "file_extension": ".r",
   "mimetype": "text/x-r-source",
   "name": "R",
   "pygments_lexer": "r",
   "version": "4.0.3"
  }
 },
 "nbformat": 4,
 "nbformat_minor": 4
}
