{
 "cells": [
  {
   "cell_type": "markdown",
   "metadata": {},
   "source": [
    "# How to use tumor and normal chromatin accessibility and replication timing to predict regional mutation rates in cancer with a random forest machine learning model and assess predictor importance using permutation tests and bootstrapping"
   ]
  },
  {
   "cell_type": "markdown",
   "metadata": {},
   "source": [
    "### By: Oliver Ocsenas"
   ]
  },
  {
   "cell_type": "markdown",
   "metadata": {},
   "source": [
    "Similar to the previous tutorial ('3_CA2M_RF.ipynb'), we compare the predictive power of chromatin accessibility when derived from tumor samples in predicting regional mutation burden in cancer when compared with chromatin accessibility derived from normal tissue samples. However, in this tutorial we will do so by assessing the importance of the invidiual predictors, derived from tumor or normal tissue, to model accuracy."
   ]
  },
  {
   "cell_type": "markdown",
   "metadata": {},
   "source": [
    "First, we will load in some useful packages."
   ]
  },
  {
   "cell_type": "code",
   "execution_count": 2,
   "metadata": {},
   "outputs": [
    {
     "data": {
      "text/html": [
       "<ol>\n",
       "\t<li>TRUE</li>\n",
       "\t<li>TRUE</li>\n",
       "</ol>\n"
      ],
      "text/latex": [
       "\\begin{enumerate}\n",
       "\\item TRUE\n",
       "\\item TRUE\n",
       "\\end{enumerate}\n"
      ],
      "text/markdown": [
       "1. TRUE\n",
       "2. TRUE\n",
       "\n",
       "\n"
      ],
      "text/plain": [
       "[[1]]\n",
       "[1] TRUE\n",
       "\n",
       "[[2]]\n",
       "[1] TRUE\n"
      ]
     },
     "metadata": {},
     "output_type": "display_data"
    }
   ],
   "source": [
    "packages = c(\"data.table\", \"randomForest\")\n",
    "lapply(packages, function(x) suppressMessages(require(x, character.only = TRUE)))"
   ]
  },
  {
   "cell_type": "markdown",
   "metadata": {},
   "source": [
    "Next, we will load in the appropriate data. This involves average binned tracks from tumor and normal tissue chromatin accessibility and replication timing at the megabase-scale."
   ]
  },
  {
   "cell_type": "code",
   "execution_count": 5,
   "metadata": {},
   "outputs": [
    {
     "data": {
      "text/html": [
       "<table>\n",
       "<caption>A data.table: 3 × 871</caption>\n",
       "<thead>\n",
       "\t<tr><th scope=col>chr</th><th scope=col>start</th><th scope=col>ACC TCGA-OR-A5J2</th><th scope=col>ACC TCGA-OR-A5J3</th><th scope=col>ACC TCGA-OR-A5J6</th><th scope=col>ACC TCGA-OR-A5J9</th><th scope=col>ACC TCGA-OR-A5JZ</th><th scope=col>ACC TCGA-OR-A5K8</th><th scope=col>ACC TCGA-OR-A5KX</th><th scope=col>ACC TCGA-PA-A5YG</th><th scope=col>⋯</th><th scope=col>Repli seq of NHEK S1 phase</th><th scope=col>Repli seq of NHEK S2 phase</th><th scope=col>Repli seq of NHEK S3 phase</th><th scope=col>Repli seq of NHEK S4 phase</th><th scope=col>Repli seq of SK N SH G1 phase</th><th scope=col>Repli seq of SK N SH G2 phase</th><th scope=col>Repli seq of SK N SH S1 phase</th><th scope=col>Repli seq of SK N SH S2 phase</th><th scope=col>Repli seq of SK N SH S3 phase</th><th scope=col>Repli seq of SK N SH S4 phase</th></tr>\n",
       "\t<tr><th scope=col>&lt;chr&gt;</th><th scope=col>&lt;int&gt;</th><th scope=col>&lt;dbl&gt;</th><th scope=col>&lt;dbl&gt;</th><th scope=col>&lt;dbl&gt;</th><th scope=col>&lt;dbl&gt;</th><th scope=col>&lt;dbl&gt;</th><th scope=col>&lt;dbl&gt;</th><th scope=col>&lt;dbl&gt;</th><th scope=col>&lt;dbl&gt;</th><th scope=col>⋯</th><th scope=col>&lt;dbl&gt;</th><th scope=col>&lt;dbl&gt;</th><th scope=col>&lt;dbl&gt;</th><th scope=col>&lt;dbl&gt;</th><th scope=col>&lt;dbl&gt;</th><th scope=col>&lt;dbl&gt;</th><th scope=col>&lt;dbl&gt;</th><th scope=col>&lt;dbl&gt;</th><th scope=col>&lt;dbl&gt;</th><th scope=col>&lt;dbl&gt;</th></tr>\n",
       "</thead>\n",
       "<tbody>\n",
       "\t<tr><td>chr1</td><td>2000001</td><td>3.985625</td><td>3.3680199</td><td>4.549601</td><td>1.8892585</td><td>3.274139</td><td>3.1206030</td><td>2.9564165</td><td>3.9239266</td><td>⋯</td><td>16.263372</td><td>12.02102</td><td>11.92807</td><td> 8.420803</td><td>39.16145</td><td>9.017025</td><td>22.80582</td><td>13.88087</td><td> 5.706045</td><td> 3.00250</td></tr>\n",
       "\t<tr><td>chr1</td><td>3000001</td><td>3.777538</td><td>2.1058428</td><td>2.733947</td><td>1.3259219</td><td>1.865876</td><td>1.7705485</td><td>1.9169945</td><td>1.8410087</td><td>⋯</td><td>20.766127</td><td>19.64354</td><td>16.83726</td><td> 9.974132</td><td>25.69529</td><td>7.608355</td><td>29.66111</td><td>22.55539</td><td> 9.649642</td><td> 4.16149</td></tr>\n",
       "\t<tr><td>chr1</td><td>4000001</td><td>1.755230</td><td>0.8019908</td><td>1.247900</td><td>0.4344994</td><td>0.395774</td><td>0.6742724</td><td>0.4020992</td><td>0.3389768</td><td>⋯</td><td> 6.231268</td><td>15.36473</td><td>36.71549</td><td>28.632269</td><td> 8.97739</td><td>8.460000</td><td>14.95429</td><td>24.74951</td><td>29.078391</td><td>13.69341</td></tr>\n",
       "</tbody>\n",
       "</table>\n"
      ],
      "text/latex": [
       "A data.table: 3 × 871\n",
       "\\begin{tabular}{lllllllllllllllllllll}\n",
       " chr & start & ACC TCGA-OR-A5J2 & ACC TCGA-OR-A5J3 & ACC TCGA-OR-A5J6 & ACC TCGA-OR-A5J9 & ACC TCGA-OR-A5JZ & ACC TCGA-OR-A5K8 & ACC TCGA-OR-A5KX & ACC TCGA-PA-A5YG & ⋯ & Repli seq of NHEK S1 phase & Repli seq of NHEK S2 phase & Repli seq of NHEK S3 phase & Repli seq of NHEK S4 phase & Repli seq of SK N SH G1 phase & Repli seq of SK N SH G2 phase & Repli seq of SK N SH S1 phase & Repli seq of SK N SH S2 phase & Repli seq of SK N SH S3 phase & Repli seq of SK N SH S4 phase\\\\\n",
       " <chr> & <int> & <dbl> & <dbl> & <dbl> & <dbl> & <dbl> & <dbl> & <dbl> & <dbl> & ⋯ & <dbl> & <dbl> & <dbl> & <dbl> & <dbl> & <dbl> & <dbl> & <dbl> & <dbl> & <dbl>\\\\\n",
       "\\hline\n",
       "\t chr1 & 2000001 & 3.985625 & 3.3680199 & 4.549601 & 1.8892585 & 3.274139 & 3.1206030 & 2.9564165 & 3.9239266 & ⋯ & 16.263372 & 12.02102 & 11.92807 &  8.420803 & 39.16145 & 9.017025 & 22.80582 & 13.88087 &  5.706045 &  3.00250\\\\\n",
       "\t chr1 & 3000001 & 3.777538 & 2.1058428 & 2.733947 & 1.3259219 & 1.865876 & 1.7705485 & 1.9169945 & 1.8410087 & ⋯ & 20.766127 & 19.64354 & 16.83726 &  9.974132 & 25.69529 & 7.608355 & 29.66111 & 22.55539 &  9.649642 &  4.16149\\\\\n",
       "\t chr1 & 4000001 & 1.755230 & 0.8019908 & 1.247900 & 0.4344994 & 0.395774 & 0.6742724 & 0.4020992 & 0.3389768 & ⋯ &  6.231268 & 15.36473 & 36.71549 & 28.632269 &  8.97739 & 8.460000 & 14.95429 & 24.74951 & 29.078391 & 13.69341\\\\\n",
       "\\end{tabular}\n"
      ],
      "text/markdown": [
       "\n",
       "A data.table: 3 × 871\n",
       "\n",
       "| chr &lt;chr&gt; | start &lt;int&gt; | ACC TCGA-OR-A5J2 &lt;dbl&gt; | ACC TCGA-OR-A5J3 &lt;dbl&gt; | ACC TCGA-OR-A5J6 &lt;dbl&gt; | ACC TCGA-OR-A5J9 &lt;dbl&gt; | ACC TCGA-OR-A5JZ &lt;dbl&gt; | ACC TCGA-OR-A5K8 &lt;dbl&gt; | ACC TCGA-OR-A5KX &lt;dbl&gt; | ACC TCGA-PA-A5YG &lt;dbl&gt; | ⋯ ⋯ | Repli seq of NHEK S1 phase &lt;dbl&gt; | Repli seq of NHEK S2 phase &lt;dbl&gt; | Repli seq of NHEK S3 phase &lt;dbl&gt; | Repli seq of NHEK S4 phase &lt;dbl&gt; | Repli seq of SK N SH G1 phase &lt;dbl&gt; | Repli seq of SK N SH G2 phase &lt;dbl&gt; | Repli seq of SK N SH S1 phase &lt;dbl&gt; | Repli seq of SK N SH S2 phase &lt;dbl&gt; | Repli seq of SK N SH S3 phase &lt;dbl&gt; | Repli seq of SK N SH S4 phase &lt;dbl&gt; |\n",
       "|---|---|---|---|---|---|---|---|---|---|---|---|---|---|---|---|---|---|---|---|---|\n",
       "| chr1 | 2000001 | 3.985625 | 3.3680199 | 4.549601 | 1.8892585 | 3.274139 | 3.1206030 | 2.9564165 | 3.9239266 | ⋯ | 16.263372 | 12.02102 | 11.92807 |  8.420803 | 39.16145 | 9.017025 | 22.80582 | 13.88087 |  5.706045 |  3.00250 |\n",
       "| chr1 | 3000001 | 3.777538 | 2.1058428 | 2.733947 | 1.3259219 | 1.865876 | 1.7705485 | 1.9169945 | 1.8410087 | ⋯ | 20.766127 | 19.64354 | 16.83726 |  9.974132 | 25.69529 | 7.608355 | 29.66111 | 22.55539 |  9.649642 |  4.16149 |\n",
       "| chr1 | 4000001 | 1.755230 | 0.8019908 | 1.247900 | 0.4344994 | 0.395774 | 0.6742724 | 0.4020992 | 0.3389768 | ⋯ |  6.231268 | 15.36473 | 36.71549 | 28.632269 |  8.97739 | 8.460000 | 14.95429 | 24.74951 | 29.078391 | 13.69341 |\n",
       "\n"
      ],
      "text/plain": [
       "  chr  start   ACC TCGA-OR-A5J2 ACC TCGA-OR-A5J3 ACC TCGA-OR-A5J6\n",
       "1 chr1 2000001 3.985625         3.3680199        4.549601        \n",
       "2 chr1 3000001 3.777538         2.1058428        2.733947        \n",
       "3 chr1 4000001 1.755230         0.8019908        1.247900        \n",
       "  ACC TCGA-OR-A5J9 ACC TCGA-OR-A5JZ ACC TCGA-OR-A5K8 ACC TCGA-OR-A5KX\n",
       "1 1.8892585        3.274139         3.1206030        2.9564165       \n",
       "2 1.3259219        1.865876         1.7705485        1.9169945       \n",
       "3 0.4344994        0.395774         0.6742724        0.4020992       \n",
       "  ACC TCGA-PA-A5YG <U+22EF>        Repli seq of NHEK S1 phase\n",
       "1 3.9239266        <U+22EF> 16.263372                 \n",
       "2 1.8410087        <U+22EF> 20.766127                 \n",
       "3 0.3389768        <U+22EF>  6.231268                 \n",
       "  Repli seq of NHEK S2 phase Repli seq of NHEK S3 phase\n",
       "1 12.02102                   11.92807                  \n",
       "2 19.64354                   16.83726                  \n",
       "3 15.36473                   36.71549                  \n",
       "  Repli seq of NHEK S4 phase Repli seq of SK N SH G1 phase\n",
       "1  8.420803                  39.16145                     \n",
       "2  9.974132                  25.69529                     \n",
       "3 28.632269                   8.97739                     \n",
       "  Repli seq of SK N SH G2 phase Repli seq of SK N SH S1 phase\n",
       "1 9.017025                      22.80582                     \n",
       "2 7.608355                      29.66111                     \n",
       "3 8.460000                      14.95429                     \n",
       "  Repli seq of SK N SH S2 phase Repli seq of SK N SH S3 phase\n",
       "1 13.88087                       5.706045                    \n",
       "2 22.55539                       9.649642                    \n",
       "3 24.74951                      29.078391                    \n",
       "  Repli seq of SK N SH S4 phase\n",
       "1  3.00250                     \n",
       "2  4.16149                     \n",
       "3 13.69341                     "
      ]
     },
     "metadata": {},
     "output_type": "display_data"
    }
   ],
   "source": [
    "CA_RT_MBscale = fread(\"data/All_CA_RT_1MB_scale.csv.gz\")\n",
    "head(CA_RT_MBscale, 3)"
   ]
  },
  {
   "cell_type": "markdown",
   "metadata": {},
   "source": [
    "We will also load in the binned mutation (SNV only) track from 18 cohorts (including pan-cancer) in the PCAWG dataset."
   ]
  },
  {
   "cell_type": "code",
   "execution_count": 7,
   "metadata": {},
   "outputs": [
    {
     "data": {
      "text/html": [
       "<table>\n",
       "<caption>A data.table: 6 × 20</caption>\n",
       "<thead>\n",
       "\t<tr><th scope=col>chr</th><th scope=col>start</th><th scope=col>PANCAN</th><th scope=col>Breast-AdenoCa</th><th scope=col>Prost-AdenoCA</th><th scope=col>Kidney-RCC</th><th scope=col>Skin-Melanoma</th><th scope=col>Uterus-AdenoCA</th><th scope=col>Eso-AdenoCa</th><th scope=col>Stomach-AdenoCA</th><th scope=col>CNS-GBM</th><th scope=col>Lung-SCC</th><th scope=col>ColoRect-AdenoCA</th><th scope=col>Biliary-AdenoCA</th><th scope=col>Head-SCC</th><th scope=col>Lymph-CLL</th><th scope=col>Lung-AdenoCA</th><th scope=col>Lymph-BNHL</th><th scope=col>Liver-HCC</th><th scope=col>Thy-AdenoCA</th></tr>\n",
       "\t<tr><th scope=col>&lt;chr&gt;</th><th scope=col>&lt;int&gt;</th><th scope=col>&lt;int&gt;</th><th scope=col>&lt;int&gt;</th><th scope=col>&lt;int&gt;</th><th scope=col>&lt;int&gt;</th><th scope=col>&lt;int&gt;</th><th scope=col>&lt;int&gt;</th><th scope=col>&lt;int&gt;</th><th scope=col>&lt;int&gt;</th><th scope=col>&lt;int&gt;</th><th scope=col>&lt;int&gt;</th><th scope=col>&lt;int&gt;</th><th scope=col>&lt;int&gt;</th><th scope=col>&lt;int&gt;</th><th scope=col>&lt;int&gt;</th><th scope=col>&lt;int&gt;</th><th scope=col>&lt;int&gt;</th><th scope=col>&lt;int&gt;</th><th scope=col>&lt;int&gt;</th></tr>\n",
       "</thead>\n",
       "<tbody>\n",
       "\t<tr><td>chr1</td><td>2000001</td><td> 5423</td><td>403</td><td>209</td><td>267</td><td> 600</td><td>141</td><td> 407</td><td>207</td><td> 88</td><td>362</td><td>147</td><td> 57</td><td>210</td><td>34</td><td>194</td><td>224</td><td> 649</td><td>16</td></tr>\n",
       "\t<tr><td>chr1</td><td>3000001</td><td> 5870</td><td>529</td><td>196</td><td>328</td><td> 682</td><td>170</td><td> 406</td><td>189</td><td> 71</td><td>342</td><td>161</td><td> 44</td><td>255</td><td>49</td><td>181</td><td>222</td><td> 764</td><td>13</td></tr>\n",
       "\t<tr><td>chr1</td><td>4000001</td><td>11489</td><td>688</td><td>339</td><td>355</td><td>1106</td><td>267</td><td>1933</td><td>488</td><td>128</td><td>587</td><td>351</td><td>105</td><td>356</td><td>80</td><td>541</td><td>331</td><td>1571</td><td>28</td></tr>\n",
       "\t<tr><td>chr1</td><td>5000001</td><td> 9773</td><td>499</td><td>259</td><td>361</td><td>1149</td><td>210</td><td>1364</td><td>375</td><td>100</td><td>516</td><td>246</td><td>111</td><td>283</td><td>80</td><td>398</td><td>319</td><td>1546</td><td>25</td></tr>\n",
       "\t<tr><td>chr1</td><td>6000001</td><td> 4779</td><td>344</td><td>161</td><td>266</td><td> 398</td><td>138</td><td> 339</td><td>164</td><td> 55</td><td>265</td><td>120</td><td> 46</td><td>217</td><td>39</td><td>187</td><td>192</td><td> 705</td><td>11</td></tr>\n",
       "\t<tr><td>chr1</td><td>7000001</td><td> 5418</td><td>344</td><td>166</td><td>243</td><td> 611</td><td>154</td><td> 383</td><td>206</td><td> 49</td><td>323</td><td>158</td><td> 50</td><td>232</td><td>74</td><td>236</td><td>206</td><td> 752</td><td>15</td></tr>\n",
       "</tbody>\n",
       "</table>\n"
      ],
      "text/latex": [
       "A data.table: 6 × 20\n",
       "\\begin{tabular}{llllllllllllllllllll}\n",
       " chr & start & PANCAN & Breast-AdenoCa & Prost-AdenoCA & Kidney-RCC & Skin-Melanoma & Uterus-AdenoCA & Eso-AdenoCa & Stomach-AdenoCA & CNS-GBM & Lung-SCC & ColoRect-AdenoCA & Biliary-AdenoCA & Head-SCC & Lymph-CLL & Lung-AdenoCA & Lymph-BNHL & Liver-HCC & Thy-AdenoCA\\\\\n",
       " <chr> & <int> & <int> & <int> & <int> & <int> & <int> & <int> & <int> & <int> & <int> & <int> & <int> & <int> & <int> & <int> & <int> & <int> & <int> & <int>\\\\\n",
       "\\hline\n",
       "\t chr1 & 2000001 &  5423 & 403 & 209 & 267 &  600 & 141 &  407 & 207 &  88 & 362 & 147 &  57 & 210 & 34 & 194 & 224 &  649 & 16\\\\\n",
       "\t chr1 & 3000001 &  5870 & 529 & 196 & 328 &  682 & 170 &  406 & 189 &  71 & 342 & 161 &  44 & 255 & 49 & 181 & 222 &  764 & 13\\\\\n",
       "\t chr1 & 4000001 & 11489 & 688 & 339 & 355 & 1106 & 267 & 1933 & 488 & 128 & 587 & 351 & 105 & 356 & 80 & 541 & 331 & 1571 & 28\\\\\n",
       "\t chr1 & 5000001 &  9773 & 499 & 259 & 361 & 1149 & 210 & 1364 & 375 & 100 & 516 & 246 & 111 & 283 & 80 & 398 & 319 & 1546 & 25\\\\\n",
       "\t chr1 & 6000001 &  4779 & 344 & 161 & 266 &  398 & 138 &  339 & 164 &  55 & 265 & 120 &  46 & 217 & 39 & 187 & 192 &  705 & 11\\\\\n",
       "\t chr1 & 7000001 &  5418 & 344 & 166 & 243 &  611 & 154 &  383 & 206 &  49 & 323 & 158 &  50 & 232 & 74 & 236 & 206 &  752 & 15\\\\\n",
       "\\end{tabular}\n"
      ],
      "text/markdown": [
       "\n",
       "A data.table: 6 × 20\n",
       "\n",
       "| chr &lt;chr&gt; | start &lt;int&gt; | PANCAN &lt;int&gt; | Breast-AdenoCa &lt;int&gt; | Prost-AdenoCA &lt;int&gt; | Kidney-RCC &lt;int&gt; | Skin-Melanoma &lt;int&gt; | Uterus-AdenoCA &lt;int&gt; | Eso-AdenoCa &lt;int&gt; | Stomach-AdenoCA &lt;int&gt; | CNS-GBM &lt;int&gt; | Lung-SCC &lt;int&gt; | ColoRect-AdenoCA &lt;int&gt; | Biliary-AdenoCA &lt;int&gt; | Head-SCC &lt;int&gt; | Lymph-CLL &lt;int&gt; | Lung-AdenoCA &lt;int&gt; | Lymph-BNHL &lt;int&gt; | Liver-HCC &lt;int&gt; | Thy-AdenoCA &lt;int&gt; |\n",
       "|---|---|---|---|---|---|---|---|---|---|---|---|---|---|---|---|---|---|---|---|\n",
       "| chr1 | 2000001 |  5423 | 403 | 209 | 267 |  600 | 141 |  407 | 207 |  88 | 362 | 147 |  57 | 210 | 34 | 194 | 224 |  649 | 16 |\n",
       "| chr1 | 3000001 |  5870 | 529 | 196 | 328 |  682 | 170 |  406 | 189 |  71 | 342 | 161 |  44 | 255 | 49 | 181 | 222 |  764 | 13 |\n",
       "| chr1 | 4000001 | 11489 | 688 | 339 | 355 | 1106 | 267 | 1933 | 488 | 128 | 587 | 351 | 105 | 356 | 80 | 541 | 331 | 1571 | 28 |\n",
       "| chr1 | 5000001 |  9773 | 499 | 259 | 361 | 1149 | 210 | 1364 | 375 | 100 | 516 | 246 | 111 | 283 | 80 | 398 | 319 | 1546 | 25 |\n",
       "| chr1 | 6000001 |  4779 | 344 | 161 | 266 |  398 | 138 |  339 | 164 |  55 | 265 | 120 |  46 | 217 | 39 | 187 | 192 |  705 | 11 |\n",
       "| chr1 | 7000001 |  5418 | 344 | 166 | 243 |  611 | 154 |  383 | 206 |  49 | 323 | 158 |  50 | 232 | 74 | 236 | 206 |  752 | 15 |\n",
       "\n"
      ],
      "text/plain": [
       "  chr  start   PANCAN Breast-AdenoCa Prost-AdenoCA Kidney-RCC Skin-Melanoma\n",
       "1 chr1 2000001  5423  403            209           267         600         \n",
       "2 chr1 3000001  5870  529            196           328         682         \n",
       "3 chr1 4000001 11489  688            339           355        1106         \n",
       "4 chr1 5000001  9773  499            259           361        1149         \n",
       "5 chr1 6000001  4779  344            161           266         398         \n",
       "6 chr1 7000001  5418  344            166           243         611         \n",
       "  Uterus-AdenoCA Eso-AdenoCa Stomach-AdenoCA CNS-GBM Lung-SCC ColoRect-AdenoCA\n",
       "1 141             407        207              88     362      147             \n",
       "2 170             406        189              71     342      161             \n",
       "3 267            1933        488             128     587      351             \n",
       "4 210            1364        375             100     516      246             \n",
       "5 138             339        164              55     265      120             \n",
       "6 154             383        206              49     323      158             \n",
       "  Biliary-AdenoCA Head-SCC Lymph-CLL Lung-AdenoCA Lymph-BNHL Liver-HCC\n",
       "1  57             210      34        194          224         649     \n",
       "2  44             255      49        181          222         764     \n",
       "3 105             356      80        541          331        1571     \n",
       "4 111             283      80        398          319        1546     \n",
       "5  46             217      39        187          192         705     \n",
       "6  50             232      74        236          206         752     \n",
       "  Thy-AdenoCA\n",
       "1 16         \n",
       "2 13         \n",
       "3 28         \n",
       "4 25         \n",
       "5 11         \n",
       "6 15         "
      ]
     },
     "metadata": {},
     "output_type": "display_data"
    }
   ],
   "source": [
    "PCAWG_mutations_binned_MBscale = fread(\"data/PCAWG_SNVbinned_MBscale.csv.gz\")\n",
    "head(PCAWG_mutations_binned_MBscale)"
   ]
  },
  {
   "cell_type": "markdown",
   "metadata": {},
   "source": [
    "We can now train a random forest model the combined chromatin accessibility dataset and replication timing dataset to predict mutation rates in our cohort of interest (in this example, we will use breast cancer) and then assess individual predictor importance."
   ]
  },
  {
   "cell_type": "markdown",
   "metadata": {},
   "source": [
    "First we merge the predictor set with the response vector based on genomic coordinates (first 2 columns)."
   ]
  },
  {
   "cell_type": "code",
   "execution_count": 8,
   "metadata": {},
   "outputs": [
    {
     "data": {
      "text/html": [
       "<table>\n",
       "<caption>A data.table: 3 × 872</caption>\n",
       "<thead>\n",
       "\t<tr><th scope=col>chr</th><th scope=col>start</th><th scope=col>ACC TCGA-OR-A5J2</th><th scope=col>ACC TCGA-OR-A5J3</th><th scope=col>ACC TCGA-OR-A5J6</th><th scope=col>ACC TCGA-OR-A5J9</th><th scope=col>ACC TCGA-OR-A5JZ</th><th scope=col>ACC TCGA-OR-A5K8</th><th scope=col>ACC TCGA-OR-A5KX</th><th scope=col>ACC TCGA-PA-A5YG</th><th scope=col>⋯</th><th scope=col>Repli seq of NHEK S2 phase</th><th scope=col>Repli seq of NHEK S3 phase</th><th scope=col>Repli seq of NHEK S4 phase</th><th scope=col>Repli seq of SK N SH G1 phase</th><th scope=col>Repli seq of SK N SH G2 phase</th><th scope=col>Repli seq of SK N SH S1 phase</th><th scope=col>Repli seq of SK N SH S2 phase</th><th scope=col>Repli seq of SK N SH S3 phase</th><th scope=col>Repli seq of SK N SH S4 phase</th><th scope=col>Breast-AdenoCa</th></tr>\n",
       "\t<tr><th scope=col>&lt;chr&gt;</th><th scope=col>&lt;int&gt;</th><th scope=col>&lt;dbl&gt;</th><th scope=col>&lt;dbl&gt;</th><th scope=col>&lt;dbl&gt;</th><th scope=col>&lt;dbl&gt;</th><th scope=col>&lt;dbl&gt;</th><th scope=col>&lt;dbl&gt;</th><th scope=col>&lt;dbl&gt;</th><th scope=col>&lt;dbl&gt;</th><th scope=col>⋯</th><th scope=col>&lt;dbl&gt;</th><th scope=col>&lt;dbl&gt;</th><th scope=col>&lt;dbl&gt;</th><th scope=col>&lt;dbl&gt;</th><th scope=col>&lt;dbl&gt;</th><th scope=col>&lt;dbl&gt;</th><th scope=col>&lt;dbl&gt;</th><th scope=col>&lt;dbl&gt;</th><th scope=col>&lt;dbl&gt;</th><th scope=col>&lt;int&gt;</th></tr>\n",
       "</thead>\n",
       "<tbody>\n",
       "\t<tr><td>chr1</td><td>2000001</td><td>3.985625</td><td>3.3680199</td><td>4.549601</td><td>1.8892585</td><td>3.274139</td><td>3.1206030</td><td>2.9564165</td><td>3.9239266</td><td>⋯</td><td>12.02102</td><td>11.92807</td><td> 8.420803</td><td>39.16145</td><td>9.017025</td><td>22.80582</td><td>13.88087</td><td> 5.706045</td><td> 3.00250</td><td>403</td></tr>\n",
       "\t<tr><td>chr1</td><td>3000001</td><td>3.777538</td><td>2.1058428</td><td>2.733947</td><td>1.3259219</td><td>1.865876</td><td>1.7705485</td><td>1.9169945</td><td>1.8410087</td><td>⋯</td><td>19.64354</td><td>16.83726</td><td> 9.974132</td><td>25.69529</td><td>7.608355</td><td>29.66111</td><td>22.55539</td><td> 9.649642</td><td> 4.16149</td><td>529</td></tr>\n",
       "\t<tr><td>chr1</td><td>4000001</td><td>1.755230</td><td>0.8019908</td><td>1.247900</td><td>0.4344994</td><td>0.395774</td><td>0.6742724</td><td>0.4020992</td><td>0.3389768</td><td>⋯</td><td>15.36473</td><td>36.71549</td><td>28.632269</td><td> 8.97739</td><td>8.460000</td><td>14.95429</td><td>24.74951</td><td>29.078391</td><td>13.69341</td><td>688</td></tr>\n",
       "</tbody>\n",
       "</table>\n"
      ],
      "text/latex": [
       "A data.table: 3 × 872\n",
       "\\begin{tabular}{lllllllllllllllllllll}\n",
       " chr & start & ACC TCGA-OR-A5J2 & ACC TCGA-OR-A5J3 & ACC TCGA-OR-A5J6 & ACC TCGA-OR-A5J9 & ACC TCGA-OR-A5JZ & ACC TCGA-OR-A5K8 & ACC TCGA-OR-A5KX & ACC TCGA-PA-A5YG & ⋯ & Repli seq of NHEK S2 phase & Repli seq of NHEK S3 phase & Repli seq of NHEK S4 phase & Repli seq of SK N SH G1 phase & Repli seq of SK N SH G2 phase & Repli seq of SK N SH S1 phase & Repli seq of SK N SH S2 phase & Repli seq of SK N SH S3 phase & Repli seq of SK N SH S4 phase & Breast-AdenoCa\\\\\n",
       " <chr> & <int> & <dbl> & <dbl> & <dbl> & <dbl> & <dbl> & <dbl> & <dbl> & <dbl> & ⋯ & <dbl> & <dbl> & <dbl> & <dbl> & <dbl> & <dbl> & <dbl> & <dbl> & <dbl> & <int>\\\\\n",
       "\\hline\n",
       "\t chr1 & 2000001 & 3.985625 & 3.3680199 & 4.549601 & 1.8892585 & 3.274139 & 3.1206030 & 2.9564165 & 3.9239266 & ⋯ & 12.02102 & 11.92807 &  8.420803 & 39.16145 & 9.017025 & 22.80582 & 13.88087 &  5.706045 &  3.00250 & 403\\\\\n",
       "\t chr1 & 3000001 & 3.777538 & 2.1058428 & 2.733947 & 1.3259219 & 1.865876 & 1.7705485 & 1.9169945 & 1.8410087 & ⋯ & 19.64354 & 16.83726 &  9.974132 & 25.69529 & 7.608355 & 29.66111 & 22.55539 &  9.649642 &  4.16149 & 529\\\\\n",
       "\t chr1 & 4000001 & 1.755230 & 0.8019908 & 1.247900 & 0.4344994 & 0.395774 & 0.6742724 & 0.4020992 & 0.3389768 & ⋯ & 15.36473 & 36.71549 & 28.632269 &  8.97739 & 8.460000 & 14.95429 & 24.74951 & 29.078391 & 13.69341 & 688\\\\\n",
       "\\end{tabular}\n"
      ],
      "text/markdown": [
       "\n",
       "A data.table: 3 × 872\n",
       "\n",
       "| chr &lt;chr&gt; | start &lt;int&gt; | ACC TCGA-OR-A5J2 &lt;dbl&gt; | ACC TCGA-OR-A5J3 &lt;dbl&gt; | ACC TCGA-OR-A5J6 &lt;dbl&gt; | ACC TCGA-OR-A5J9 &lt;dbl&gt; | ACC TCGA-OR-A5JZ &lt;dbl&gt; | ACC TCGA-OR-A5K8 &lt;dbl&gt; | ACC TCGA-OR-A5KX &lt;dbl&gt; | ACC TCGA-PA-A5YG &lt;dbl&gt; | ⋯ ⋯ | Repli seq of NHEK S2 phase &lt;dbl&gt; | Repli seq of NHEK S3 phase &lt;dbl&gt; | Repli seq of NHEK S4 phase &lt;dbl&gt; | Repli seq of SK N SH G1 phase &lt;dbl&gt; | Repli seq of SK N SH G2 phase &lt;dbl&gt; | Repli seq of SK N SH S1 phase &lt;dbl&gt; | Repli seq of SK N SH S2 phase &lt;dbl&gt; | Repli seq of SK N SH S3 phase &lt;dbl&gt; | Repli seq of SK N SH S4 phase &lt;dbl&gt; | Breast-AdenoCa &lt;int&gt; |\n",
       "|---|---|---|---|---|---|---|---|---|---|---|---|---|---|---|---|---|---|---|---|---|\n",
       "| chr1 | 2000001 | 3.985625 | 3.3680199 | 4.549601 | 1.8892585 | 3.274139 | 3.1206030 | 2.9564165 | 3.9239266 | ⋯ | 12.02102 | 11.92807 |  8.420803 | 39.16145 | 9.017025 | 22.80582 | 13.88087 |  5.706045 |  3.00250 | 403 |\n",
       "| chr1 | 3000001 | 3.777538 | 2.1058428 | 2.733947 | 1.3259219 | 1.865876 | 1.7705485 | 1.9169945 | 1.8410087 | ⋯ | 19.64354 | 16.83726 |  9.974132 | 25.69529 | 7.608355 | 29.66111 | 22.55539 |  9.649642 |  4.16149 | 529 |\n",
       "| chr1 | 4000001 | 1.755230 | 0.8019908 | 1.247900 | 0.4344994 | 0.395774 | 0.6742724 | 0.4020992 | 0.3389768 | ⋯ | 15.36473 | 36.71549 | 28.632269 |  8.97739 | 8.460000 | 14.95429 | 24.74951 | 29.078391 | 13.69341 | 688 |\n",
       "\n"
      ],
      "text/plain": [
       "  chr  start   ACC TCGA-OR-A5J2 ACC TCGA-OR-A5J3 ACC TCGA-OR-A5J6\n",
       "1 chr1 2000001 3.985625         3.3680199        4.549601        \n",
       "2 chr1 3000001 3.777538         2.1058428        2.733947        \n",
       "3 chr1 4000001 1.755230         0.8019908        1.247900        \n",
       "  ACC TCGA-OR-A5J9 ACC TCGA-OR-A5JZ ACC TCGA-OR-A5K8 ACC TCGA-OR-A5KX\n",
       "1 1.8892585        3.274139         3.1206030        2.9564165       \n",
       "2 1.3259219        1.865876         1.7705485        1.9169945       \n",
       "3 0.4344994        0.395774         0.6742724        0.4020992       \n",
       "  ACC TCGA-PA-A5YG <U+22EF>        Repli seq of NHEK S2 phase\n",
       "1 3.9239266        <U+22EF> 12.02102                  \n",
       "2 1.8410087        <U+22EF> 19.64354                  \n",
       "3 0.3389768        <U+22EF> 15.36473                  \n",
       "  Repli seq of NHEK S3 phase Repli seq of NHEK S4 phase\n",
       "1 11.92807                    8.420803                 \n",
       "2 16.83726                    9.974132                 \n",
       "3 36.71549                   28.632269                 \n",
       "  Repli seq of SK N SH G1 phase Repli seq of SK N SH G2 phase\n",
       "1 39.16145                      9.017025                     \n",
       "2 25.69529                      7.608355                     \n",
       "3  8.97739                      8.460000                     \n",
       "  Repli seq of SK N SH S1 phase Repli seq of SK N SH S2 phase\n",
       "1 22.80582                      13.88087                     \n",
       "2 29.66111                      22.55539                     \n",
       "3 14.95429                      24.74951                     \n",
       "  Repli seq of SK N SH S3 phase Repli seq of SK N SH S4 phase Breast-AdenoCa\n",
       "1  5.706045                      3.00250                      403           \n",
       "2  9.649642                      4.16149                      529           \n",
       "3 29.078391                     13.69341                      688           "
      ]
     },
     "metadata": {},
     "output_type": "display_data"
    }
   ],
   "source": [
    "CA_RT_breastcancermuts = merge(CA_RT_MBscale, \n",
    "\t\t\t\t\t\t\t\t\tPCAWG_mutations_binned_MBscale[,c(\"chr\", \"start\", \"Breast-AdenoCa\")], \n",
    "\t\t\t\t\t\t\t\t\tby=c(\"chr\", \"start\"))\n",
    "head(CA_RT_breastcancermuts, 3)"
   ]
  },
  {
   "cell_type": "markdown",
   "metadata": {},
   "source": [
    "Now we train a random forest models on the combined CA and RT predictor set to predict regional mutation burden in breast cancer and then we assess the importance of each CA/RT predictor using a permutation-based importance."
   ]
  },
  {
   "cell_type": "code",
   "execution_count": 18,
   "metadata": {},
   "outputs": [
    {
     "data": {
      "text/html": [
       "<style>\n",
       ".list-inline {list-style: none; margin:0; padding: 0}\n",
       ".list-inline>li {display: inline-block}\n",
       ".list-inline>li:not(:last-child)::after {content: \"\\00b7\"; padding: 0 .5ex}\n",
       "</style>\n",
       "<ol class=list-inline><li>'BRCA TCGA-BH-A0B1'</li><li>'BRCA TCGA-C8-A133'</li><li>'BRCA TCGA-A2-A0T7'</li><li>'Repli seq of MCF 7 G2 phase'</li><li>'BRCA TCGA-A7-A0CH'</li></ol>\n"
      ],
      "text/latex": [
       "\\begin{enumerate*}\n",
       "\\item 'BRCA TCGA-BH-A0B1'\n",
       "\\item 'BRCA TCGA-C8-A133'\n",
       "\\item 'BRCA TCGA-A2-A0T7'\n",
       "\\item 'Repli seq of MCF 7 G2 phase'\n",
       "\\item 'BRCA TCGA-A7-A0CH'\n",
       "\\end{enumerate*}\n"
      ],
      "text/markdown": [
       "1. 'BRCA TCGA-BH-A0B1'\n",
       "2. 'BRCA TCGA-C8-A133'\n",
       "3. 'BRCA TCGA-A2-A0T7'\n",
       "4. 'Repli seq of MCF 7 G2 phase'\n",
       "5. 'BRCA TCGA-A7-A0CH'\n",
       "\n",
       "\n"
      ],
      "text/plain": [
       "[1] \"BRCA TCGA-BH-A0B1\"           \"BRCA TCGA-C8-A133\"          \n",
       "[3] \"BRCA TCGA-A2-A0T7\"           \"Repli seq of MCF 7 G2 phase\"\n",
       "[5] \"BRCA TCGA-A7-A0CH\"          "
      ]
     },
     "metadata": {},
     "output_type": "display_data"
    }
   ],
   "source": [
    "#Assign variables to predictors and response\n",
    "predictors = CA_RT_breastcancermuts[,-c(\"chr\", \"start\", \"Breast-AdenoCa\")]\n",
    "response = CA_RT_breastcancermuts[[\"Breast-AdenoCa\"]]\n",
    "\n",
    "#Train randomForest model\n",
    "rf = randomForest(x = predictors, y = response, \n",
    "\t\t\t\t\t\t\t keep.forest = T, ntree = 100, \n",
    "\t\t\t\t\t\t\t do.trace = F, importance = T)\n",
    "\n",
    "#Get predictor importances  (incMSE)\n",
    "importances = as.numeric(importance(rf, type = 1, scale = F))\n",
    "\n",
    "#Print the top 5 predictors in terms of importance\n",
    "colnames(predictors)[order(importances, decreasing = T)][1:5]"
   ]
  },
  {
   "cell_type": "markdown",
   "metadata": {},
   "source": [
    "Here we can see that 4 of the top 5 predictors are coming from primary breast cancer chromatin accessibility tracks."
   ]
  },
  {
   "cell_type": "markdown",
   "metadata": {},
   "source": [
    "Next, we can use a permutation test to create a null distribution for the importances of each predictor so we can derive significance and a p-value for the importance values we just calculated. For each iteration in permutation test, we scramble the output without replacement and then measure the importance of each predictors when we remove the associations between the predictors and the response. This creates a null distribution of importances for each predictor that is used as a reference when calculating p-values."
   ]
  },
  {
   "cell_type": "code",
   "execution_count": 22,
   "metadata": {},
   "outputs": [],
   "source": [
    "#Function to run iterations of the permutation test\n",
    "get_permutation_importance = function(seed){\n",
    "    \n",
    "\t#Set the random seed for the permutation\n",
    "\tset.seed(seed)\n",
    "\n",
    "    #Randomly permute response without replacement\n",
    "    response_scrambled = sample(as.numeric(response))\n",
    "\n",
    "    #Train randomForest to predict scrambled output, \n",
    "\t#For this tutorial we will use 10 trees to speed the process up but any number can be used\n",
    "    rf = randomForest(x = predictors, y = response_scrambled, keep.forest = T, \n",
    "\t\t\t\t\tntree = 10, do.trace = F, importance = T)\n",
    "    \n",
    "    return(as.numeric(importance(rf, type = 1, scale = F)))}\n",
    "\n",
    "#For this tutorial, we will run 20 iterations but this can be considerably more in practice\n",
    "RF_permutatation_results = as.data.table(do.call(\"rbind.data.frame\", \n",
    "\t\t\t\t\t\t\t\t  lapply(1:20, get_permutation_importance)))\n",
    "colnames(RF_permutatation_results) = colnames(predictors)"
   ]
  },
  {
   "cell_type": "markdown",
   "metadata": {},
   "source": [
    "Here each row of the results table represents an iteration of the permutation test and each column represents a predictor. We now compare the real importances to this distribution of null importances to calculate a p-value for each predictor by asking what fraction of the null importances are greater (more important) than the real importance value. The smaller that this fraction is, the more significant the result."
   ]
  },
  {
   "cell_type": "code",
   "execution_count": 24,
   "metadata": {},
   "outputs": [],
   "source": [
    "predictor_pvals = unlist(lapply(1:ncol(predictors), \n",
    "\t\t\t\t\t\t\t\t\tfunction(x)  sum(importances[x] < RF_permutatation_results[[x]])/20))"
   ]
  },
  {
   "cell_type": "markdown",
   "metadata": {},
   "source": [
    "As we have only done 20 permutations, the p-value analysis is under-powered but we will display the significant predictors for the sake of the tutorial."
   ]
  },
  {
   "cell_type": "code",
   "execution_count": 27,
   "metadata": {},
   "outputs": [
    {
     "data": {
      "text/html": [
       "<style>\n",
       ".list-inline {list-style: none; margin:0; padding: 0}\n",
       ".list-inline>li {display: inline-block}\n",
       ".list-inline>li:not(:last-child)::after {content: \"\\00b7\"; padding: 0 .5ex}\n",
       "</style>\n",
       "<ol class=list-inline><li>'BLCA TCGA-CU-A3YL'</li><li>'BRCA TCGA-A2-A0EW'</li><li>'BRCA TCGA-A2-A0T7'</li><li>'BRCA TCGA-A2-A0YD'</li><li>'BRCA TCGA-A7-A0CH'</li><li>'BRCA TCGA-A8-A06N'</li><li>'BRCA TCGA-AO-A0J8'</li><li>'BRCA TCGA-AR-A0U4'</li><li>'BRCA TCGA-BH-A0B1'</li><li>'BRCA TCGA-BH-A0BA'</li><li>'BRCA TCGA-BH-A0BZ'</li><li>'BRCA TCGA-BH-A0DV'</li><li>'BRCA TCGA-BH-A0HP'</li><li>'BRCA TCGA-C8-A12O'</li><li>'BRCA TCGA-C8-A133'</li><li>'LUAD TCGA-86-A4D0'</li><li>'STAD TCGA-BR-A452'</li><li>'STAD TCGA-BR-A4IY'</li><li>'UCEC TCGA-AP-A051'</li><li>'UCEC TCGA-BG-A0MK'</li><li>'Repli seq of HepG2 G2 phase'</li><li>'Repli seq of MCF 7 G2 phase'</li></ol>\n"
      ],
      "text/latex": [
       "\\begin{enumerate*}\n",
       "\\item 'BLCA TCGA-CU-A3YL'\n",
       "\\item 'BRCA TCGA-A2-A0EW'\n",
       "\\item 'BRCA TCGA-A2-A0T7'\n",
       "\\item 'BRCA TCGA-A2-A0YD'\n",
       "\\item 'BRCA TCGA-A7-A0CH'\n",
       "\\item 'BRCA TCGA-A8-A06N'\n",
       "\\item 'BRCA TCGA-AO-A0J8'\n",
       "\\item 'BRCA TCGA-AR-A0U4'\n",
       "\\item 'BRCA TCGA-BH-A0B1'\n",
       "\\item 'BRCA TCGA-BH-A0BA'\n",
       "\\item 'BRCA TCGA-BH-A0BZ'\n",
       "\\item 'BRCA TCGA-BH-A0DV'\n",
       "\\item 'BRCA TCGA-BH-A0HP'\n",
       "\\item 'BRCA TCGA-C8-A12O'\n",
       "\\item 'BRCA TCGA-C8-A133'\n",
       "\\item 'LUAD TCGA-86-A4D0'\n",
       "\\item 'STAD TCGA-BR-A452'\n",
       "\\item 'STAD TCGA-BR-A4IY'\n",
       "\\item 'UCEC TCGA-AP-A051'\n",
       "\\item 'UCEC TCGA-BG-A0MK'\n",
       "\\item 'Repli seq of HepG2 G2 phase'\n",
       "\\item 'Repli seq of MCF 7 G2 phase'\n",
       "\\end{enumerate*}\n"
      ],
      "text/markdown": [
       "1. 'BLCA TCGA-CU-A3YL'\n",
       "2. 'BRCA TCGA-A2-A0EW'\n",
       "3. 'BRCA TCGA-A2-A0T7'\n",
       "4. 'BRCA TCGA-A2-A0YD'\n",
       "5. 'BRCA TCGA-A7-A0CH'\n",
       "6. 'BRCA TCGA-A8-A06N'\n",
       "7. 'BRCA TCGA-AO-A0J8'\n",
       "8. 'BRCA TCGA-AR-A0U4'\n",
       "9. 'BRCA TCGA-BH-A0B1'\n",
       "10. 'BRCA TCGA-BH-A0BA'\n",
       "11. 'BRCA TCGA-BH-A0BZ'\n",
       "12. 'BRCA TCGA-BH-A0DV'\n",
       "13. 'BRCA TCGA-BH-A0HP'\n",
       "14. 'BRCA TCGA-C8-A12O'\n",
       "15. 'BRCA TCGA-C8-A133'\n",
       "16. 'LUAD TCGA-86-A4D0'\n",
       "17. 'STAD TCGA-BR-A452'\n",
       "18. 'STAD TCGA-BR-A4IY'\n",
       "19. 'UCEC TCGA-AP-A051'\n",
       "20. 'UCEC TCGA-BG-A0MK'\n",
       "21. 'Repli seq of HepG2 G2 phase'\n",
       "22. 'Repli seq of MCF 7 G2 phase'\n",
       "\n",
       "\n"
      ],
      "text/plain": [
       " [1] \"BLCA TCGA-CU-A3YL\"           \"BRCA TCGA-A2-A0EW\"          \n",
       " [3] \"BRCA TCGA-A2-A0T7\"           \"BRCA TCGA-A2-A0YD\"          \n",
       " [5] \"BRCA TCGA-A7-A0CH\"           \"BRCA TCGA-A8-A06N\"          \n",
       " [7] \"BRCA TCGA-AO-A0J8\"           \"BRCA TCGA-AR-A0U4\"          \n",
       " [9] \"BRCA TCGA-BH-A0B1\"           \"BRCA TCGA-BH-A0BA\"          \n",
       "[11] \"BRCA TCGA-BH-A0BZ\"           \"BRCA TCGA-BH-A0DV\"          \n",
       "[13] \"BRCA TCGA-BH-A0HP\"           \"BRCA TCGA-C8-A12O\"          \n",
       "[15] \"BRCA TCGA-C8-A133\"           \"LUAD TCGA-86-A4D0\"          \n",
       "[17] \"STAD TCGA-BR-A452\"           \"STAD TCGA-BR-A4IY\"          \n",
       "[19] \"UCEC TCGA-AP-A051\"           \"UCEC TCGA-BG-A0MK\"          \n",
       "[21] \"Repli seq of HepG2 G2 phase\" \"Repli seq of MCF 7 G2 phase\""
      ]
     },
     "metadata": {},
     "output_type": "display_data"
    }
   ],
   "source": [
    "colnames(predictors)[which(predictor_pvals == 0)]"
   ]
  },
  {
   "cell_type": "markdown",
   "metadata": {},
   "source": [
    "The significant predictors are mostly derived from primary breast cancer chromatin accessibility as expected."
   ]
  },
  {
   "cell_type": "markdown",
   "metadata": {},
   "source": [
    "Finally, we can do some bootstrapping (sampling both the predictors and the response with replacement) to develop a distribution of real importance values and understand the variation in the importance value."
   ]
  },
  {
   "cell_type": "code",
   "execution_count": 29,
   "metadata": {},
   "outputs": [],
   "source": [
    "#Function to run iterations of the bootstrap\n",
    "get_bootstrap_importance = function(seed){\n",
    "    \n",
    "\t#Set the random seed for the permutation\n",
    "\tset.seed(seed)\n",
    "\n",
    "    #Bootstrap sample predictors and response of RF model\n",
    "    bootstrap_sample = sample(nrow(predictors), replace = T)\n",
    "    predictors_bootstrap = predictors[bootstrap_sample]\n",
    "    response_bootstrap = response[bootstrap_sample]\n",
    "\n",
    "    #Train randomForest\n",
    "    rf = randomForest(x = predictors_bootstrap, \n",
    "\t\t\t\t\t  y = response_bootstrap, \n",
    "\t\t\t\t\t  keep.forest = T, \n",
    "\t\t\t\t\t  ntree = 10, \n",
    "\t\t\t\t\t  do.trace = F,\n",
    "\t\t\t\t\t  importance = T)\n",
    "    \n",
    "    \n",
    "    return(as.numeric(importance(rf, type = 1, scale = F)))}\n",
    "\n",
    "#For this tutorial, we will run 20 iterations but this can be considerably more in practice\n",
    "RF_bootstrap_results = as.data.table(do.call(\"rbind.data.frame\", \n",
    "\t\t\t\t\t\t\t\t  lapply(1:20, get_bootstrap_importance)))\n",
    "colnames(RF_bootstrap_results) = colnames(predictors)"
   ]
  },
  {
   "cell_type": "markdown",
   "metadata": {},
   "source": [
    "Let us look at the predictor with the highest mean importance value from the bootstrap distribution and display its standard deviation and corresponding p-value."
   ]
  },
  {
   "cell_type": "code",
   "execution_count": 35,
   "metadata": {},
   "outputs": [
    {
     "name": "stdout",
     "output_type": "stream",
     "text": [
      "[1] \"Most important predictor is: BRCA TCGA-BH-A0B1\"\n",
      "[1] \"Its mean importance is: 4572.31522408921\"\n",
      "[1] \"The standard deviation of its importance is: 1288.19169213172\"\n",
      "[1] \"The p-value of its importance is: 0\"\n"
     ]
    }
   ],
   "source": [
    "mean_importances = apply(RF_bootstrap_results, 2, mean)\n",
    "sd_importances = apply(RF_bootstrap_results, 2, sd)\n",
    "\n",
    "print(paste(\"Most important predictor is:\", colnames(predictors)[which.max(mean_importances)]))\n",
    "print(paste(\"Its mean importance is:\", mean_importances[which.max(mean_importances)]))\n",
    "print(paste(\"The standard deviation of its importance is:\", sd_importances[which.max(mean_importances)]))\n",
    "print(paste(\"The p-value of its importance is:\", predictor_pvals[which.max(mean_importances)]))"
   ]
  },
  {
   "cell_type": "markdown",
   "metadata": {},
   "source": [
    "Now we have a true importance, a p-value, and a bootstrap distribution for every predictor's importance value in this analysis."
   ]
  }
 ],
 "metadata": {
  "kernelspec": {
   "display_name": "R",
   "language": "R",
   "name": "ir"
  },
  "language_info": {
   "codemirror_mode": "r",
   "file_extension": ".r",
   "mimetype": "text/x-r-source",
   "name": "R",
   "pygments_lexer": "r",
   "version": "4.0.3"
  }
 },
 "nbformat": 4,
 "nbformat_minor": 4
}
